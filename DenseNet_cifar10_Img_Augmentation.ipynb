{
 "cells": [
  {
   "cell_type": "code",
   "execution_count": 13,
   "metadata": {
    "colab": {
     "base_uri": "https://localhost:8080/",
     "height": 207
    },
    "colab_type": "code",
    "id": "wVIx_KIigxPV",
    "outputId": "3dd56208-b0fc-4bce-a9ae-197c4d15a508"
   },
   "outputs": [
    {
     "name": "stdout",
     "output_type": "stream",
     "text": [
      "Requirement already satisfied: keras_adabound in /usr/local/lib/python3.6/dist-packages (0.6.0)\n",
      "Requirement already satisfied: numpy in /usr/local/lib/python3.6/dist-packages (from keras_adabound) (1.18.5)\n",
      "Requirement already satisfied: typeguard in /usr/local/lib/python3.6/dist-packages (from keras_adabound) (2.7.1)\n",
      "Requirement already satisfied: Keras in /usr/local/lib/python3.6/dist-packages (from keras_adabound) (2.3.1)\n",
      "Requirement already satisfied: pyyaml in /usr/local/lib/python3.6/dist-packages (from Keras->keras_adabound) (3.13)\n",
      "Requirement already satisfied: keras-preprocessing>=1.0.5 in /usr/local/lib/python3.6/dist-packages (from Keras->keras_adabound) (1.1.2)\n",
      "Requirement already satisfied: scipy>=0.14 in /usr/local/lib/python3.6/dist-packages (from Keras->keras_adabound) (1.4.1)\n",
      "Requirement already satisfied: keras-applications>=1.0.6 in /usr/local/lib/python3.6/dist-packages (from Keras->keras_adabound) (1.0.8)\n",
      "Requirement already satisfied: six>=1.9.0 in /usr/local/lib/python3.6/dist-packages (from Keras->keras_adabound) (1.12.0)\n",
      "Requirement already satisfied: h5py in /usr/local/lib/python3.6/dist-packages (from Keras->keras_adabound) (2.10.0)\n"
     ]
    }
   ],
   "source": [
    "# import keras\n",
    "# from keras.datasets import cifar10\n",
    "# from keras.models import Model, Sequential\n",
    "# from keras.layers import Dense, Dropout, Flatten, Input, AveragePooling2D, merge, Activation\n",
    "# from keras.layers import Conv2D, MaxPooling2D, BatchNormalization\n",
    "# from keras.layers import Concatenate\n",
    "# from keras.optimizers import Adam\n",
    "import numpy as np\n",
    "import matplotlib.pyplot as plt\n",
    "import tensorflow as tf\n",
    "from tqdm import tqdm\n",
    "from prettytable import PrettyTable\n",
    "from numpy import expand_dims\n",
    "!pip install keras_adabound\n",
    "from keras_adabound import AdaBound\n",
    "from tensorflow.keras.datasets import cifar10\n",
    "from tensorflow.keras.utils import to_categorical\n",
    "from tensorflow.keras import models, layers\n",
    "from tensorflow.keras.models import Model\n",
    "from tensorflow.keras.layers import BatchNormalization, Activation, Flatten\n",
    "from tensorflow.keras.callbacks import ModelCheckpoint, LearningRateScheduler, CSVLogger, Callback, ReduceLROnPlateau, EarlyStopping\n",
    "from keras.preprocessing.image import load_img\n",
    "from keras.preprocessing.image import img_to_array\n",
    "from keras.preprocessing.image import ImageDataGenerator\n",
    "from tensorflow.keras.optimizers import Adam, SGD"
   ]
  },
  {
   "cell_type": "code",
   "execution_count": 2,
   "metadata": {
    "colab": {
     "base_uri": "https://localhost:8080/",
     "height": 122
    },
    "colab_type": "code",
    "id": "4UQj8tcCOLq7",
    "outputId": "4949ceba-a789-4825-dfa9-37b1da5e1691"
   },
   "outputs": [
    {
     "name": "stdout",
     "output_type": "stream",
     "text": [
      "Go to this URL in a browser: https://accounts.google.com/o/oauth2/auth?client_id=947318989803-6bn6qk8qdgf4n4g3pfee6491hc0brc4i.apps.googleusercontent.com&redirect_uri=urn%3aietf%3awg%3aoauth%3a2.0%3aoob&response_type=code&scope=email%20https%3a%2f%2fwww.googleapis.com%2fauth%2fdocs.test%20https%3a%2f%2fwww.googleapis.com%2fauth%2fdrive%20https%3a%2f%2fwww.googleapis.com%2fauth%2fdrive.photos.readonly%20https%3a%2f%2fwww.googleapis.com%2fauth%2fpeopleapi.readonly\n",
      "\n",
      "Enter your authorization code:\n",
      "··········\n",
      "Mounted at gdrive\n"
     ]
    }
   ],
   "source": [
    "from google.colab import drive\n",
    "drive.mount('gdrive',force_remount=True)"
   ]
  },
  {
   "cell_type": "code",
   "execution_count": 14,
   "metadata": {
    "colab": {},
    "colab_type": "code",
    "id": "dsO_yGxcg5D8"
   },
   "outputs": [],
   "source": [
    "# Hyperparameters\n",
    "batch_size = 128\n",
    "num_classes = 10\n",
    "epochs = 10\n",
    "nb_layers = 40\n",
    "num_filter = 12\n",
    "compression = 0.5\n",
    "dropout_rate = 0.2"
   ]
  },
  {
   "cell_type": "code",
   "execution_count": 47,
   "metadata": {
    "colab": {},
    "colab_type": "code",
    "id": "mB7o3zu1g6eT"
   },
   "outputs": [],
   "source": [
    "# Load CIFAR10 Data\n",
    "(X_train, y_train), (X_test, y_test) = cifar10.load_data()\n",
    "img_height, img_width, channel = X_train.shape[1],X_train.shape[2],X_train.shape[3]\n",
    "\n",
    "# convert to one hot encoing \n",
    "y_train = to_categorical(y_train, num_classes)\n",
    "y_test = to_categorical(y_test, num_classes) "
   ]
  },
  {
   "cell_type": "code",
   "execution_count": 25,
   "metadata": {
    "colab": {},
    "colab_type": "code",
    "id": "jy2xN3T8zEv8"
   },
   "outputs": [],
   "source": [
    "# Normalize data.\n",
    "X_train = X_train.astype('float32') / 255.\n",
    "X_test = X_test.astype('float32') / 255."
   ]
  },
  {
   "cell_type": "code",
   "execution_count": null,
   "metadata": {
    "colab": {
     "base_uri": "https://localhost:8080/",
     "height": 34
    },
    "colab_type": "code",
    "id": "3lAk_Mw_5-rn",
    "outputId": "64e6f87f-69d8-4dc8-fcd2-6864907b37ac"
   },
   "outputs": [
    {
     "data": {
      "text/plain": [
       "(50000, 32, 32, 3)"
      ]
     },
     "execution_count": 4,
     "metadata": {
      "tags": []
     },
     "output_type": "execute_result"
    }
   ],
   "source": [
    "X_train.shape"
   ]
  },
  {
   "cell_type": "code",
   "execution_count": null,
   "metadata": {
    "colab": {
     "base_uri": "https://localhost:8080/",
     "height": 34
    },
    "colab_type": "code",
    "id": "DVkpgHsc5-rp",
    "outputId": "0dca7893-fdfe-48a9-d9f1-994c3139c748"
   },
   "outputs": [
    {
     "data": {
      "text/plain": [
       "(10000, 32, 32, 3)"
      ]
     },
     "execution_count": 5,
     "metadata": {
      "tags": []
     },
     "output_type": "execute_result"
    }
   ],
   "source": [
    "X_test.shape"
   ]
  },
  {
   "cell_type": "code",
   "execution_count": 5,
   "metadata": {
    "colab": {},
    "colab_type": "code",
    "id": "ee-sge5Kg7vr"
   },
   "outputs": [],
   "source": [
    "# Dense Block\n",
    "def denseblock(input, num_filter = 12, dropout_rate = 0.2, nb_layers=40):\n",
    "    global compression\n",
    "    temp = input\n",
    "    for _ in range(nb_layers):\n",
    "        BatchNorm = layers.BatchNormalization()(temp)\n",
    "        relu = layers.Activation('relu')(BatchNorm)\n",
    "        Conv2D_3_3 = layers.Conv2D(int(num_filter*compression), (3,3), use_bias=False ,padding='same')(relu)\n",
    "        if dropout_rate>0:\n",
    "            Conv2D_3_3 = layers.Dropout(dropout_rate)(Conv2D_3_3)\n",
    "        concat = layers.Concatenate(axis=-1)([temp,Conv2D_3_3])\n",
    "        \n",
    "        temp = concat\n",
    "        \n",
    "    return temp\n",
    "\n",
    "## transition Blosck\n",
    "def transition(input, num_filter = 12, dropout_rate = 0.2):\n",
    "    global compression\n",
    "    BatchNorm = layers.BatchNormalization()(input)\n",
    "    relu = layers.Activation('relu')(BatchNorm)\n",
    "    Conv2D_BottleNeck = layers.Conv2D(int(num_filter*compression), (1,1), use_bias=False ,padding='same')(relu)\n",
    "    if dropout_rate>0:\n",
    "         Conv2D_BottleNeck = layers.Dropout(dropout_rate)(Conv2D_BottleNeck)\n",
    "    avg = layers.AveragePooling2D(pool_size=(2,2))(Conv2D_BottleNeck)\n",
    "    return avg\n",
    "\n",
    "#output layer\n",
    "def output_layer(input):\n",
    "    global compression\n",
    "    BatchNorm = layers.BatchNormalization()(input)\n",
    "    relu = layers.Activation('relu')(BatchNorm)\n",
    "    AvgPooling = layers.AveragePooling2D(pool_size=(2,2))(relu)\n",
    "    flat = layers.Flatten()(AvgPooling)\n",
    "    output = layers.Dense(num_classes, activation='softmax')(flat)\n",
    "    return output"
   ]
  },
  {
   "cell_type": "code",
   "execution_count": null,
   "metadata": {
    "colab": {},
    "colab_type": "code",
    "id": "anPCpQWhhGb7"
   },
   "outputs": [],
   "source": [
    "input = layers.Input(shape=(img_height, img_width, channel,))\n",
    "First_Conv2D = layers.Conv2D(num_filter, (3,3), use_bias=False ,padding='same')(input)\n",
    "\n",
    "First_Block = denseblock(First_Conv2D, num_filter, dropout_rate)\n",
    "First_Transition = transition(First_Block, num_filter, dropout_rate)\n",
    "\n",
    "Second_Block = denseblock(First_Transition, num_filter, dropout_rate)\n",
    "Second_Transition = transition(Second_Block, num_filter, dropout_rate)\n",
    "\n",
    "Third_Block = denseblock(Second_Transition, num_filter, dropout_rate)\n",
    "Third_Transition = transition(Third_Block, num_filter, dropout_rate)\n",
    "\n",
    "Last_Block = denseblock(Third_Transition,  num_filter, dropout_rate)\n",
    "output = output_layer(Last_Block)"
   ]
  },
  {
   "cell_type": "code",
   "execution_count": null,
   "metadata": {
    "colab": {},
    "colab_type": "code",
    "id": "c5Wksy8z5-rw",
    "outputId": "242f1c0a-2e46-42e2-f417-57747f5f4e69"
   },
   "outputs": [
    {
     "data": {
      "image/jpeg": "[encoded data removed]",
      "text/html": [
       "\n",
       "        <iframe\n",
       "            width=\"600\"\n",
       "            height=\"300\"\n",
       "            src=\"https://www.youtube.com/embed/-W6y8xnd--U\"\n",
       "            frameborder=\"0\"\n",
       "            allowfullscreen\n",
       "        ></iframe>\n",
       "        "
      ],
      "text/plain": [
       "<IPython.lib.display.YouTubeVideo at 0x1ec58acc2e8>"
      ]
     },
     "execution_count": 24,
     "metadata": {
      "tags": []
     },
     "output_type": "execute_result"
    }
   ],
   "source": [
    "#https://arxiv.org/pdf/1608.06993.pdf\n",
    "from IPython.display import IFrame, YouTubeVideo\n",
    "YouTubeVideo(id='-W6y8xnd--U', width=600)"
   ]
  },
  {
   "cell_type": "code",
   "execution_count": null,
   "metadata": {
    "colab": {
     "base_uri": "https://localhost:8080/",
     "height": 1000
    },
    "colab_type": "code",
    "id": "1kFh7pdxhNtT",
    "outputId": "a5fe9d1a-e5e0-4604-8516-0c430dfa31f9",
    "scrolled": true
   },
   "outputs": [
    {
     "name": "stdout",
     "output_type": "stream",
     "text": [
      "Model: \"model\"\n",
      "__________________________________________________________________________________________________\n",
      "Layer (type)                    Output Shape         Param #     Connected to                     \n",
      "==================================================================================================\n",
      "input_1 (InputLayer)            [(None, 32, 32, 3)]  0                                            \n",
      "__________________________________________________________________________________________________\n",
      "conv2d (Conv2D)                 (None, 32, 32, 12)   324         input_1[0][0]                    \n",
      "__________________________________________________________________________________________________\n",
      "batch_normalization (BatchNorma (None, 32, 32, 12)   48          conv2d[0][0]                     \n",
      "__________________________________________________________________________________________________\n",
      "activation (Activation)         (None, 32, 32, 12)   0           batch_normalization[0][0]        \n",
      "__________________________________________________________________________________________________\n",
      "conv2d_1 (Conv2D)               (None, 32, 32, 6)    648         activation[0][0]                 \n",
      "__________________________________________________________________________________________________\n",
      "dropout (Dropout)               (None, 32, 32, 6)    0           conv2d_1[0][0]                   \n",
      "__________________________________________________________________________________________________\n",
      "concatenate (Concatenate)       (None, 32, 32, 18)   0           conv2d[0][0]                     \n",
      "                                                                 dropout[0][0]                    \n",
      "__________________________________________________________________________________________________\n",
      "batch_normalization_1 (BatchNor (None, 32, 32, 18)   72          concatenate[0][0]                \n",
      "__________________________________________________________________________________________________\n",
      "activation_1 (Activation)       (None, 32, 32, 18)   0           batch_normalization_1[0][0]      \n",
      "__________________________________________________________________________________________________\n",
      "conv2d_2 (Conv2D)               (None, 32, 32, 6)    972         activation_1[0][0]               \n",
      "__________________________________________________________________________________________________\n",
      "dropout_1 (Dropout)             (None, 32, 32, 6)    0           conv2d_2[0][0]                   \n",
      "__________________________________________________________________________________________________\n",
      "concatenate_1 (Concatenate)     (None, 32, 32, 24)   0           concatenate[0][0]                \n",
      "                                                                 dropout_1[0][0]                  \n",
      "__________________________________________________________________________________________________\n",
      "batch_normalization_2 (BatchNor (None, 32, 32, 24)   96          concatenate_1[0][0]              \n",
      "__________________________________________________________________________________________________\n",
      "activation_2 (Activation)       (None, 32, 32, 24)   0           batch_normalization_2[0][0]      \n",
      "__________________________________________________________________________________________________\n",
      "conv2d_3 (Conv2D)               (None, 32, 32, 6)    1296        activation_2[0][0]               \n",
      "__________________________________________________________________________________________________\n",
      "dropout_2 (Dropout)             (None, 32, 32, 6)    0           conv2d_3[0][0]                   \n",
      "__________________________________________________________________________________________________\n",
      "concatenate_2 (Concatenate)     (None, 32, 32, 30)   0           concatenate_1[0][0]              \n",
      "                                                                 dropout_2[0][0]                  \n",
      "__________________________________________________________________________________________________\n",
      "batch_normalization_3 (BatchNor (None, 32, 32, 30)   120         concatenate_2[0][0]              \n",
      "__________________________________________________________________________________________________\n",
      "activation_3 (Activation)       (None, 32, 32, 30)   0           batch_normalization_3[0][0]      \n",
      "__________________________________________________________________________________________________\n",
      "conv2d_4 (Conv2D)               (None, 32, 32, 6)    1620        activation_3[0][0]               \n",
      "__________________________________________________________________________________________________\n",
      "dropout_3 (Dropout)             (None, 32, 32, 6)    0           conv2d_4[0][0]                   \n",
      "__________________________________________________________________________________________________\n",
      "concatenate_3 (Concatenate)     (None, 32, 32, 36)   0           concatenate_2[0][0]              \n",
      "                                                                 dropout_3[0][0]                  \n",
      "__________________________________________________________________________________________________\n",
      "batch_normalization_4 (BatchNor (None, 32, 32, 36)   144         concatenate_3[0][0]              \n",
      "__________________________________________________________________________________________________\n",
      "activation_4 (Activation)       (None, 32, 32, 36)   0           batch_normalization_4[0][0]      \n",
      "__________________________________________________________________________________________________\n",
      "conv2d_5 (Conv2D)               (None, 32, 32, 6)    1944        activation_4[0][0]               \n",
      "__________________________________________________________________________________________________\n",
      "dropout_4 (Dropout)             (None, 32, 32, 6)    0           conv2d_5[0][0]                   \n",
      "__________________________________________________________________________________________________\n",
      "concatenate_4 (Concatenate)     (None, 32, 32, 42)   0           concatenate_3[0][0]              \n",
      "                                                                 dropout_4[0][0]                  \n",
      "__________________________________________________________________________________________________\n",
      "batch_normalization_5 (BatchNor (None, 32, 32, 42)   168         concatenate_4[0][0]              \n",
      "__________________________________________________________________________________________________\n",
      "activation_5 (Activation)       (None, 32, 32, 42)   0           batch_normalization_5[0][0]      \n",
      "__________________________________________________________________________________________________\n",
      "conv2d_6 (Conv2D)               (None, 32, 32, 6)    2268        activation_5[0][0]               \n",
      "__________________________________________________________________________________________________\n",
      "dropout_5 (Dropout)             (None, 32, 32, 6)    0           conv2d_6[0][0]                   \n",
      "__________________________________________________________________________________________________\n",
      "concatenate_5 (Concatenate)     (None, 32, 32, 48)   0           concatenate_4[0][0]              \n",
      "                                                                 dropout_5[0][0]                  \n",
      "__________________________________________________________________________________________________\n",
      "batch_normalization_6 (BatchNor (None, 32, 32, 48)   192         concatenate_5[0][0]              \n",
      "__________________________________________________________________________________________________\n",
      "activation_6 (Activation)       (None, 32, 32, 48)   0           batch_normalization_6[0][0]      \n",
      "__________________________________________________________________________________________________\n",
      "conv2d_7 (Conv2D)               (None, 32, 32, 6)    2592        activation_6[0][0]               \n",
      "__________________________________________________________________________________________________\n",
      "dropout_6 (Dropout)             (None, 32, 32, 6)    0           conv2d_7[0][0]                   \n",
      "__________________________________________________________________________________________________\n",
      "concatenate_6 (Concatenate)     (None, 32, 32, 54)   0           concatenate_5[0][0]              \n",
      "                                                                 dropout_6[0][0]                  \n",
      "__________________________________________________________________________________________________\n",
      "batch_normalization_7 (BatchNor (None, 32, 32, 54)   216         concatenate_6[0][0]              \n",
      "__________________________________________________________________________________________________\n",
      "activation_7 (Activation)       (None, 32, 32, 54)   0           batch_normalization_7[0][0]      \n",
      "__________________________________________________________________________________________________\n",
      "conv2d_8 (Conv2D)               (None, 32, 32, 6)    2916        activation_7[0][0]               \n",
      "__________________________________________________________________________________________________\n",
      "dropout_7 (Dropout)             (None, 32, 32, 6)    0           conv2d_8[0][0]                   \n",
      "__________________________________________________________________________________________________\n",
      "concatenate_7 (Concatenate)     (None, 32, 32, 60)   0           concatenate_6[0][0]              \n",
      "                                                                 dropout_7[0][0]                  \n",
      "__________________________________________________________________________________________________\n",
      "batch_normalization_8 (BatchNor (None, 32, 32, 60)   240         concatenate_7[0][0]              \n",
      "__________________________________________________________________________________________________\n",
      "activation_8 (Activation)       (None, 32, 32, 60)   0           batch_normalization_8[0][0]      \n",
      "__________________________________________________________________________________________________\n",
      "conv2d_9 (Conv2D)               (None, 32, 32, 6)    3240        activation_8[0][0]               \n",
      "__________________________________________________________________________________________________\n",
      "dropout_8 (Dropout)             (None, 32, 32, 6)    0           conv2d_9[0][0]                   \n",
      "__________________________________________________________________________________________________\n",
      "concatenate_8 (Concatenate)     (None, 32, 32, 66)   0           concatenate_7[0][0]              \n",
      "                                                                 dropout_8[0][0]                  \n",
      "__________________________________________________________________________________________________\n",
      "batch_normalization_9 (BatchNor (None, 32, 32, 66)   264         concatenate_8[0][0]              \n",
      "__________________________________________________________________________________________________\n",
      "activation_9 (Activation)       (None, 32, 32, 66)   0           batch_normalization_9[0][0]      \n",
      "__________________________________________________________________________________________________\n",
      "conv2d_10 (Conv2D)              (None, 32, 32, 6)    3564        activation_9[0][0]               \n",
      "__________________________________________________________________________________________________\n",
      "dropout_9 (Dropout)             (None, 32, 32, 6)    0           conv2d_10[0][0]                  \n",
      "__________________________________________________________________________________________________\n",
      "concatenate_9 (Concatenate)     (None, 32, 32, 72)   0           concatenate_8[0][0]              \n",
      "                                                                 dropout_9[0][0]                  \n",
      "__________________________________________________________________________________________________\n",
      "batch_normalization_10 (BatchNo (None, 32, 32, 72)   288         concatenate_9[0][0]              \n",
      "__________________________________________________________________________________________________\n",
      "activation_10 (Activation)      (None, 32, 32, 72)   0           batch_normalization_10[0][0]     \n",
      "__________________________________________________________________________________________________\n",
      "conv2d_11 (Conv2D)              (None, 32, 32, 6)    3888        activation_10[0][0]              \n",
      "__________________________________________________________________________________________________\n",
      "dropout_10 (Dropout)            (None, 32, 32, 6)    0           conv2d_11[0][0]                  \n",
      "__________________________________________________________________________________________________\n",
      "concatenate_10 (Concatenate)    (None, 32, 32, 78)   0           concatenate_9[0][0]              \n",
      "                                                                 dropout_10[0][0]                 \n",
      "__________________________________________________________________________________________________\n",
      "batch_normalization_11 (BatchNo (None, 32, 32, 78)   312         concatenate_10[0][0]             \n",
      "__________________________________________________________________________________________________\n",
      "activation_11 (Activation)      (None, 32, 32, 78)   0           batch_normalization_11[0][0]     \n",
      "__________________________________________________________________________________________________\n",
      "conv2d_12 (Conv2D)              (None, 32, 32, 6)    4212        activation_11[0][0]              \n",
      "__________________________________________________________________________________________________\n",
      "dropout_11 (Dropout)            (None, 32, 32, 6)    0           conv2d_12[0][0]                  \n",
      "__________________________________________________________________________________________________\n",
      "concatenate_11 (Concatenate)    (None, 32, 32, 84)   0           concatenate_10[0][0]             \n",
      "                                                                 dropout_11[0][0]                 \n",
      "__________________________________________________________________________________________________\n",
      "batch_normalization_12 (BatchNo (None, 32, 32, 84)   336         concatenate_11[0][0]             \n",
      "__________________________________________________________________________________________________\n",
      "activation_12 (Activation)      (None, 32, 32, 84)   0           batch_normalization_12[0][0]     \n",
      "__________________________________________________________________________________________________\n",
      "conv2d_13 (Conv2D)              (None, 32, 32, 6)    4536        activation_12[0][0]              \n",
      "__________________________________________________________________________________________________\n",
      "dropout_12 (Dropout)            (None, 32, 32, 6)    0           conv2d_13[0][0]                  \n",
      "__________________________________________________________________________________________________\n",
      "concatenate_12 (Concatenate)    (None, 32, 32, 90)   0           concatenate_11[0][0]             \n",
      "                                                                 dropout_12[0][0]                 \n",
      "__________________________________________________________________________________________________\n",
      "batch_normalization_13 (BatchNo (None, 32, 32, 90)   360         concatenate_12[0][0]             \n",
      "__________________________________________________________________________________________________\n",
      "activation_13 (Activation)      (None, 32, 32, 90)   0           batch_normalization_13[0][0]     \n",
      "__________________________________________________________________________________________________\n",
      "conv2d_14 (Conv2D)              (None, 32, 32, 6)    4860        activation_13[0][0]              \n",
      "__________________________________________________________________________________________________\n",
      "dropout_13 (Dropout)            (None, 32, 32, 6)    0           conv2d_14[0][0]                  \n",
      "__________________________________________________________________________________________________\n",
      "concatenate_13 (Concatenate)    (None, 32, 32, 96)   0           concatenate_12[0][0]             \n",
      "                                                                 dropout_13[0][0]                 \n",
      "__________________________________________________________________________________________________\n",
      "batch_normalization_14 (BatchNo (None, 32, 32, 96)   384         concatenate_13[0][0]             \n",
      "__________________________________________________________________________________________________\n",
      "activation_14 (Activation)      (None, 32, 32, 96)   0           batch_normalization_14[0][0]     \n",
      "__________________________________________________________________________________________________\n",
      "conv2d_15 (Conv2D)              (None, 32, 32, 6)    5184        activation_14[0][0]              \n",
      "__________________________________________________________________________________________________\n",
      "dropout_14 (Dropout)            (None, 32, 32, 6)    0           conv2d_15[0][0]                  \n",
      "__________________________________________________________________________________________________\n",
      "concatenate_14 (Concatenate)    (None, 32, 32, 102)  0           concatenate_13[0][0]             \n",
      "                                                                 dropout_14[0][0]                 \n",
      "__________________________________________________________________________________________________\n",
      "batch_normalization_15 (BatchNo (None, 32, 32, 102)  408         concatenate_14[0][0]             \n",
      "__________________________________________________________________________________________________\n",
      "activation_15 (Activation)      (None, 32, 32, 102)  0           batch_normalization_15[0][0]     \n",
      "__________________________________________________________________________________________________\n",
      "conv2d_16 (Conv2D)              (None, 32, 32, 6)    5508        activation_15[0][0]              \n",
      "__________________________________________________________________________________________________\n",
      "dropout_15 (Dropout)            (None, 32, 32, 6)    0           conv2d_16[0][0]                  \n",
      "__________________________________________________________________________________________________\n",
      "concatenate_15 (Concatenate)    (None, 32, 32, 108)  0           concatenate_14[0][0]             \n",
      "                                                                 dropout_15[0][0]                 \n",
      "__________________________________________________________________________________________________\n",
      "batch_normalization_16 (BatchNo (None, 32, 32, 108)  432         concatenate_15[0][0]             \n",
      "__________________________________________________________________________________________________\n",
      "activation_16 (Activation)      (None, 32, 32, 108)  0           batch_normalization_16[0][0]     \n",
      "__________________________________________________________________________________________________\n",
      "conv2d_17 (Conv2D)              (None, 32, 32, 6)    5832        activation_16[0][0]              \n",
      "__________________________________________________________________________________________________\n",
      "dropout_16 (Dropout)            (None, 32, 32, 6)    0           conv2d_17[0][0]                  \n",
      "__________________________________________________________________________________________________\n",
      "concatenate_16 (Concatenate)    (None, 32, 32, 114)  0           concatenate_15[0][0]             \n",
      "                                                                 dropout_16[0][0]                 \n",
      "__________________________________________________________________________________________________\n",
      "batch_normalization_17 (BatchNo (None, 32, 32, 114)  456         concatenate_16[0][0]             \n",
      "__________________________________________________________________________________________________\n",
      "activation_17 (Activation)      (None, 32, 32, 114)  0           batch_normalization_17[0][0]     \n",
      "__________________________________________________________________________________________________\n",
      "conv2d_18 (Conv2D)              (None, 32, 32, 6)    6156        activation_17[0][0]              \n",
      "__________________________________________________________________________________________________\n",
      "dropout_17 (Dropout)            (None, 32, 32, 6)    0           conv2d_18[0][0]                  \n",
      "__________________________________________________________________________________________________\n",
      "concatenate_17 (Concatenate)    (None, 32, 32, 120)  0           concatenate_16[0][0]             \n",
      "                                                                 dropout_17[0][0]                 \n",
      "__________________________________________________________________________________________________\n",
      "batch_normalization_18 (BatchNo (None, 32, 32, 120)  480         concatenate_17[0][0]             \n",
      "__________________________________________________________________________________________________\n",
      "activation_18 (Activation)      (None, 32, 32, 120)  0           batch_normalization_18[0][0]     \n",
      "__________________________________________________________________________________________________\n",
      "conv2d_19 (Conv2D)              (None, 32, 32, 6)    6480        activation_18[0][0]              \n",
      "__________________________________________________________________________________________________\n",
      "dropout_18 (Dropout)            (None, 32, 32, 6)    0           conv2d_19[0][0]                  \n",
      "__________________________________________________________________________________________________\n",
      "concatenate_18 (Concatenate)    (None, 32, 32, 126)  0           concatenate_17[0][0]             \n",
      "                                                                 dropout_18[0][0]                 \n",
      "__________________________________________________________________________________________________\n",
      "batch_normalization_19 (BatchNo (None, 32, 32, 126)  504         concatenate_18[0][0]             \n",
      "__________________________________________________________________________________________________\n",
      "activation_19 (Activation)      (None, 32, 32, 126)  0           batch_normalization_19[0][0]     \n",
      "__________________________________________________________________________________________________\n",
      "conv2d_20 (Conv2D)              (None, 32, 32, 6)    6804        activation_19[0][0]              \n",
      "__________________________________________________________________________________________________\n",
      "dropout_19 (Dropout)            (None, 32, 32, 6)    0           conv2d_20[0][0]                  \n",
      "__________________________________________________________________________________________________\n",
      "concatenate_19 (Concatenate)    (None, 32, 32, 132)  0           concatenate_18[0][0]             \n",
      "                                                                 dropout_19[0][0]                 \n",
      "__________________________________________________________________________________________________\n",
      "batch_normalization_20 (BatchNo (None, 32, 32, 132)  528         concatenate_19[0][0]             \n",
      "__________________________________________________________________________________________________\n",
      "activation_20 (Activation)      (None, 32, 32, 132)  0           batch_normalization_20[0][0]     \n",
      "__________________________________________________________________________________________________\n",
      "conv2d_21 (Conv2D)              (None, 32, 32, 6)    7128        activation_20[0][0]              \n",
      "__________________________________________________________________________________________________\n",
      "dropout_20 (Dropout)            (None, 32, 32, 6)    0           conv2d_21[0][0]                  \n",
      "__________________________________________________________________________________________________\n",
      "concatenate_20 (Concatenate)    (None, 32, 32, 138)  0           concatenate_19[0][0]             \n",
      "                                                                 dropout_20[0][0]                 \n",
      "__________________________________________________________________________________________________\n",
      "batch_normalization_21 (BatchNo (None, 32, 32, 138)  552         concatenate_20[0][0]             \n",
      "__________________________________________________________________________________________________\n",
      "activation_21 (Activation)      (None, 32, 32, 138)  0           batch_normalization_21[0][0]     \n",
      "__________________________________________________________________________________________________\n",
      "conv2d_22 (Conv2D)              (None, 32, 32, 6)    7452        activation_21[0][0]              \n",
      "__________________________________________________________________________________________________\n",
      "dropout_21 (Dropout)            (None, 32, 32, 6)    0           conv2d_22[0][0]                  \n",
      "__________________________________________________________________________________________________\n",
      "concatenate_21 (Concatenate)    (None, 32, 32, 144)  0           concatenate_20[0][0]             \n",
      "                                                                 dropout_21[0][0]                 \n",
      "__________________________________________________________________________________________________\n",
      "batch_normalization_22 (BatchNo (None, 32, 32, 144)  576         concatenate_21[0][0]             \n",
      "__________________________________________________________________________________________________\n",
      "activation_22 (Activation)      (None, 32, 32, 144)  0           batch_normalization_22[0][0]     \n",
      "__________________________________________________________________________________________________\n",
      "conv2d_23 (Conv2D)              (None, 32, 32, 6)    7776        activation_22[0][0]              \n",
      "__________________________________________________________________________________________________\n",
      "dropout_22 (Dropout)            (None, 32, 32, 6)    0           conv2d_23[0][0]                  \n",
      "__________________________________________________________________________________________________\n",
      "concatenate_22 (Concatenate)    (None, 32, 32, 150)  0           concatenate_21[0][0]             \n",
      "                                                                 dropout_22[0][0]                 \n",
      "__________________________________________________________________________________________________\n",
      "batch_normalization_23 (BatchNo (None, 32, 32, 150)  600         concatenate_22[0][0]             \n",
      "__________________________________________________________________________________________________\n",
      "activation_23 (Activation)      (None, 32, 32, 150)  0           batch_normalization_23[0][0]     \n",
      "__________________________________________________________________________________________________\n",
      "conv2d_24 (Conv2D)              (None, 32, 32, 6)    8100        activation_23[0][0]              \n",
      "__________________________________________________________________________________________________\n",
      "dropout_23 (Dropout)            (None, 32, 32, 6)    0           conv2d_24[0][0]                  \n",
      "__________________________________________________________________________________________________\n",
      "concatenate_23 (Concatenate)    (None, 32, 32, 156)  0           concatenate_22[0][0]             \n",
      "                                                                 dropout_23[0][0]                 \n",
      "__________________________________________________________________________________________________\n",
      "batch_normalization_24 (BatchNo (None, 32, 32, 156)  624         concatenate_23[0][0]             \n",
      "__________________________________________________________________________________________________\n",
      "activation_24 (Activation)      (None, 32, 32, 156)  0           batch_normalization_24[0][0]     \n",
      "__________________________________________________________________________________________________\n",
      "conv2d_25 (Conv2D)              (None, 32, 32, 6)    8424        activation_24[0][0]              \n",
      "__________________________________________________________________________________________________\n",
      "dropout_24 (Dropout)            (None, 32, 32, 6)    0           conv2d_25[0][0]                  \n",
      "__________________________________________________________________________________________________\n",
      "concatenate_24 (Concatenate)    (None, 32, 32, 162)  0           concatenate_23[0][0]             \n",
      "                                                                 dropout_24[0][0]                 \n",
      "__________________________________________________________________________________________________\n",
      "batch_normalization_25 (BatchNo (None, 32, 32, 162)  648         concatenate_24[0][0]             \n",
      "__________________________________________________________________________________________________\n",
      "activation_25 (Activation)      (None, 32, 32, 162)  0           batch_normalization_25[0][0]     \n",
      "__________________________________________________________________________________________________\n",
      "conv2d_26 (Conv2D)              (None, 32, 32, 6)    8748        activation_25[0][0]              \n",
      "__________________________________________________________________________________________________\n",
      "dropout_25 (Dropout)            (None, 32, 32, 6)    0           conv2d_26[0][0]                  \n",
      "__________________________________________________________________________________________________\n",
      "concatenate_25 (Concatenate)    (None, 32, 32, 168)  0           concatenate_24[0][0]             \n",
      "                                                                 dropout_25[0][0]                 \n",
      "__________________________________________________________________________________________________\n",
      "batch_normalization_26 (BatchNo (None, 32, 32, 168)  672         concatenate_25[0][0]             \n",
      "__________________________________________________________________________________________________\n",
      "activation_26 (Activation)      (None, 32, 32, 168)  0           batch_normalization_26[0][0]     \n",
      "__________________________________________________________________________________________________\n",
      "conv2d_27 (Conv2D)              (None, 32, 32, 6)    9072        activation_26[0][0]              \n",
      "__________________________________________________________________________________________________\n",
      "dropout_26 (Dropout)            (None, 32, 32, 6)    0           conv2d_27[0][0]                  \n",
      "__________________________________________________________________________________________________\n",
      "concatenate_26 (Concatenate)    (None, 32, 32, 174)  0           concatenate_25[0][0]             \n",
      "                                                                 dropout_26[0][0]                 \n",
      "__________________________________________________________________________________________________\n",
      "batch_normalization_27 (BatchNo (None, 32, 32, 174)  696         concatenate_26[0][0]             \n",
      "__________________________________________________________________________________________________\n",
      "activation_27 (Activation)      (None, 32, 32, 174)  0           batch_normalization_27[0][0]     \n",
      "__________________________________________________________________________________________________\n",
      "conv2d_28 (Conv2D)              (None, 32, 32, 6)    9396        activation_27[0][0]              \n",
      "__________________________________________________________________________________________________\n",
      "dropout_27 (Dropout)            (None, 32, 32, 6)    0           conv2d_28[0][0]                  \n",
      "__________________________________________________________________________________________________\n",
      "concatenate_27 (Concatenate)    (None, 32, 32, 180)  0           concatenate_26[0][0]             \n",
      "                                                                 dropout_27[0][0]                 \n",
      "__________________________________________________________________________________________________\n",
      "batch_normalization_28 (BatchNo (None, 32, 32, 180)  720         concatenate_27[0][0]             \n",
      "__________________________________________________________________________________________________\n",
      "activation_28 (Activation)      (None, 32, 32, 180)  0           batch_normalization_28[0][0]     \n",
      "__________________________________________________________________________________________________\n",
      "conv2d_29 (Conv2D)              (None, 32, 32, 6)    9720        activation_28[0][0]              \n",
      "__________________________________________________________________________________________________\n",
      "dropout_28 (Dropout)            (None, 32, 32, 6)    0           conv2d_29[0][0]                  \n",
      "__________________________________________________________________________________________________\n",
      "concatenate_28 (Concatenate)    (None, 32, 32, 186)  0           concatenate_27[0][0]             \n",
      "                                                                 dropout_28[0][0]                 \n",
      "__________________________________________________________________________________________________\n",
      "batch_normalization_29 (BatchNo (None, 32, 32, 186)  744         concatenate_28[0][0]             \n",
      "__________________________________________________________________________________________________\n",
      "activation_29 (Activation)      (None, 32, 32, 186)  0           batch_normalization_29[0][0]     \n",
      "__________________________________________________________________________________________________\n",
      "conv2d_30 (Conv2D)              (None, 32, 32, 6)    10044       activation_29[0][0]              \n",
      "__________________________________________________________________________________________________\n",
      "dropout_29 (Dropout)            (None, 32, 32, 6)    0           conv2d_30[0][0]                  \n",
      "__________________________________________________________________________________________________\n",
      "concatenate_29 (Concatenate)    (None, 32, 32, 192)  0           concatenate_28[0][0]             \n",
      "                                                                 dropout_29[0][0]                 \n",
      "__________________________________________________________________________________________________\n",
      "batch_normalization_30 (BatchNo (None, 32, 32, 192)  768         concatenate_29[0][0]             \n",
      "__________________________________________________________________________________________________\n",
      "activation_30 (Activation)      (None, 32, 32, 192)  0           batch_normalization_30[0][0]     \n",
      "__________________________________________________________________________________________________\n",
      "conv2d_31 (Conv2D)              (None, 32, 32, 6)    10368       activation_30[0][0]              \n",
      "__________________________________________________________________________________________________\n",
      "dropout_30 (Dropout)            (None, 32, 32, 6)    0           conv2d_31[0][0]                  \n",
      "__________________________________________________________________________________________________\n",
      "concatenate_30 (Concatenate)    (None, 32, 32, 198)  0           concatenate_29[0][0]             \n",
      "                                                                 dropout_30[0][0]                 \n",
      "__________________________________________________________________________________________________\n",
      "batch_normalization_31 (BatchNo (None, 32, 32, 198)  792         concatenate_30[0][0]             \n",
      "__________________________________________________________________________________________________\n",
      "activation_31 (Activation)      (None, 32, 32, 198)  0           batch_normalization_31[0][0]     \n",
      "__________________________________________________________________________________________________\n",
      "conv2d_32 (Conv2D)              (None, 32, 32, 6)    10692       activation_31[0][0]              \n",
      "__________________________________________________________________________________________________\n",
      "dropout_31 (Dropout)            (None, 32, 32, 6)    0           conv2d_32[0][0]                  \n",
      "__________________________________________________________________________________________________\n",
      "concatenate_31 (Concatenate)    (None, 32, 32, 204)  0           concatenate_30[0][0]             \n",
      "                                                                 dropout_31[0][0]                 \n",
      "__________________________________________________________________________________________________\n",
      "batch_normalization_32 (BatchNo (None, 32, 32, 204)  816         concatenate_31[0][0]             \n",
      "__________________________________________________________________________________________________\n",
      "activation_32 (Activation)      (None, 32, 32, 204)  0           batch_normalization_32[0][0]     \n",
      "__________________________________________________________________________________________________\n",
      "conv2d_33 (Conv2D)              (None, 32, 32, 6)    11016       activation_32[0][0]              \n",
      "__________________________________________________________________________________________________\n",
      "dropout_32 (Dropout)            (None, 32, 32, 6)    0           conv2d_33[0][0]                  \n",
      "__________________________________________________________________________________________________\n",
      "concatenate_32 (Concatenate)    (None, 32, 32, 210)  0           concatenate_31[0][0]             \n",
      "                                                                 dropout_32[0][0]                 \n",
      "__________________________________________________________________________________________________\n",
      "batch_normalization_33 (BatchNo (None, 32, 32, 210)  840         concatenate_32[0][0]             \n",
      "__________________________________________________________________________________________________\n",
      "activation_33 (Activation)      (None, 32, 32, 210)  0           batch_normalization_33[0][0]     \n",
      "__________________________________________________________________________________________________\n",
      "conv2d_34 (Conv2D)              (None, 32, 32, 6)    11340       activation_33[0][0]              \n",
      "__________________________________________________________________________________________________\n",
      "dropout_33 (Dropout)            (None, 32, 32, 6)    0           conv2d_34[0][0]                  \n",
      "__________________________________________________________________________________________________\n",
      "concatenate_33 (Concatenate)    (None, 32, 32, 216)  0           concatenate_32[0][0]             \n",
      "                                                                 dropout_33[0][0]                 \n",
      "__________________________________________________________________________________________________\n",
      "batch_normalization_34 (BatchNo (None, 32, 32, 216)  864         concatenate_33[0][0]             \n",
      "__________________________________________________________________________________________________\n",
      "activation_34 (Activation)      (None, 32, 32, 216)  0           batch_normalization_34[0][0]     \n",
      "__________________________________________________________________________________________________\n",
      "conv2d_35 (Conv2D)              (None, 32, 32, 6)    11664       activation_34[0][0]              \n",
      "__________________________________________________________________________________________________\n",
      "dropout_34 (Dropout)            (None, 32, 32, 6)    0           conv2d_35[0][0]                  \n",
      "__________________________________________________________________________________________________\n",
      "concatenate_34 (Concatenate)    (None, 32, 32, 222)  0           concatenate_33[0][0]             \n",
      "                                                                 dropout_34[0][0]                 \n",
      "__________________________________________________________________________________________________\n",
      "batch_normalization_35 (BatchNo (None, 32, 32, 222)  888         concatenate_34[0][0]             \n",
      "__________________________________________________________________________________________________\n",
      "activation_35 (Activation)      (None, 32, 32, 222)  0           batch_normalization_35[0][0]     \n",
      "__________________________________________________________________________________________________\n",
      "conv2d_36 (Conv2D)              (None, 32, 32, 6)    11988       activation_35[0][0]              \n",
      "__________________________________________________________________________________________________\n",
      "dropout_35 (Dropout)            (None, 32, 32, 6)    0           conv2d_36[0][0]                  \n",
      "__________________________________________________________________________________________________\n",
      "concatenate_35 (Concatenate)    (None, 32, 32, 228)  0           concatenate_34[0][0]             \n",
      "                                                                 dropout_35[0][0]                 \n",
      "__________________________________________________________________________________________________\n",
      "batch_normalization_36 (BatchNo (None, 32, 32, 228)  912         concatenate_35[0][0]             \n",
      "__________________________________________________________________________________________________\n",
      "activation_36 (Activation)      (None, 32, 32, 228)  0           batch_normalization_36[0][0]     \n",
      "__________________________________________________________________________________________________\n",
      "conv2d_37 (Conv2D)              (None, 32, 32, 6)    12312       activation_36[0][0]              \n",
      "__________________________________________________________________________________________________\n",
      "dropout_36 (Dropout)            (None, 32, 32, 6)    0           conv2d_37[0][0]                  \n",
      "__________________________________________________________________________________________________\n",
      "concatenate_36 (Concatenate)    (None, 32, 32, 234)  0           concatenate_35[0][0]             \n",
      "                                                                 dropout_36[0][0]                 \n",
      "__________________________________________________________________________________________________\n",
      "batch_normalization_37 (BatchNo (None, 32, 32, 234)  936         concatenate_36[0][0]             \n",
      "__________________________________________________________________________________________________\n",
      "activation_37 (Activation)      (None, 32, 32, 234)  0           batch_normalization_37[0][0]     \n",
      "__________________________________________________________________________________________________\n",
      "conv2d_38 (Conv2D)              (None, 32, 32, 6)    12636       activation_37[0][0]              \n",
      "__________________________________________________________________________________________________\n",
      "dropout_37 (Dropout)            (None, 32, 32, 6)    0           conv2d_38[0][0]                  \n",
      "__________________________________________________________________________________________________\n",
      "concatenate_37 (Concatenate)    (None, 32, 32, 240)  0           concatenate_36[0][0]             \n",
      "                                                                 dropout_37[0][0]                 \n",
      "__________________________________________________________________________________________________\n",
      "batch_normalization_38 (BatchNo (None, 32, 32, 240)  960         concatenate_37[0][0]             \n",
      "__________________________________________________________________________________________________\n",
      "activation_38 (Activation)      (None, 32, 32, 240)  0           batch_normalization_38[0][0]     \n",
      "__________________________________________________________________________________________________\n",
      "conv2d_39 (Conv2D)              (None, 32, 32, 6)    12960       activation_38[0][0]              \n",
      "__________________________________________________________________________________________________\n",
      "dropout_38 (Dropout)            (None, 32, 32, 6)    0           conv2d_39[0][0]                  \n",
      "__________________________________________________________________________________________________\n",
      "concatenate_38 (Concatenate)    (None, 32, 32, 246)  0           concatenate_37[0][0]             \n",
      "                                                                 dropout_38[0][0]                 \n",
      "__________________________________________________________________________________________________\n",
      "batch_normalization_39 (BatchNo (None, 32, 32, 246)  984         concatenate_38[0][0]             \n",
      "__________________________________________________________________________________________________\n",
      "activation_39 (Activation)      (None, 32, 32, 246)  0           batch_normalization_39[0][0]     \n",
      "__________________________________________________________________________________________________\n",
      "conv2d_40 (Conv2D)              (None, 32, 32, 6)    13284       activation_39[0][0]              \n",
      "__________________________________________________________________________________________________\n",
      "dropout_39 (Dropout)            (None, 32, 32, 6)    0           conv2d_40[0][0]                  \n",
      "__________________________________________________________________________________________________\n",
      "concatenate_39 (Concatenate)    (None, 32, 32, 252)  0           concatenate_38[0][0]             \n",
      "                                                                 dropout_39[0][0]                 \n",
      "__________________________________________________________________________________________________\n",
      "batch_normalization_40 (BatchNo (None, 32, 32, 252)  1008        concatenate_39[0][0]             \n",
      "__________________________________________________________________________________________________\n",
      "activation_40 (Activation)      (None, 32, 32, 252)  0           batch_normalization_40[0][0]     \n",
      "__________________________________________________________________________________________________\n",
      "conv2d_41 (Conv2D)              (None, 32, 32, 6)    1512        activation_40[0][0]              \n",
      "__________________________________________________________________________________________________\n",
      "dropout_40 (Dropout)            (None, 32, 32, 6)    0           conv2d_41[0][0]                  \n",
      "__________________________________________________________________________________________________\n",
      "average_pooling2d (AveragePooli (None, 16, 16, 6)    0           dropout_40[0][0]                 \n",
      "__________________________________________________________________________________________________\n",
      "batch_normalization_41 (BatchNo (None, 16, 16, 6)    24          average_pooling2d[0][0]          \n",
      "__________________________________________________________________________________________________\n",
      "activation_41 (Activation)      (None, 16, 16, 6)    0           batch_normalization_41[0][0]     \n",
      "__________________________________________________________________________________________________\n",
      "conv2d_42 (Conv2D)              (None, 16, 16, 6)    324         activation_41[0][0]              \n",
      "__________________________________________________________________________________________________\n",
      "dropout_41 (Dropout)            (None, 16, 16, 6)    0           conv2d_42[0][0]                  \n",
      "__________________________________________________________________________________________________\n",
      "concatenate_40 (Concatenate)    (None, 16, 16, 12)   0           average_pooling2d[0][0]          \n",
      "                                                                 dropout_41[0][0]                 \n",
      "__________________________________________________________________________________________________\n",
      "batch_normalization_42 (BatchNo (None, 16, 16, 12)   48          concatenate_40[0][0]             \n",
      "__________________________________________________________________________________________________\n",
      "activation_42 (Activation)      (None, 16, 16, 12)   0           batch_normalization_42[0][0]     \n",
      "__________________________________________________________________________________________________\n",
      "conv2d_43 (Conv2D)              (None, 16, 16, 6)    648         activation_42[0][0]              \n",
      "__________________________________________________________________________________________________\n",
      "dropout_42 (Dropout)            (None, 16, 16, 6)    0           conv2d_43[0][0]                  \n",
      "__________________________________________________________________________________________________\n",
      "concatenate_41 (Concatenate)    (None, 16, 16, 18)   0           concatenate_40[0][0]             \n",
      "                                                                 dropout_42[0][0]                 \n",
      "__________________________________________________________________________________________________\n",
      "batch_normalization_43 (BatchNo (None, 16, 16, 18)   72          concatenate_41[0][0]             \n",
      "__________________________________________________________________________________________________\n",
      "activation_43 (Activation)      (None, 16, 16, 18)   0           batch_normalization_43[0][0]     \n",
      "__________________________________________________________________________________________________\n",
      "conv2d_44 (Conv2D)              (None, 16, 16, 6)    972         activation_43[0][0]              \n",
      "__________________________________________________________________________________________________\n",
      "dropout_43 (Dropout)            (None, 16, 16, 6)    0           conv2d_44[0][0]                  \n",
      "__________________________________________________________________________________________________\n",
      "concatenate_42 (Concatenate)    (None, 16, 16, 24)   0           concatenate_41[0][0]             \n",
      "                                                                 dropout_43[0][0]                 \n",
      "__________________________________________________________________________________________________\n",
      "batch_normalization_44 (BatchNo (None, 16, 16, 24)   96          concatenate_42[0][0]             \n",
      "__________________________________________________________________________________________________\n",
      "activation_44 (Activation)      (None, 16, 16, 24)   0           batch_normalization_44[0][0]     \n",
      "__________________________________________________________________________________________________\n",
      "conv2d_45 (Conv2D)              (None, 16, 16, 6)    1296        activation_44[0][0]              \n",
      "__________________________________________________________________________________________________\n",
      "dropout_44 (Dropout)            (None, 16, 16, 6)    0           conv2d_45[0][0]                  \n",
      "__________________________________________________________________________________________________\n",
      "concatenate_43 (Concatenate)    (None, 16, 16, 30)   0           concatenate_42[0][0]             \n",
      "                                                                 dropout_44[0][0]                 \n",
      "__________________________________________________________________________________________________\n",
      "batch_normalization_45 (BatchNo (None, 16, 16, 30)   120         concatenate_43[0][0]             \n",
      "__________________________________________________________________________________________________\n",
      "activation_45 (Activation)      (None, 16, 16, 30)   0           batch_normalization_45[0][0]     \n",
      "__________________________________________________________________________________________________\n",
      "conv2d_46 (Conv2D)              (None, 16, 16, 6)    1620        activation_45[0][0]              \n",
      "__________________________________________________________________________________________________\n",
      "dropout_45 (Dropout)            (None, 16, 16, 6)    0           conv2d_46[0][0]                  \n",
      "__________________________________________________________________________________________________\n",
      "concatenate_44 (Concatenate)    (None, 16, 16, 36)   0           concatenate_43[0][0]             \n",
      "                                                                 dropout_45[0][0]                 \n",
      "__________________________________________________________________________________________________\n",
      "batch_normalization_46 (BatchNo (None, 16, 16, 36)   144         concatenate_44[0][0]             \n",
      "__________________________________________________________________________________________________\n",
      "activation_46 (Activation)      (None, 16, 16, 36)   0           batch_normalization_46[0][0]     \n",
      "__________________________________________________________________________________________________\n",
      "conv2d_47 (Conv2D)              (None, 16, 16, 6)    1944        activation_46[0][0]              \n",
      "__________________________________________________________________________________________________\n",
      "dropout_46 (Dropout)            (None, 16, 16, 6)    0           conv2d_47[0][0]                  \n",
      "__________________________________________________________________________________________________\n",
      "concatenate_45 (Concatenate)    (None, 16, 16, 42)   0           concatenate_44[0][0]             \n",
      "                                                                 dropout_46[0][0]                 \n",
      "__________________________________________________________________________________________________\n",
      "batch_normalization_47 (BatchNo (None, 16, 16, 42)   168         concatenate_45[0][0]             \n",
      "__________________________________________________________________________________________________\n",
      "activation_47 (Activation)      (None, 16, 16, 42)   0           batch_normalization_47[0][0]     \n",
      "__________________________________________________________________________________________________\n",
      "conv2d_48 (Conv2D)              (None, 16, 16, 6)    2268        activation_47[0][0]              \n",
      "__________________________________________________________________________________________________\n",
      "dropout_47 (Dropout)            (None, 16, 16, 6)    0           conv2d_48[0][0]                  \n",
      "__________________________________________________________________________________________________\n",
      "concatenate_46 (Concatenate)    (None, 16, 16, 48)   0           concatenate_45[0][0]             \n",
      "                                                                 dropout_47[0][0]                 \n",
      "__________________________________________________________________________________________________\n",
      "batch_normalization_48 (BatchNo (None, 16, 16, 48)   192         concatenate_46[0][0]             \n",
      "__________________________________________________________________________________________________\n",
      "activation_48 (Activation)      (None, 16, 16, 48)   0           batch_normalization_48[0][0]     \n",
      "__________________________________________________________________________________________________\n",
      "conv2d_49 (Conv2D)              (None, 16, 16, 6)    2592        activation_48[0][0]              \n",
      "__________________________________________________________________________________________________\n",
      "dropout_48 (Dropout)            (None, 16, 16, 6)    0           conv2d_49[0][0]                  \n",
      "__________________________________________________________________________________________________\n",
      "concatenate_47 (Concatenate)    (None, 16, 16, 54)   0           concatenate_46[0][0]             \n",
      "                                                                 dropout_48[0][0]                 \n",
      "__________________________________________________________________________________________________\n",
      "batch_normalization_49 (BatchNo (None, 16, 16, 54)   216         concatenate_47[0][0]             \n",
      "__________________________________________________________________________________________________\n",
      "activation_49 (Activation)      (None, 16, 16, 54)   0           batch_normalization_49[0][0]     \n",
      "__________________________________________________________________________________________________\n",
      "conv2d_50 (Conv2D)              (None, 16, 16, 6)    2916        activation_49[0][0]              \n",
      "__________________________________________________________________________________________________\n",
      "dropout_49 (Dropout)            (None, 16, 16, 6)    0           conv2d_50[0][0]                  \n",
      "__________________________________________________________________________________________________\n",
      "concatenate_48 (Concatenate)    (None, 16, 16, 60)   0           concatenate_47[0][0]             \n",
      "                                                                 dropout_49[0][0]                 \n",
      "__________________________________________________________________________________________________\n",
      "batch_normalization_50 (BatchNo (None, 16, 16, 60)   240         concatenate_48[0][0]             \n",
      "__________________________________________________________________________________________________\n",
      "activation_50 (Activation)      (None, 16, 16, 60)   0           batch_normalization_50[0][0]     \n",
      "__________________________________________________________________________________________________\n",
      "conv2d_51 (Conv2D)              (None, 16, 16, 6)    3240        activation_50[0][0]              \n",
      "__________________________________________________________________________________________________\n",
      "dropout_50 (Dropout)            (None, 16, 16, 6)    0           conv2d_51[0][0]                  \n",
      "__________________________________________________________________________________________________\n",
      "concatenate_49 (Concatenate)    (None, 16, 16, 66)   0           concatenate_48[0][0]             \n",
      "                                                                 dropout_50[0][0]                 \n",
      "__________________________________________________________________________________________________\n",
      "batch_normalization_51 (BatchNo (None, 16, 16, 66)   264         concatenate_49[0][0]             \n",
      "__________________________________________________________________________________________________\n",
      "activation_51 (Activation)      (None, 16, 16, 66)   0           batch_normalization_51[0][0]     \n",
      "__________________________________________________________________________________________________\n",
      "conv2d_52 (Conv2D)              (None, 16, 16, 6)    3564        activation_51[0][0]              \n",
      "__________________________________________________________________________________________________\n",
      "dropout_51 (Dropout)            (None, 16, 16, 6)    0           conv2d_52[0][0]                  \n",
      "__________________________________________________________________________________________________\n",
      "concatenate_50 (Concatenate)    (None, 16, 16, 72)   0           concatenate_49[0][0]             \n",
      "                                                                 dropout_51[0][0]                 \n",
      "__________________________________________________________________________________________________\n",
      "batch_normalization_52 (BatchNo (None, 16, 16, 72)   288         concatenate_50[0][0]             \n",
      "__________________________________________________________________________________________________\n",
      "activation_52 (Activation)      (None, 16, 16, 72)   0           batch_normalization_52[0][0]     \n",
      "__________________________________________________________________________________________________\n",
      "conv2d_53 (Conv2D)              (None, 16, 16, 6)    3888        activation_52[0][0]              \n",
      "__________________________________________________________________________________________________\n",
      "dropout_52 (Dropout)            (None, 16, 16, 6)    0           conv2d_53[0][0]                  \n",
      "__________________________________________________________________________________________________\n",
      "concatenate_51 (Concatenate)    (None, 16, 16, 78)   0           concatenate_50[0][0]             \n",
      "                                                                 dropout_52[0][0]                 \n",
      "__________________________________________________________________________________________________\n",
      "batch_normalization_53 (BatchNo (None, 16, 16, 78)   312         concatenate_51[0][0]             \n",
      "__________________________________________________________________________________________________\n",
      "activation_53 (Activation)      (None, 16, 16, 78)   0           batch_normalization_53[0][0]     \n",
      "__________________________________________________________________________________________________\n",
      "conv2d_54 (Conv2D)              (None, 16, 16, 6)    4212        activation_53[0][0]              \n",
      "__________________________________________________________________________________________________\n",
      "dropout_53 (Dropout)            (None, 16, 16, 6)    0           conv2d_54[0][0]                  \n",
      "__________________________________________________________________________________________________\n",
      "concatenate_52 (Concatenate)    (None, 16, 16, 84)   0           concatenate_51[0][0]             \n",
      "                                                                 dropout_53[0][0]                 \n",
      "__________________________________________________________________________________________________\n",
      "batch_normalization_54 (BatchNo (None, 16, 16, 84)   336         concatenate_52[0][0]             \n",
      "__________________________________________________________________________________________________\n",
      "activation_54 (Activation)      (None, 16, 16, 84)   0           batch_normalization_54[0][0]     \n",
      "__________________________________________________________________________________________________\n",
      "conv2d_55 (Conv2D)              (None, 16, 16, 6)    4536        activation_54[0][0]              \n",
      "__________________________________________________________________________________________________\n",
      "dropout_54 (Dropout)            (None, 16, 16, 6)    0           conv2d_55[0][0]                  \n",
      "__________________________________________________________________________________________________\n",
      "concatenate_53 (Concatenate)    (None, 16, 16, 90)   0           concatenate_52[0][0]             \n",
      "                                                                 dropout_54[0][0]                 \n",
      "__________________________________________________________________________________________________\n",
      "batch_normalization_55 (BatchNo (None, 16, 16, 90)   360         concatenate_53[0][0]             \n",
      "__________________________________________________________________________________________________\n",
      "activation_55 (Activation)      (None, 16, 16, 90)   0           batch_normalization_55[0][0]     \n",
      "__________________________________________________________________________________________________\n",
      "conv2d_56 (Conv2D)              (None, 16, 16, 6)    4860        activation_55[0][0]              \n",
      "__________________________________________________________________________________________________\n",
      "dropout_55 (Dropout)            (None, 16, 16, 6)    0           conv2d_56[0][0]                  \n",
      "__________________________________________________________________________________________________\n",
      "concatenate_54 (Concatenate)    (None, 16, 16, 96)   0           concatenate_53[0][0]             \n",
      "                                                                 dropout_55[0][0]                 \n",
      "__________________________________________________________________________________________________\n",
      "batch_normalization_56 (BatchNo (None, 16, 16, 96)   384         concatenate_54[0][0]             \n",
      "__________________________________________________________________________________________________\n",
      "activation_56 (Activation)      (None, 16, 16, 96)   0           batch_normalization_56[0][0]     \n",
      "__________________________________________________________________________________________________\n",
      "conv2d_57 (Conv2D)              (None, 16, 16, 6)    5184        activation_56[0][0]              \n",
      "__________________________________________________________________________________________________\n",
      "dropout_56 (Dropout)            (None, 16, 16, 6)    0           conv2d_57[0][0]                  \n",
      "__________________________________________________________________________________________________\n",
      "concatenate_55 (Concatenate)    (None, 16, 16, 102)  0           concatenate_54[0][0]             \n",
      "                                                                 dropout_56[0][0]                 \n",
      "__________________________________________________________________________________________________\n",
      "batch_normalization_57 (BatchNo (None, 16, 16, 102)  408         concatenate_55[0][0]             \n",
      "__________________________________________________________________________________________________\n",
      "activation_57 (Activation)      (None, 16, 16, 102)  0           batch_normalization_57[0][0]     \n",
      "__________________________________________________________________________________________________\n",
      "conv2d_58 (Conv2D)              (None, 16, 16, 6)    5508        activation_57[0][0]              \n",
      "__________________________________________________________________________________________________\n",
      "dropout_57 (Dropout)            (None, 16, 16, 6)    0           conv2d_58[0][0]                  \n",
      "__________________________________________________________________________________________________\n",
      "concatenate_56 (Concatenate)    (None, 16, 16, 108)  0           concatenate_55[0][0]             \n",
      "                                                                 dropout_57[0][0]                 \n",
      "__________________________________________________________________________________________________\n",
      "batch_normalization_58 (BatchNo (None, 16, 16, 108)  432         concatenate_56[0][0]             \n",
      "__________________________________________________________________________________________________\n",
      "activation_58 (Activation)      (None, 16, 16, 108)  0           batch_normalization_58[0][0]     \n",
      "__________________________________________________________________________________________________\n",
      "conv2d_59 (Conv2D)              (None, 16, 16, 6)    5832        activation_58[0][0]              \n",
      "__________________________________________________________________________________________________\n",
      "dropout_58 (Dropout)            (None, 16, 16, 6)    0           conv2d_59[0][0]                  \n",
      "__________________________________________________________________________________________________\n",
      "concatenate_57 (Concatenate)    (None, 16, 16, 114)  0           concatenate_56[0][0]             \n",
      "                                                                 dropout_58[0][0]                 \n",
      "__________________________________________________________________________________________________\n",
      "batch_normalization_59 (BatchNo (None, 16, 16, 114)  456         concatenate_57[0][0]             \n",
      "__________________________________________________________________________________________________\n",
      "activation_59 (Activation)      (None, 16, 16, 114)  0           batch_normalization_59[0][0]     \n",
      "__________________________________________________________________________________________________\n",
      "conv2d_60 (Conv2D)              (None, 16, 16, 6)    6156        activation_59[0][0]              \n",
      "__________________________________________________________________________________________________\n",
      "dropout_59 (Dropout)            (None, 16, 16, 6)    0           conv2d_60[0][0]                  \n",
      "__________________________________________________________________________________________________\n",
      "concatenate_58 (Concatenate)    (None, 16, 16, 120)  0           concatenate_57[0][0]             \n",
      "                                                                 dropout_59[0][0]                 \n",
      "__________________________________________________________________________________________________\n",
      "batch_normalization_60 (BatchNo (None, 16, 16, 120)  480         concatenate_58[0][0]             \n",
      "__________________________________________________________________________________________________\n",
      "activation_60 (Activation)      (None, 16, 16, 120)  0           batch_normalization_60[0][0]     \n",
      "__________________________________________________________________________________________________\n",
      "conv2d_61 (Conv2D)              (None, 16, 16, 6)    6480        activation_60[0][0]              \n",
      "__________________________________________________________________________________________________\n",
      "dropout_60 (Dropout)            (None, 16, 16, 6)    0           conv2d_61[0][0]                  \n",
      "__________________________________________________________________________________________________\n",
      "concatenate_59 (Concatenate)    (None, 16, 16, 126)  0           concatenate_58[0][0]             \n",
      "                                                                 dropout_60[0][0]                 \n",
      "__________________________________________________________________________________________________\n",
      "batch_normalization_61 (BatchNo (None, 16, 16, 126)  504         concatenate_59[0][0]             \n",
      "__________________________________________________________________________________________________\n",
      "activation_61 (Activation)      (None, 16, 16, 126)  0           batch_normalization_61[0][0]     \n",
      "__________________________________________________________________________________________________\n",
      "conv2d_62 (Conv2D)              (None, 16, 16, 6)    6804        activation_61[0][0]              \n",
      "__________________________________________________________________________________________________\n",
      "dropout_61 (Dropout)            (None, 16, 16, 6)    0           conv2d_62[0][0]                  \n",
      "__________________________________________________________________________________________________\n",
      "concatenate_60 (Concatenate)    (None, 16, 16, 132)  0           concatenate_59[0][0]             \n",
      "                                                                 dropout_61[0][0]                 \n",
      "__________________________________________________________________________________________________\n",
      "batch_normalization_62 (BatchNo (None, 16, 16, 132)  528         concatenate_60[0][0]             \n",
      "__________________________________________________________________________________________________\n",
      "activation_62 (Activation)      (None, 16, 16, 132)  0           batch_normalization_62[0][0]     \n",
      "__________________________________________________________________________________________________\n",
      "conv2d_63 (Conv2D)              (None, 16, 16, 6)    7128        activation_62[0][0]              \n",
      "__________________________________________________________________________________________________\n",
      "dropout_62 (Dropout)            (None, 16, 16, 6)    0           conv2d_63[0][0]                  \n",
      "__________________________________________________________________________________________________\n",
      "concatenate_61 (Concatenate)    (None, 16, 16, 138)  0           concatenate_60[0][0]             \n",
      "                                                                 dropout_62[0][0]                 \n",
      "__________________________________________________________________________________________________\n",
      "batch_normalization_63 (BatchNo (None, 16, 16, 138)  552         concatenate_61[0][0]             \n",
      "__________________________________________________________________________________________________\n",
      "activation_63 (Activation)      (None, 16, 16, 138)  0           batch_normalization_63[0][0]     \n",
      "__________________________________________________________________________________________________\n",
      "conv2d_64 (Conv2D)              (None, 16, 16, 6)    7452        activation_63[0][0]              \n",
      "__________________________________________________________________________________________________\n",
      "dropout_63 (Dropout)            (None, 16, 16, 6)    0           conv2d_64[0][0]                  \n",
      "__________________________________________________________________________________________________\n",
      "concatenate_62 (Concatenate)    (None, 16, 16, 144)  0           concatenate_61[0][0]             \n",
      "                                                                 dropout_63[0][0]                 \n",
      "__________________________________________________________________________________________________\n",
      "batch_normalization_64 (BatchNo (None, 16, 16, 144)  576         concatenate_62[0][0]             \n",
      "__________________________________________________________________________________________________\n",
      "activation_64 (Activation)      (None, 16, 16, 144)  0           batch_normalization_64[0][0]     \n",
      "__________________________________________________________________________________________________\n",
      "conv2d_65 (Conv2D)              (None, 16, 16, 6)    7776        activation_64[0][0]              \n",
      "__________________________________________________________________________________________________\n",
      "dropout_64 (Dropout)            (None, 16, 16, 6)    0           conv2d_65[0][0]                  \n",
      "__________________________________________________________________________________________________\n",
      "concatenate_63 (Concatenate)    (None, 16, 16, 150)  0           concatenate_62[0][0]             \n",
      "                                                                 dropout_64[0][0]                 \n",
      "__________________________________________________________________________________________________\n",
      "batch_normalization_65 (BatchNo (None, 16, 16, 150)  600         concatenate_63[0][0]             \n",
      "__________________________________________________________________________________________________\n",
      "activation_65 (Activation)      (None, 16, 16, 150)  0           batch_normalization_65[0][0]     \n",
      "__________________________________________________________________________________________________\n",
      "conv2d_66 (Conv2D)              (None, 16, 16, 6)    8100        activation_65[0][0]              \n",
      "__________________________________________________________________________________________________\n",
      "dropout_65 (Dropout)            (None, 16, 16, 6)    0           conv2d_66[0][0]                  \n",
      "__________________________________________________________________________________________________\n",
      "concatenate_64 (Concatenate)    (None, 16, 16, 156)  0           concatenate_63[0][0]             \n",
      "                                                                 dropout_65[0][0]                 \n",
      "__________________________________________________________________________________________________\n",
      "batch_normalization_66 (BatchNo (None, 16, 16, 156)  624         concatenate_64[0][0]             \n",
      "__________________________________________________________________________________________________\n",
      "activation_66 (Activation)      (None, 16, 16, 156)  0           batch_normalization_66[0][0]     \n",
      "__________________________________________________________________________________________________\n",
      "conv2d_67 (Conv2D)              (None, 16, 16, 6)    8424        activation_66[0][0]              \n",
      "__________________________________________________________________________________________________\n",
      "dropout_66 (Dropout)            (None, 16, 16, 6)    0           conv2d_67[0][0]                  \n",
      "__________________________________________________________________________________________________\n",
      "concatenate_65 (Concatenate)    (None, 16, 16, 162)  0           concatenate_64[0][0]             \n",
      "                                                                 dropout_66[0][0]                 \n",
      "__________________________________________________________________________________________________\n",
      "batch_normalization_67 (BatchNo (None, 16, 16, 162)  648         concatenate_65[0][0]             \n",
      "__________________________________________________________________________________________________\n",
      "activation_67 (Activation)      (None, 16, 16, 162)  0           batch_normalization_67[0][0]     \n",
      "__________________________________________________________________________________________________\n",
      "conv2d_68 (Conv2D)              (None, 16, 16, 6)    8748        activation_67[0][0]              \n",
      "__________________________________________________________________________________________________\n",
      "dropout_67 (Dropout)            (None, 16, 16, 6)    0           conv2d_68[0][0]                  \n",
      "__________________________________________________________________________________________________\n",
      "concatenate_66 (Concatenate)    (None, 16, 16, 168)  0           concatenate_65[0][0]             \n",
      "                                                                 dropout_67[0][0]                 \n",
      "__________________________________________________________________________________________________\n",
      "batch_normalization_68 (BatchNo (None, 16, 16, 168)  672         concatenate_66[0][0]             \n",
      "__________________________________________________________________________________________________\n",
      "activation_68 (Activation)      (None, 16, 16, 168)  0           batch_normalization_68[0][0]     \n",
      "__________________________________________________________________________________________________\n",
      "conv2d_69 (Conv2D)              (None, 16, 16, 6)    9072        activation_68[0][0]              \n",
      "__________________________________________________________________________________________________\n",
      "dropout_68 (Dropout)            (None, 16, 16, 6)    0           conv2d_69[0][0]                  \n",
      "__________________________________________________________________________________________________\n",
      "concatenate_67 (Concatenate)    (None, 16, 16, 174)  0           concatenate_66[0][0]             \n",
      "                                                                 dropout_68[0][0]                 \n",
      "__________________________________________________________________________________________________\n",
      "batch_normalization_69 (BatchNo (None, 16, 16, 174)  696         concatenate_67[0][0]             \n",
      "__________________________________________________________________________________________________\n",
      "activation_69 (Activation)      (None, 16, 16, 174)  0           batch_normalization_69[0][0]     \n",
      "__________________________________________________________________________________________________\n",
      "conv2d_70 (Conv2D)              (None, 16, 16, 6)    9396        activation_69[0][0]              \n",
      "__________________________________________________________________________________________________\n",
      "dropout_69 (Dropout)            (None, 16, 16, 6)    0           conv2d_70[0][0]                  \n",
      "__________________________________________________________________________________________________\n",
      "concatenate_68 (Concatenate)    (None, 16, 16, 180)  0           concatenate_67[0][0]             \n",
      "                                                                 dropout_69[0][0]                 \n",
      "__________________________________________________________________________________________________\n",
      "batch_normalization_70 (BatchNo (None, 16, 16, 180)  720         concatenate_68[0][0]             \n",
      "__________________________________________________________________________________________________\n",
      "activation_70 (Activation)      (None, 16, 16, 180)  0           batch_normalization_70[0][0]     \n",
      "__________________________________________________________________________________________________\n",
      "conv2d_71 (Conv2D)              (None, 16, 16, 6)    9720        activation_70[0][0]              \n",
      "__________________________________________________________________________________________________\n",
      "dropout_70 (Dropout)            (None, 16, 16, 6)    0           conv2d_71[0][0]                  \n",
      "__________________________________________________________________________________________________\n",
      "concatenate_69 (Concatenate)    (None, 16, 16, 186)  0           concatenate_68[0][0]             \n",
      "                                                                 dropout_70[0][0]                 \n",
      "__________________________________________________________________________________________________\n",
      "batch_normalization_71 (BatchNo (None, 16, 16, 186)  744         concatenate_69[0][0]             \n",
      "__________________________________________________________________________________________________\n",
      "activation_71 (Activation)      (None, 16, 16, 186)  0           batch_normalization_71[0][0]     \n",
      "__________________________________________________________________________________________________\n",
      "conv2d_72 (Conv2D)              (None, 16, 16, 6)    10044       activation_71[0][0]              \n",
      "__________________________________________________________________________________________________\n",
      "dropout_71 (Dropout)            (None, 16, 16, 6)    0           conv2d_72[0][0]                  \n",
      "__________________________________________________________________________________________________\n",
      "concatenate_70 (Concatenate)    (None, 16, 16, 192)  0           concatenate_69[0][0]             \n",
      "                                                                 dropout_71[0][0]                 \n",
      "__________________________________________________________________________________________________\n",
      "batch_normalization_72 (BatchNo (None, 16, 16, 192)  768         concatenate_70[0][0]             \n",
      "__________________________________________________________________________________________________\n",
      "activation_72 (Activation)      (None, 16, 16, 192)  0           batch_normalization_72[0][0]     \n",
      "__________________________________________________________________________________________________\n",
      "conv2d_73 (Conv2D)              (None, 16, 16, 6)    10368       activation_72[0][0]              \n",
      "__________________________________________________________________________________________________\n",
      "dropout_72 (Dropout)            (None, 16, 16, 6)    0           conv2d_73[0][0]                  \n",
      "__________________________________________________________________________________________________\n",
      "concatenate_71 (Concatenate)    (None, 16, 16, 198)  0           concatenate_70[0][0]             \n",
      "                                                                 dropout_72[0][0]                 \n",
      "__________________________________________________________________________________________________\n",
      "batch_normalization_73 (BatchNo (None, 16, 16, 198)  792         concatenate_71[0][0]             \n",
      "__________________________________________________________________________________________________\n",
      "activation_73 (Activation)      (None, 16, 16, 198)  0           batch_normalization_73[0][0]     \n",
      "__________________________________________________________________________________________________\n",
      "conv2d_74 (Conv2D)              (None, 16, 16, 6)    10692       activation_73[0][0]              \n",
      "__________________________________________________________________________________________________\n",
      "dropout_73 (Dropout)            (None, 16, 16, 6)    0           conv2d_74[0][0]                  \n",
      "__________________________________________________________________________________________________\n",
      "concatenate_72 (Concatenate)    (None, 16, 16, 204)  0           concatenate_71[0][0]             \n",
      "                                                                 dropout_73[0][0]                 \n",
      "__________________________________________________________________________________________________\n",
      "batch_normalization_74 (BatchNo (None, 16, 16, 204)  816         concatenate_72[0][0]             \n",
      "__________________________________________________________________________________________________\n",
      "activation_74 (Activation)      (None, 16, 16, 204)  0           batch_normalization_74[0][0]     \n",
      "__________________________________________________________________________________________________\n",
      "conv2d_75 (Conv2D)              (None, 16, 16, 6)    11016       activation_74[0][0]              \n",
      "__________________________________________________________________________________________________\n",
      "dropout_74 (Dropout)            (None, 16, 16, 6)    0           conv2d_75[0][0]                  \n",
      "__________________________________________________________________________________________________\n",
      "concatenate_73 (Concatenate)    (None, 16, 16, 210)  0           concatenate_72[0][0]             \n",
      "                                                                 dropout_74[0][0]                 \n",
      "__________________________________________________________________________________________________\n",
      "batch_normalization_75 (BatchNo (None, 16, 16, 210)  840         concatenate_73[0][0]             \n",
      "__________________________________________________________________________________________________\n",
      "activation_75 (Activation)      (None, 16, 16, 210)  0           batch_normalization_75[0][0]     \n",
      "__________________________________________________________________________________________________\n",
      "conv2d_76 (Conv2D)              (None, 16, 16, 6)    11340       activation_75[0][0]              \n",
      "__________________________________________________________________________________________________\n",
      "dropout_75 (Dropout)            (None, 16, 16, 6)    0           conv2d_76[0][0]                  \n",
      "__________________________________________________________________________________________________\n",
      "concatenate_74 (Concatenate)    (None, 16, 16, 216)  0           concatenate_73[0][0]             \n",
      "                                                                 dropout_75[0][0]                 \n",
      "__________________________________________________________________________________________________\n",
      "batch_normalization_76 (BatchNo (None, 16, 16, 216)  864         concatenate_74[0][0]             \n",
      "__________________________________________________________________________________________________\n",
      "activation_76 (Activation)      (None, 16, 16, 216)  0           batch_normalization_76[0][0]     \n",
      "__________________________________________________________________________________________________\n",
      "conv2d_77 (Conv2D)              (None, 16, 16, 6)    11664       activation_76[0][0]              \n",
      "__________________________________________________________________________________________________\n",
      "dropout_76 (Dropout)            (None, 16, 16, 6)    0           conv2d_77[0][0]                  \n",
      "__________________________________________________________________________________________________\n",
      "concatenate_75 (Concatenate)    (None, 16, 16, 222)  0           concatenate_74[0][0]             \n",
      "                                                                 dropout_76[0][0]                 \n",
      "__________________________________________________________________________________________________\n",
      "batch_normalization_77 (BatchNo (None, 16, 16, 222)  888         concatenate_75[0][0]             \n",
      "__________________________________________________________________________________________________\n",
      "activation_77 (Activation)      (None, 16, 16, 222)  0           batch_normalization_77[0][0]     \n",
      "__________________________________________________________________________________________________\n",
      "conv2d_78 (Conv2D)              (None, 16, 16, 6)    11988       activation_77[0][0]              \n",
      "__________________________________________________________________________________________________\n",
      "dropout_77 (Dropout)            (None, 16, 16, 6)    0           conv2d_78[0][0]                  \n",
      "__________________________________________________________________________________________________\n",
      "concatenate_76 (Concatenate)    (None, 16, 16, 228)  0           concatenate_75[0][0]             \n",
      "                                                                 dropout_77[0][0]                 \n",
      "__________________________________________________________________________________________________\n",
      "batch_normalization_78 (BatchNo (None, 16, 16, 228)  912         concatenate_76[0][0]             \n",
      "__________________________________________________________________________________________________\n",
      "activation_78 (Activation)      (None, 16, 16, 228)  0           batch_normalization_78[0][0]     \n",
      "__________________________________________________________________________________________________\n",
      "conv2d_79 (Conv2D)              (None, 16, 16, 6)    12312       activation_78[0][0]              \n",
      "__________________________________________________________________________________________________\n",
      "dropout_78 (Dropout)            (None, 16, 16, 6)    0           conv2d_79[0][0]                  \n",
      "__________________________________________________________________________________________________\n",
      "concatenate_77 (Concatenate)    (None, 16, 16, 234)  0           concatenate_76[0][0]             \n",
      "                                                                 dropout_78[0][0]                 \n",
      "__________________________________________________________________________________________________\n",
      "batch_normalization_79 (BatchNo (None, 16, 16, 234)  936         concatenate_77[0][0]             \n",
      "__________________________________________________________________________________________________\n",
      "activation_79 (Activation)      (None, 16, 16, 234)  0           batch_normalization_79[0][0]     \n",
      "__________________________________________________________________________________________________\n",
      "conv2d_80 (Conv2D)              (None, 16, 16, 6)    12636       activation_79[0][0]              \n",
      "__________________________________________________________________________________________________\n",
      "dropout_79 (Dropout)            (None, 16, 16, 6)    0           conv2d_80[0][0]                  \n",
      "__________________________________________________________________________________________________\n",
      "concatenate_78 (Concatenate)    (None, 16, 16, 240)  0           concatenate_77[0][0]             \n",
      "                                                                 dropout_79[0][0]                 \n",
      "__________________________________________________________________________________________________\n",
      "batch_normalization_80 (BatchNo (None, 16, 16, 240)  960         concatenate_78[0][0]             \n",
      "__________________________________________________________________________________________________\n",
      "activation_80 (Activation)      (None, 16, 16, 240)  0           batch_normalization_80[0][0]     \n",
      "__________________________________________________________________________________________________\n",
      "conv2d_81 (Conv2D)              (None, 16, 16, 6)    12960       activation_80[0][0]              \n",
      "__________________________________________________________________________________________________\n",
      "dropout_80 (Dropout)            (None, 16, 16, 6)    0           conv2d_81[0][0]                  \n",
      "__________________________________________________________________________________________________\n",
      "concatenate_79 (Concatenate)    (None, 16, 16, 246)  0           concatenate_78[0][0]             \n",
      "                                                                 dropout_80[0][0]                 \n",
      "__________________________________________________________________________________________________\n",
      "batch_normalization_81 (BatchNo (None, 16, 16, 246)  984         concatenate_79[0][0]             \n",
      "__________________________________________________________________________________________________\n",
      "activation_81 (Activation)      (None, 16, 16, 246)  0           batch_normalization_81[0][0]     \n",
      "__________________________________________________________________________________________________\n",
      "conv2d_82 (Conv2D)              (None, 16, 16, 6)    1476        activation_81[0][0]              \n",
      "__________________________________________________________________________________________________\n",
      "dropout_81 (Dropout)            (None, 16, 16, 6)    0           conv2d_82[0][0]                  \n",
      "__________________________________________________________________________________________________\n",
      "average_pooling2d_1 (AveragePoo (None, 8, 8, 6)      0           dropout_81[0][0]                 \n",
      "__________________________________________________________________________________________________\n",
      "batch_normalization_82 (BatchNo (None, 8, 8, 6)      24          average_pooling2d_1[0][0]        \n",
      "__________________________________________________________________________________________________\n",
      "activation_82 (Activation)      (None, 8, 8, 6)      0           batch_normalization_82[0][0]     \n",
      "__________________________________________________________________________________________________\n",
      "conv2d_83 (Conv2D)              (None, 8, 8, 6)      324         activation_82[0][0]              \n",
      "__________________________________________________________________________________________________\n",
      "dropout_82 (Dropout)            (None, 8, 8, 6)      0           conv2d_83[0][0]                  \n",
      "__________________________________________________________________________________________________\n",
      "concatenate_80 (Concatenate)    (None, 8, 8, 12)     0           average_pooling2d_1[0][0]        \n",
      "                                                                 dropout_82[0][0]                 \n",
      "__________________________________________________________________________________________________\n",
      "batch_normalization_83 (BatchNo (None, 8, 8, 12)     48          concatenate_80[0][0]             \n",
      "__________________________________________________________________________________________________\n",
      "activation_83 (Activation)      (None, 8, 8, 12)     0           batch_normalization_83[0][0]     \n",
      "__________________________________________________________________________________________________\n",
      "conv2d_84 (Conv2D)              (None, 8, 8, 6)      648         activation_83[0][0]              \n",
      "__________________________________________________________________________________________________\n",
      "dropout_83 (Dropout)            (None, 8, 8, 6)      0           conv2d_84[0][0]                  \n",
      "__________________________________________________________________________________________________\n",
      "concatenate_81 (Concatenate)    (None, 8, 8, 18)     0           concatenate_80[0][0]             \n",
      "                                                                 dropout_83[0][0]                 \n",
      "__________________________________________________________________________________________________\n",
      "batch_normalization_84 (BatchNo (None, 8, 8, 18)     72          concatenate_81[0][0]             \n",
      "__________________________________________________________________________________________________\n",
      "activation_84 (Activation)      (None, 8, 8, 18)     0           batch_normalization_84[0][0]     \n",
      "__________________________________________________________________________________________________\n",
      "conv2d_85 (Conv2D)              (None, 8, 8, 6)      972         activation_84[0][0]              \n",
      "__________________________________________________________________________________________________\n",
      "dropout_84 (Dropout)            (None, 8, 8, 6)      0           conv2d_85[0][0]                  \n",
      "__________________________________________________________________________________________________\n",
      "concatenate_82 (Concatenate)    (None, 8, 8, 24)     0           concatenate_81[0][0]             \n",
      "                                                                 dropout_84[0][0]                 \n",
      "__________________________________________________________________________________________________\n",
      "batch_normalization_85 (BatchNo (None, 8, 8, 24)     96          concatenate_82[0][0]             \n",
      "__________________________________________________________________________________________________\n",
      "activation_85 (Activation)      (None, 8, 8, 24)     0           batch_normalization_85[0][0]     \n",
      "__________________________________________________________________________________________________\n",
      "conv2d_86 (Conv2D)              (None, 8, 8, 6)      1296        activation_85[0][0]              \n",
      "__________________________________________________________________________________________________\n",
      "dropout_85 (Dropout)            (None, 8, 8, 6)      0           conv2d_86[0][0]                  \n",
      "__________________________________________________________________________________________________\n",
      "concatenate_83 (Concatenate)    (None, 8, 8, 30)     0           concatenate_82[0][0]             \n",
      "                                                                 dropout_85[0][0]                 \n",
      "__________________________________________________________________________________________________\n",
      "batch_normalization_86 (BatchNo (None, 8, 8, 30)     120         concatenate_83[0][0]             \n",
      "__________________________________________________________________________________________________\n",
      "activation_86 (Activation)      (None, 8, 8, 30)     0           batch_normalization_86[0][0]     \n",
      "__________________________________________________________________________________________________\n",
      "conv2d_87 (Conv2D)              (None, 8, 8, 6)      1620        activation_86[0][0]              \n",
      "__________________________________________________________________________________________________\n",
      "dropout_86 (Dropout)            (None, 8, 8, 6)      0           conv2d_87[0][0]                  \n",
      "__________________________________________________________________________________________________\n",
      "concatenate_84 (Concatenate)    (None, 8, 8, 36)     0           concatenate_83[0][0]             \n",
      "                                                                 dropout_86[0][0]                 \n",
      "__________________________________________________________________________________________________\n",
      "batch_normalization_87 (BatchNo (None, 8, 8, 36)     144         concatenate_84[0][0]             \n",
      "__________________________________________________________________________________________________\n",
      "activation_87 (Activation)      (None, 8, 8, 36)     0           batch_normalization_87[0][0]     \n",
      "__________________________________________________________________________________________________\n",
      "conv2d_88 (Conv2D)              (None, 8, 8, 6)      1944        activation_87[0][0]              \n",
      "__________________________________________________________________________________________________\n",
      "dropout_87 (Dropout)            (None, 8, 8, 6)      0           conv2d_88[0][0]                  \n",
      "__________________________________________________________________________________________________\n",
      "concatenate_85 (Concatenate)    (None, 8, 8, 42)     0           concatenate_84[0][0]             \n",
      "                                                                 dropout_87[0][0]                 \n",
      "__________________________________________________________________________________________________\n",
      "batch_normalization_88 (BatchNo (None, 8, 8, 42)     168         concatenate_85[0][0]             \n",
      "__________________________________________________________________________________________________\n",
      "activation_88 (Activation)      (None, 8, 8, 42)     0           batch_normalization_88[0][0]     \n",
      "__________________________________________________________________________________________________\n",
      "conv2d_89 (Conv2D)              (None, 8, 8, 6)      2268        activation_88[0][0]              \n",
      "__________________________________________________________________________________________________\n",
      "dropout_88 (Dropout)            (None, 8, 8, 6)      0           conv2d_89[0][0]                  \n",
      "__________________________________________________________________________________________________\n",
      "concatenate_86 (Concatenate)    (None, 8, 8, 48)     0           concatenate_85[0][0]             \n",
      "                                                                 dropout_88[0][0]                 \n",
      "__________________________________________________________________________________________________\n",
      "batch_normalization_89 (BatchNo (None, 8, 8, 48)     192         concatenate_86[0][0]             \n",
      "__________________________________________________________________________________________________\n",
      "activation_89 (Activation)      (None, 8, 8, 48)     0           batch_normalization_89[0][0]     \n",
      "__________________________________________________________________________________________________\n",
      "conv2d_90 (Conv2D)              (None, 8, 8, 6)      2592        activation_89[0][0]              \n",
      "__________________________________________________________________________________________________\n",
      "dropout_89 (Dropout)            (None, 8, 8, 6)      0           conv2d_90[0][0]                  \n",
      "__________________________________________________________________________________________________\n",
      "concatenate_87 (Concatenate)    (None, 8, 8, 54)     0           concatenate_86[0][0]             \n",
      "                                                                 dropout_89[0][0]                 \n",
      "__________________________________________________________________________________________________\n",
      "batch_normalization_90 (BatchNo (None, 8, 8, 54)     216         concatenate_87[0][0]             \n",
      "__________________________________________________________________________________________________\n",
      "activation_90 (Activation)      (None, 8, 8, 54)     0           batch_normalization_90[0][0]     \n",
      "__________________________________________________________________________________________________\n",
      "conv2d_91 (Conv2D)              (None, 8, 8, 6)      2916        activation_90[0][0]              \n",
      "__________________________________________________________________________________________________\n",
      "dropout_90 (Dropout)            (None, 8, 8, 6)      0           conv2d_91[0][0]                  \n",
      "__________________________________________________________________________________________________\n",
      "concatenate_88 (Concatenate)    (None, 8, 8, 60)     0           concatenate_87[0][0]             \n",
      "                                                                 dropout_90[0][0]                 \n",
      "__________________________________________________________________________________________________\n",
      "batch_normalization_91 (BatchNo (None, 8, 8, 60)     240         concatenate_88[0][0]             \n",
      "__________________________________________________________________________________________________\n",
      "activation_91 (Activation)      (None, 8, 8, 60)     0           batch_normalization_91[0][0]     \n",
      "__________________________________________________________________________________________________\n",
      "conv2d_92 (Conv2D)              (None, 8, 8, 6)      3240        activation_91[0][0]              \n",
      "__________________________________________________________________________________________________\n",
      "dropout_91 (Dropout)            (None, 8, 8, 6)      0           conv2d_92[0][0]                  \n",
      "__________________________________________________________________________________________________\n",
      "concatenate_89 (Concatenate)    (None, 8, 8, 66)     0           concatenate_88[0][0]             \n",
      "                                                                 dropout_91[0][0]                 \n",
      "__________________________________________________________________________________________________\n",
      "batch_normalization_92 (BatchNo (None, 8, 8, 66)     264         concatenate_89[0][0]             \n",
      "__________________________________________________________________________________________________\n",
      "activation_92 (Activation)      (None, 8, 8, 66)     0           batch_normalization_92[0][0]     \n",
      "__________________________________________________________________________________________________\n",
      "conv2d_93 (Conv2D)              (None, 8, 8, 6)      3564        activation_92[0][0]              \n",
      "__________________________________________________________________________________________________\n",
      "dropout_92 (Dropout)            (None, 8, 8, 6)      0           conv2d_93[0][0]                  \n",
      "__________________________________________________________________________________________________\n",
      "concatenate_90 (Concatenate)    (None, 8, 8, 72)     0           concatenate_89[0][0]             \n",
      "                                                                 dropout_92[0][0]                 \n",
      "__________________________________________________________________________________________________\n",
      "batch_normalization_93 (BatchNo (None, 8, 8, 72)     288         concatenate_90[0][0]             \n",
      "__________________________________________________________________________________________________\n",
      "activation_93 (Activation)      (None, 8, 8, 72)     0           batch_normalization_93[0][0]     \n",
      "__________________________________________________________________________________________________\n",
      "conv2d_94 (Conv2D)              (None, 8, 8, 6)      3888        activation_93[0][0]              \n",
      "__________________________________________________________________________________________________\n",
      "dropout_93 (Dropout)            (None, 8, 8, 6)      0           conv2d_94[0][0]                  \n",
      "__________________________________________________________________________________________________\n",
      "concatenate_91 (Concatenate)    (None, 8, 8, 78)     0           concatenate_90[0][0]             \n",
      "                                                                 dropout_93[0][0]                 \n",
      "__________________________________________________________________________________________________\n",
      "batch_normalization_94 (BatchNo (None, 8, 8, 78)     312         concatenate_91[0][0]             \n",
      "__________________________________________________________________________________________________\n",
      "activation_94 (Activation)      (None, 8, 8, 78)     0           batch_normalization_94[0][0]     \n",
      "__________________________________________________________________________________________________\n",
      "conv2d_95 (Conv2D)              (None, 8, 8, 6)      4212        activation_94[0][0]              \n",
      "__________________________________________________________________________________________________\n",
      "dropout_94 (Dropout)            (None, 8, 8, 6)      0           conv2d_95[0][0]                  \n",
      "__________________________________________________________________________________________________\n",
      "concatenate_92 (Concatenate)    (None, 8, 8, 84)     0           concatenate_91[0][0]             \n",
      "                                                                 dropout_94[0][0]                 \n",
      "__________________________________________________________________________________________________\n",
      "batch_normalization_95 (BatchNo (None, 8, 8, 84)     336         concatenate_92[0][0]             \n",
      "__________________________________________________________________________________________________\n",
      "activation_95 (Activation)      (None, 8, 8, 84)     0           batch_normalization_95[0][0]     \n",
      "__________________________________________________________________________________________________\n",
      "conv2d_96 (Conv2D)              (None, 8, 8, 6)      4536        activation_95[0][0]              \n",
      "__________________________________________________________________________________________________\n",
      "dropout_95 (Dropout)            (None, 8, 8, 6)      0           conv2d_96[0][0]                  \n",
      "__________________________________________________________________________________________________\n",
      "concatenate_93 (Concatenate)    (None, 8, 8, 90)     0           concatenate_92[0][0]             \n",
      "                                                                 dropout_95[0][0]                 \n",
      "__________________________________________________________________________________________________\n",
      "batch_normalization_96 (BatchNo (None, 8, 8, 90)     360         concatenate_93[0][0]             \n",
      "__________________________________________________________________________________________________\n",
      "activation_96 (Activation)      (None, 8, 8, 90)     0           batch_normalization_96[0][0]     \n",
      "__________________________________________________________________________________________________\n",
      "conv2d_97 (Conv2D)              (None, 8, 8, 6)      4860        activation_96[0][0]              \n",
      "__________________________________________________________________________________________________\n",
      "dropout_96 (Dropout)            (None, 8, 8, 6)      0           conv2d_97[0][0]                  \n",
      "__________________________________________________________________________________________________\n",
      "concatenate_94 (Concatenate)    (None, 8, 8, 96)     0           concatenate_93[0][0]             \n",
      "                                                                 dropout_96[0][0]                 \n",
      "__________________________________________________________________________________________________\n",
      "batch_normalization_97 (BatchNo (None, 8, 8, 96)     384         concatenate_94[0][0]             \n",
      "__________________________________________________________________________________________________\n",
      "activation_97 (Activation)      (None, 8, 8, 96)     0           batch_normalization_97[0][0]     \n",
      "__________________________________________________________________________________________________\n",
      "conv2d_98 (Conv2D)              (None, 8, 8, 6)      5184        activation_97[0][0]              \n",
      "__________________________________________________________________________________________________\n",
      "dropout_97 (Dropout)            (None, 8, 8, 6)      0           conv2d_98[0][0]                  \n",
      "__________________________________________________________________________________________________\n",
      "concatenate_95 (Concatenate)    (None, 8, 8, 102)    0           concatenate_94[0][0]             \n",
      "                                                                 dropout_97[0][0]                 \n",
      "__________________________________________________________________________________________________\n",
      "batch_normalization_98 (BatchNo (None, 8, 8, 102)    408         concatenate_95[0][0]             \n",
      "__________________________________________________________________________________________________\n",
      "activation_98 (Activation)      (None, 8, 8, 102)    0           batch_normalization_98[0][0]     \n",
      "__________________________________________________________________________________________________\n",
      "conv2d_99 (Conv2D)              (None, 8, 8, 6)      5508        activation_98[0][0]              \n",
      "__________________________________________________________________________________________________\n",
      "dropout_98 (Dropout)            (None, 8, 8, 6)      0           conv2d_99[0][0]                  \n",
      "__________________________________________________________________________________________________\n",
      "concatenate_96 (Concatenate)    (None, 8, 8, 108)    0           concatenate_95[0][0]             \n",
      "                                                                 dropout_98[0][0]                 \n",
      "__________________________________________________________________________________________________\n",
      "batch_normalization_99 (BatchNo (None, 8, 8, 108)    432         concatenate_96[0][0]             \n",
      "__________________________________________________________________________________________________\n",
      "activation_99 (Activation)      (None, 8, 8, 108)    0           batch_normalization_99[0][0]     \n",
      "__________________________________________________________________________________________________\n",
      "conv2d_100 (Conv2D)             (None, 8, 8, 6)      5832        activation_99[0][0]              \n",
      "__________________________________________________________________________________________________\n",
      "dropout_99 (Dropout)            (None, 8, 8, 6)      0           conv2d_100[0][0]                 \n",
      "__________________________________________________________________________________________________\n",
      "concatenate_97 (Concatenate)    (None, 8, 8, 114)    0           concatenate_96[0][0]             \n",
      "                                                                 dropout_99[0][0]                 \n",
      "__________________________________________________________________________________________________\n",
      "batch_normalization_100 (BatchN (None, 8, 8, 114)    456         concatenate_97[0][0]             \n",
      "__________________________________________________________________________________________________\n",
      "activation_100 (Activation)     (None, 8, 8, 114)    0           batch_normalization_100[0][0]    \n",
      "__________________________________________________________________________________________________\n",
      "conv2d_101 (Conv2D)             (None, 8, 8, 6)      6156        activation_100[0][0]             \n",
      "__________________________________________________________________________________________________\n",
      "dropout_100 (Dropout)           (None, 8, 8, 6)      0           conv2d_101[0][0]                 \n",
      "__________________________________________________________________________________________________\n",
      "concatenate_98 (Concatenate)    (None, 8, 8, 120)    0           concatenate_97[0][0]             \n",
      "                                                                 dropout_100[0][0]                \n",
      "__________________________________________________________________________________________________\n",
      "batch_normalization_101 (BatchN (None, 8, 8, 120)    480         concatenate_98[0][0]             \n",
      "__________________________________________________________________________________________________\n",
      "activation_101 (Activation)     (None, 8, 8, 120)    0           batch_normalization_101[0][0]    \n",
      "__________________________________________________________________________________________________\n",
      "conv2d_102 (Conv2D)             (None, 8, 8, 6)      6480        activation_101[0][0]             \n",
      "__________________________________________________________________________________________________\n",
      "dropout_101 (Dropout)           (None, 8, 8, 6)      0           conv2d_102[0][0]                 \n",
      "__________________________________________________________________________________________________\n",
      "concatenate_99 (Concatenate)    (None, 8, 8, 126)    0           concatenate_98[0][0]             \n",
      "                                                                 dropout_101[0][0]                \n",
      "__________________________________________________________________________________________________\n",
      "batch_normalization_102 (BatchN (None, 8, 8, 126)    504         concatenate_99[0][0]             \n",
      "__________________________________________________________________________________________________\n",
      "activation_102 (Activation)     (None, 8, 8, 126)    0           batch_normalization_102[0][0]    \n",
      "__________________________________________________________________________________________________\n",
      "conv2d_103 (Conv2D)             (None, 8, 8, 6)      6804        activation_102[0][0]             \n",
      "__________________________________________________________________________________________________\n",
      "dropout_102 (Dropout)           (None, 8, 8, 6)      0           conv2d_103[0][0]                 \n",
      "__________________________________________________________________________________________________\n",
      "concatenate_100 (Concatenate)   (None, 8, 8, 132)    0           concatenate_99[0][0]             \n",
      "                                                                 dropout_102[0][0]                \n",
      "__________________________________________________________________________________________________\n",
      "batch_normalization_103 (BatchN (None, 8, 8, 132)    528         concatenate_100[0][0]            \n",
      "__________________________________________________________________________________________________\n",
      "activation_103 (Activation)     (None, 8, 8, 132)    0           batch_normalization_103[0][0]    \n",
      "__________________________________________________________________________________________________\n",
      "conv2d_104 (Conv2D)             (None, 8, 8, 6)      7128        activation_103[0][0]             \n",
      "__________________________________________________________________________________________________\n",
      "dropout_103 (Dropout)           (None, 8, 8, 6)      0           conv2d_104[0][0]                 \n",
      "__________________________________________________________________________________________________\n",
      "concatenate_101 (Concatenate)   (None, 8, 8, 138)    0           concatenate_100[0][0]            \n",
      "                                                                 dropout_103[0][0]                \n",
      "__________________________________________________________________________________________________\n",
      "batch_normalization_104 (BatchN (None, 8, 8, 138)    552         concatenate_101[0][0]            \n",
      "__________________________________________________________________________________________________\n",
      "activation_104 (Activation)     (None, 8, 8, 138)    0           batch_normalization_104[0][0]    \n",
      "__________________________________________________________________________________________________\n",
      "conv2d_105 (Conv2D)             (None, 8, 8, 6)      7452        activation_104[0][0]             \n",
      "__________________________________________________________________________________________________\n",
      "dropout_104 (Dropout)           (None, 8, 8, 6)      0           conv2d_105[0][0]                 \n",
      "__________________________________________________________________________________________________\n",
      "concatenate_102 (Concatenate)   (None, 8, 8, 144)    0           concatenate_101[0][0]            \n",
      "                                                                 dropout_104[0][0]                \n",
      "__________________________________________________________________________________________________\n",
      "batch_normalization_105 (BatchN (None, 8, 8, 144)    576         concatenate_102[0][0]            \n",
      "__________________________________________________________________________________________________\n",
      "activation_105 (Activation)     (None, 8, 8, 144)    0           batch_normalization_105[0][0]    \n",
      "__________________________________________________________________________________________________\n",
      "conv2d_106 (Conv2D)             (None, 8, 8, 6)      7776        activation_105[0][0]             \n",
      "__________________________________________________________________________________________________\n",
      "dropout_105 (Dropout)           (None, 8, 8, 6)      0           conv2d_106[0][0]                 \n",
      "__________________________________________________________________________________________________\n",
      "concatenate_103 (Concatenate)   (None, 8, 8, 150)    0           concatenate_102[0][0]            \n",
      "                                                                 dropout_105[0][0]                \n",
      "__________________________________________________________________________________________________\n",
      "batch_normalization_106 (BatchN (None, 8, 8, 150)    600         concatenate_103[0][0]            \n",
      "__________________________________________________________________________________________________\n",
      "activation_106 (Activation)     (None, 8, 8, 150)    0           batch_normalization_106[0][0]    \n",
      "__________________________________________________________________________________________________\n",
      "conv2d_107 (Conv2D)             (None, 8, 8, 6)      8100        activation_106[0][0]             \n",
      "__________________________________________________________________________________________________\n",
      "dropout_106 (Dropout)           (None, 8, 8, 6)      0           conv2d_107[0][0]                 \n",
      "__________________________________________________________________________________________________\n",
      "concatenate_104 (Concatenate)   (None, 8, 8, 156)    0           concatenate_103[0][0]            \n",
      "                                                                 dropout_106[0][0]                \n",
      "__________________________________________________________________________________________________\n",
      "batch_normalization_107 (BatchN (None, 8, 8, 156)    624         concatenate_104[0][0]            \n",
      "__________________________________________________________________________________________________\n",
      "activation_107 (Activation)     (None, 8, 8, 156)    0           batch_normalization_107[0][0]    \n",
      "__________________________________________________________________________________________________\n",
      "conv2d_108 (Conv2D)             (None, 8, 8, 6)      8424        activation_107[0][0]             \n",
      "__________________________________________________________________________________________________\n",
      "dropout_107 (Dropout)           (None, 8, 8, 6)      0           conv2d_108[0][0]                 \n",
      "__________________________________________________________________________________________________\n",
      "concatenate_105 (Concatenate)   (None, 8, 8, 162)    0           concatenate_104[0][0]            \n",
      "                                                                 dropout_107[0][0]                \n",
      "__________________________________________________________________________________________________\n",
      "batch_normalization_108 (BatchN (None, 8, 8, 162)    648         concatenate_105[0][0]            \n",
      "__________________________________________________________________________________________________\n",
      "activation_108 (Activation)     (None, 8, 8, 162)    0           batch_normalization_108[0][0]    \n",
      "__________________________________________________________________________________________________\n",
      "conv2d_109 (Conv2D)             (None, 8, 8, 6)      8748        activation_108[0][0]             \n",
      "__________________________________________________________________________________________________\n",
      "dropout_108 (Dropout)           (None, 8, 8, 6)      0           conv2d_109[0][0]                 \n",
      "__________________________________________________________________________________________________\n",
      "concatenate_106 (Concatenate)   (None, 8, 8, 168)    0           concatenate_105[0][0]            \n",
      "                                                                 dropout_108[0][0]                \n",
      "__________________________________________________________________________________________________\n",
      "batch_normalization_109 (BatchN (None, 8, 8, 168)    672         concatenate_106[0][0]            \n",
      "__________________________________________________________________________________________________\n",
      "activation_109 (Activation)     (None, 8, 8, 168)    0           batch_normalization_109[0][0]    \n",
      "__________________________________________________________________________________________________\n",
      "conv2d_110 (Conv2D)             (None, 8, 8, 6)      9072        activation_109[0][0]             \n",
      "__________________________________________________________________________________________________\n",
      "dropout_109 (Dropout)           (None, 8, 8, 6)      0           conv2d_110[0][0]                 \n",
      "__________________________________________________________________________________________________\n",
      "concatenate_107 (Concatenate)   (None, 8, 8, 174)    0           concatenate_106[0][0]            \n",
      "                                                                 dropout_109[0][0]                \n",
      "__________________________________________________________________________________________________\n",
      "batch_normalization_110 (BatchN (None, 8, 8, 174)    696         concatenate_107[0][0]            \n",
      "__________________________________________________________________________________________________\n",
      "activation_110 (Activation)     (None, 8, 8, 174)    0           batch_normalization_110[0][0]    \n",
      "__________________________________________________________________________________________________\n",
      "conv2d_111 (Conv2D)             (None, 8, 8, 6)      9396        activation_110[0][0]             \n",
      "__________________________________________________________________________________________________\n",
      "dropout_110 (Dropout)           (None, 8, 8, 6)      0           conv2d_111[0][0]                 \n",
      "__________________________________________________________________________________________________\n",
      "concatenate_108 (Concatenate)   (None, 8, 8, 180)    0           concatenate_107[0][0]            \n",
      "                                                                 dropout_110[0][0]                \n",
      "__________________________________________________________________________________________________\n",
      "batch_normalization_111 (BatchN (None, 8, 8, 180)    720         concatenate_108[0][0]            \n",
      "__________________________________________________________________________________________________\n",
      "activation_111 (Activation)     (None, 8, 8, 180)    0           batch_normalization_111[0][0]    \n",
      "__________________________________________________________________________________________________\n",
      "conv2d_112 (Conv2D)             (None, 8, 8, 6)      9720        activation_111[0][0]             \n",
      "__________________________________________________________________________________________________\n",
      "dropout_111 (Dropout)           (None, 8, 8, 6)      0           conv2d_112[0][0]                 \n",
      "__________________________________________________________________________________________________\n",
      "concatenate_109 (Concatenate)   (None, 8, 8, 186)    0           concatenate_108[0][0]            \n",
      "                                                                 dropout_111[0][0]                \n",
      "__________________________________________________________________________________________________\n",
      "batch_normalization_112 (BatchN (None, 8, 8, 186)    744         concatenate_109[0][0]            \n",
      "__________________________________________________________________________________________________\n",
      "activation_112 (Activation)     (None, 8, 8, 186)    0           batch_normalization_112[0][0]    \n",
      "__________________________________________________________________________________________________\n",
      "conv2d_113 (Conv2D)             (None, 8, 8, 6)      10044       activation_112[0][0]             \n",
      "__________________________________________________________________________________________________\n",
      "dropout_112 (Dropout)           (None, 8, 8, 6)      0           conv2d_113[0][0]                 \n",
      "__________________________________________________________________________________________________\n",
      "concatenate_110 (Concatenate)   (None, 8, 8, 192)    0           concatenate_109[0][0]            \n",
      "                                                                 dropout_112[0][0]                \n",
      "__________________________________________________________________________________________________\n",
      "batch_normalization_113 (BatchN (None, 8, 8, 192)    768         concatenate_110[0][0]            \n",
      "__________________________________________________________________________________________________\n",
      "activation_113 (Activation)     (None, 8, 8, 192)    0           batch_normalization_113[0][0]    \n",
      "__________________________________________________________________________________________________\n",
      "conv2d_114 (Conv2D)             (None, 8, 8, 6)      10368       activation_113[0][0]             \n",
      "__________________________________________________________________________________________________\n",
      "dropout_113 (Dropout)           (None, 8, 8, 6)      0           conv2d_114[0][0]                 \n",
      "__________________________________________________________________________________________________\n",
      "concatenate_111 (Concatenate)   (None, 8, 8, 198)    0           concatenate_110[0][0]            \n",
      "                                                                 dropout_113[0][0]                \n",
      "__________________________________________________________________________________________________\n",
      "batch_normalization_114 (BatchN (None, 8, 8, 198)    792         concatenate_111[0][0]            \n",
      "__________________________________________________________________________________________________\n",
      "activation_114 (Activation)     (None, 8, 8, 198)    0           batch_normalization_114[0][0]    \n",
      "__________________________________________________________________________________________________\n",
      "conv2d_115 (Conv2D)             (None, 8, 8, 6)      10692       activation_114[0][0]             \n",
      "__________________________________________________________________________________________________\n",
      "dropout_114 (Dropout)           (None, 8, 8, 6)      0           conv2d_115[0][0]                 \n",
      "__________________________________________________________________________________________________\n",
      "concatenate_112 (Concatenate)   (None, 8, 8, 204)    0           concatenate_111[0][0]            \n",
      "                                                                 dropout_114[0][0]                \n",
      "__________________________________________________________________________________________________\n",
      "batch_normalization_115 (BatchN (None, 8, 8, 204)    816         concatenate_112[0][0]            \n",
      "__________________________________________________________________________________________________\n",
      "activation_115 (Activation)     (None, 8, 8, 204)    0           batch_normalization_115[0][0]    \n",
      "__________________________________________________________________________________________________\n",
      "conv2d_116 (Conv2D)             (None, 8, 8, 6)      11016       activation_115[0][0]             \n",
      "__________________________________________________________________________________________________\n",
      "dropout_115 (Dropout)           (None, 8, 8, 6)      0           conv2d_116[0][0]                 \n",
      "__________________________________________________________________________________________________\n",
      "concatenate_113 (Concatenate)   (None, 8, 8, 210)    0           concatenate_112[0][0]            \n",
      "                                                                 dropout_115[0][0]                \n",
      "__________________________________________________________________________________________________\n",
      "batch_normalization_116 (BatchN (None, 8, 8, 210)    840         concatenate_113[0][0]            \n",
      "__________________________________________________________________________________________________\n",
      "activation_116 (Activation)     (None, 8, 8, 210)    0           batch_normalization_116[0][0]    \n",
      "__________________________________________________________________________________________________\n",
      "conv2d_117 (Conv2D)             (None, 8, 8, 6)      11340       activation_116[0][0]             \n",
      "__________________________________________________________________________________________________\n",
      "dropout_116 (Dropout)           (None, 8, 8, 6)      0           conv2d_117[0][0]                 \n",
      "__________________________________________________________________________________________________\n",
      "concatenate_114 (Concatenate)   (None, 8, 8, 216)    0           concatenate_113[0][0]            \n",
      "                                                                 dropout_116[0][0]                \n",
      "__________________________________________________________________________________________________\n",
      "batch_normalization_117 (BatchN (None, 8, 8, 216)    864         concatenate_114[0][0]            \n",
      "__________________________________________________________________________________________________\n",
      "activation_117 (Activation)     (None, 8, 8, 216)    0           batch_normalization_117[0][0]    \n",
      "__________________________________________________________________________________________________\n",
      "conv2d_118 (Conv2D)             (None, 8, 8, 6)      11664       activation_117[0][0]             \n",
      "__________________________________________________________________________________________________\n",
      "dropout_117 (Dropout)           (None, 8, 8, 6)      0           conv2d_118[0][0]                 \n",
      "__________________________________________________________________________________________________\n",
      "concatenate_115 (Concatenate)   (None, 8, 8, 222)    0           concatenate_114[0][0]            \n",
      "                                                                 dropout_117[0][0]                \n",
      "__________________________________________________________________________________________________\n",
      "batch_normalization_118 (BatchN (None, 8, 8, 222)    888         concatenate_115[0][0]            \n",
      "__________________________________________________________________________________________________\n",
      "activation_118 (Activation)     (None, 8, 8, 222)    0           batch_normalization_118[0][0]    \n",
      "__________________________________________________________________________________________________\n",
      "conv2d_119 (Conv2D)             (None, 8, 8, 6)      11988       activation_118[0][0]             \n",
      "__________________________________________________________________________________________________\n",
      "dropout_118 (Dropout)           (None, 8, 8, 6)      0           conv2d_119[0][0]                 \n",
      "__________________________________________________________________________________________________\n",
      "concatenate_116 (Concatenate)   (None, 8, 8, 228)    0           concatenate_115[0][0]            \n",
      "                                                                 dropout_118[0][0]                \n",
      "__________________________________________________________________________________________________\n",
      "batch_normalization_119 (BatchN (None, 8, 8, 228)    912         concatenate_116[0][0]            \n",
      "__________________________________________________________________________________________________\n",
      "activation_119 (Activation)     (None, 8, 8, 228)    0           batch_normalization_119[0][0]    \n",
      "__________________________________________________________________________________________________\n",
      "conv2d_120 (Conv2D)             (None, 8, 8, 6)      12312       activation_119[0][0]             \n",
      "__________________________________________________________________________________________________\n",
      "dropout_119 (Dropout)           (None, 8, 8, 6)      0           conv2d_120[0][0]                 \n",
      "__________________________________________________________________________________________________\n",
      "concatenate_117 (Concatenate)   (None, 8, 8, 234)    0           concatenate_116[0][0]            \n",
      "                                                                 dropout_119[0][0]                \n",
      "__________________________________________________________________________________________________\n",
      "batch_normalization_120 (BatchN (None, 8, 8, 234)    936         concatenate_117[0][0]            \n",
      "__________________________________________________________________________________________________\n",
      "activation_120 (Activation)     (None, 8, 8, 234)    0           batch_normalization_120[0][0]    \n",
      "__________________________________________________________________________________________________\n",
      "conv2d_121 (Conv2D)             (None, 8, 8, 6)      12636       activation_120[0][0]             \n",
      "__________________________________________________________________________________________________\n",
      "dropout_120 (Dropout)           (None, 8, 8, 6)      0           conv2d_121[0][0]                 \n",
      "__________________________________________________________________________________________________\n",
      "concatenate_118 (Concatenate)   (None, 8, 8, 240)    0           concatenate_117[0][0]            \n",
      "                                                                 dropout_120[0][0]                \n",
      "__________________________________________________________________________________________________\n",
      "batch_normalization_121 (BatchN (None, 8, 8, 240)    960         concatenate_118[0][0]            \n",
      "__________________________________________________________________________________________________\n",
      "activation_121 (Activation)     (None, 8, 8, 240)    0           batch_normalization_121[0][0]    \n",
      "__________________________________________________________________________________________________\n",
      "conv2d_122 (Conv2D)             (None, 8, 8, 6)      12960       activation_121[0][0]             \n",
      "__________________________________________________________________________________________________\n",
      "dropout_121 (Dropout)           (None, 8, 8, 6)      0           conv2d_122[0][0]                 \n",
      "__________________________________________________________________________________________________\n",
      "concatenate_119 (Concatenate)   (None, 8, 8, 246)    0           concatenate_118[0][0]            \n",
      "                                                                 dropout_121[0][0]                \n",
      "__________________________________________________________________________________________________\n",
      "batch_normalization_122 (BatchN (None, 8, 8, 246)    984         concatenate_119[0][0]            \n",
      "__________________________________________________________________________________________________\n",
      "activation_122 (Activation)     (None, 8, 8, 246)    0           batch_normalization_122[0][0]    \n",
      "__________________________________________________________________________________________________\n",
      "conv2d_123 (Conv2D)             (None, 8, 8, 6)      1476        activation_122[0][0]             \n",
      "__________________________________________________________________________________________________\n",
      "dropout_122 (Dropout)           (None, 8, 8, 6)      0           conv2d_123[0][0]                 \n",
      "__________________________________________________________________________________________________\n",
      "average_pooling2d_2 (AveragePoo (None, 4, 4, 6)      0           dropout_122[0][0]                \n",
      "__________________________________________________________________________________________________\n",
      "batch_normalization_123 (BatchN (None, 4, 4, 6)      24          average_pooling2d_2[0][0]        \n",
      "__________________________________________________________________________________________________\n",
      "activation_123 (Activation)     (None, 4, 4, 6)      0           batch_normalization_123[0][0]    \n",
      "__________________________________________________________________________________________________\n",
      "conv2d_124 (Conv2D)             (None, 4, 4, 6)      324         activation_123[0][0]             \n",
      "__________________________________________________________________________________________________\n",
      "dropout_123 (Dropout)           (None, 4, 4, 6)      0           conv2d_124[0][0]                 \n",
      "__________________________________________________________________________________________________\n",
      "concatenate_120 (Concatenate)   (None, 4, 4, 12)     0           average_pooling2d_2[0][0]        \n",
      "                                                                 dropout_123[0][0]                \n",
      "__________________________________________________________________________________________________\n",
      "batch_normalization_124 (BatchN (None, 4, 4, 12)     48          concatenate_120[0][0]            \n",
      "__________________________________________________________________________________________________\n",
      "activation_124 (Activation)     (None, 4, 4, 12)     0           batch_normalization_124[0][0]    \n",
      "__________________________________________________________________________________________________\n",
      "conv2d_125 (Conv2D)             (None, 4, 4, 6)      648         activation_124[0][0]             \n",
      "__________________________________________________________________________________________________\n",
      "dropout_124 (Dropout)           (None, 4, 4, 6)      0           conv2d_125[0][0]                 \n",
      "__________________________________________________________________________________________________\n",
      "concatenate_121 (Concatenate)   (None, 4, 4, 18)     0           concatenate_120[0][0]            \n",
      "                                                                 dropout_124[0][0]                \n",
      "__________________________________________________________________________________________________\n",
      "batch_normalization_125 (BatchN (None, 4, 4, 18)     72          concatenate_121[0][0]            \n",
      "__________________________________________________________________________________________________\n",
      "activation_125 (Activation)     (None, 4, 4, 18)     0           batch_normalization_125[0][0]    \n",
      "__________________________________________________________________________________________________\n",
      "conv2d_126 (Conv2D)             (None, 4, 4, 6)      972         activation_125[0][0]             \n",
      "__________________________________________________________________________________________________\n",
      "dropout_125 (Dropout)           (None, 4, 4, 6)      0           conv2d_126[0][0]                 \n",
      "__________________________________________________________________________________________________\n",
      "concatenate_122 (Concatenate)   (None, 4, 4, 24)     0           concatenate_121[0][0]            \n",
      "                                                                 dropout_125[0][0]                \n",
      "__________________________________________________________________________________________________\n",
      "batch_normalization_126 (BatchN (None, 4, 4, 24)     96          concatenate_122[0][0]            \n",
      "__________________________________________________________________________________________________\n",
      "activation_126 (Activation)     (None, 4, 4, 24)     0           batch_normalization_126[0][0]    \n",
      "__________________________________________________________________________________________________\n",
      "conv2d_127 (Conv2D)             (None, 4, 4, 6)      1296        activation_126[0][0]             \n",
      "__________________________________________________________________________________________________\n",
      "dropout_126 (Dropout)           (None, 4, 4, 6)      0           conv2d_127[0][0]                 \n",
      "__________________________________________________________________________________________________\n",
      "concatenate_123 (Concatenate)   (None, 4, 4, 30)     0           concatenate_122[0][0]            \n",
      "                                                                 dropout_126[0][0]                \n",
      "__________________________________________________________________________________________________\n",
      "batch_normalization_127 (BatchN (None, 4, 4, 30)     120         concatenate_123[0][0]            \n",
      "__________________________________________________________________________________________________\n",
      "activation_127 (Activation)     (None, 4, 4, 30)     0           batch_normalization_127[0][0]    \n",
      "__________________________________________________________________________________________________\n",
      "conv2d_128 (Conv2D)             (None, 4, 4, 6)      1620        activation_127[0][0]             \n",
      "__________________________________________________________________________________________________\n",
      "dropout_127 (Dropout)           (None, 4, 4, 6)      0           conv2d_128[0][0]                 \n",
      "__________________________________________________________________________________________________\n",
      "concatenate_124 (Concatenate)   (None, 4, 4, 36)     0           concatenate_123[0][0]            \n",
      "                                                                 dropout_127[0][0]                \n",
      "__________________________________________________________________________________________________\n",
      "batch_normalization_128 (BatchN (None, 4, 4, 36)     144         concatenate_124[0][0]            \n",
      "__________________________________________________________________________________________________\n",
      "activation_128 (Activation)     (None, 4, 4, 36)     0           batch_normalization_128[0][0]    \n",
      "__________________________________________________________________________________________________\n",
      "conv2d_129 (Conv2D)             (None, 4, 4, 6)      1944        activation_128[0][0]             \n",
      "__________________________________________________________________________________________________\n",
      "dropout_128 (Dropout)           (None, 4, 4, 6)      0           conv2d_129[0][0]                 \n",
      "__________________________________________________________________________________________________\n",
      "concatenate_125 (Concatenate)   (None, 4, 4, 42)     0           concatenate_124[0][0]            \n",
      "                                                                 dropout_128[0][0]                \n",
      "__________________________________________________________________________________________________\n",
      "batch_normalization_129 (BatchN (None, 4, 4, 42)     168         concatenate_125[0][0]            \n",
      "__________________________________________________________________________________________________\n",
      "activation_129 (Activation)     (None, 4, 4, 42)     0           batch_normalization_129[0][0]    \n",
      "__________________________________________________________________________________________________\n",
      "conv2d_130 (Conv2D)             (None, 4, 4, 6)      2268        activation_129[0][0]             \n",
      "__________________________________________________________________________________________________\n",
      "dropout_129 (Dropout)           (None, 4, 4, 6)      0           conv2d_130[0][0]                 \n",
      "__________________________________________________________________________________________________\n",
      "concatenate_126 (Concatenate)   (None, 4, 4, 48)     0           concatenate_125[0][0]            \n",
      "                                                                 dropout_129[0][0]                \n",
      "__________________________________________________________________________________________________\n",
      "batch_normalization_130 (BatchN (None, 4, 4, 48)     192         concatenate_126[0][0]            \n",
      "__________________________________________________________________________________________________\n",
      "activation_130 (Activation)     (None, 4, 4, 48)     0           batch_normalization_130[0][0]    \n",
      "__________________________________________________________________________________________________\n",
      "conv2d_131 (Conv2D)             (None, 4, 4, 6)      2592        activation_130[0][0]             \n",
      "__________________________________________________________________________________________________\n",
      "dropout_130 (Dropout)           (None, 4, 4, 6)      0           conv2d_131[0][0]                 \n",
      "__________________________________________________________________________________________________\n",
      "concatenate_127 (Concatenate)   (None, 4, 4, 54)     0           concatenate_126[0][0]            \n",
      "                                                                 dropout_130[0][0]                \n",
      "__________________________________________________________________________________________________\n",
      "batch_normalization_131 (BatchN (None, 4, 4, 54)     216         concatenate_127[0][0]            \n",
      "__________________________________________________________________________________________________\n",
      "activation_131 (Activation)     (None, 4, 4, 54)     0           batch_normalization_131[0][0]    \n",
      "__________________________________________________________________________________________________\n",
      "conv2d_132 (Conv2D)             (None, 4, 4, 6)      2916        activation_131[0][0]             \n",
      "__________________________________________________________________________________________________\n",
      "dropout_131 (Dropout)           (None, 4, 4, 6)      0           conv2d_132[0][0]                 \n",
      "__________________________________________________________________________________________________\n",
      "concatenate_128 (Concatenate)   (None, 4, 4, 60)     0           concatenate_127[0][0]            \n",
      "                                                                 dropout_131[0][0]                \n",
      "__________________________________________________________________________________________________\n",
      "batch_normalization_132 (BatchN (None, 4, 4, 60)     240         concatenate_128[0][0]            \n",
      "__________________________________________________________________________________________________\n",
      "activation_132 (Activation)     (None, 4, 4, 60)     0           batch_normalization_132[0][0]    \n",
      "__________________________________________________________________________________________________\n",
      "conv2d_133 (Conv2D)             (None, 4, 4, 6)      3240        activation_132[0][0]             \n",
      "__________________________________________________________________________________________________\n",
      "dropout_132 (Dropout)           (None, 4, 4, 6)      0           conv2d_133[0][0]                 \n",
      "__________________________________________________________________________________________________\n",
      "concatenate_129 (Concatenate)   (None, 4, 4, 66)     0           concatenate_128[0][0]            \n",
      "                                                                 dropout_132[0][0]                \n",
      "__________________________________________________________________________________________________\n",
      "batch_normalization_133 (BatchN (None, 4, 4, 66)     264         concatenate_129[0][0]            \n",
      "__________________________________________________________________________________________________\n",
      "activation_133 (Activation)     (None, 4, 4, 66)     0           batch_normalization_133[0][0]    \n",
      "__________________________________________________________________________________________________\n",
      "conv2d_134 (Conv2D)             (None, 4, 4, 6)      3564        activation_133[0][0]             \n",
      "__________________________________________________________________________________________________\n",
      "dropout_133 (Dropout)           (None, 4, 4, 6)      0           conv2d_134[0][0]                 \n",
      "__________________________________________________________________________________________________\n",
      "concatenate_130 (Concatenate)   (None, 4, 4, 72)     0           concatenate_129[0][0]            \n",
      "                                                                 dropout_133[0][0]                \n",
      "__________________________________________________________________________________________________\n",
      "batch_normalization_134 (BatchN (None, 4, 4, 72)     288         concatenate_130[0][0]            \n",
      "__________________________________________________________________________________________________\n",
      "activation_134 (Activation)     (None, 4, 4, 72)     0           batch_normalization_134[0][0]    \n",
      "__________________________________________________________________________________________________\n",
      "conv2d_135 (Conv2D)             (None, 4, 4, 6)      3888        activation_134[0][0]             \n",
      "__________________________________________________________________________________________________\n",
      "dropout_134 (Dropout)           (None, 4, 4, 6)      0           conv2d_135[0][0]                 \n",
      "__________________________________________________________________________________________________\n",
      "concatenate_131 (Concatenate)   (None, 4, 4, 78)     0           concatenate_130[0][0]            \n",
      "                                                                 dropout_134[0][0]                \n",
      "__________________________________________________________________________________________________\n",
      "batch_normalization_135 (BatchN (None, 4, 4, 78)     312         concatenate_131[0][0]            \n",
      "__________________________________________________________________________________________________\n",
      "activation_135 (Activation)     (None, 4, 4, 78)     0           batch_normalization_135[0][0]    \n",
      "__________________________________________________________________________________________________\n",
      "conv2d_136 (Conv2D)             (None, 4, 4, 6)      4212        activation_135[0][0]             \n",
      "__________________________________________________________________________________________________\n",
      "dropout_135 (Dropout)           (None, 4, 4, 6)      0           conv2d_136[0][0]                 \n",
      "__________________________________________________________________________________________________\n",
      "concatenate_132 (Concatenate)   (None, 4, 4, 84)     0           concatenate_131[0][0]            \n",
      "                                                                 dropout_135[0][0]                \n",
      "__________________________________________________________________________________________________\n",
      "batch_normalization_136 (BatchN (None, 4, 4, 84)     336         concatenate_132[0][0]            \n",
      "__________________________________________________________________________________________________\n",
      "activation_136 (Activation)     (None, 4, 4, 84)     0           batch_normalization_136[0][0]    \n",
      "__________________________________________________________________________________________________\n",
      "conv2d_137 (Conv2D)             (None, 4, 4, 6)      4536        activation_136[0][0]             \n",
      "__________________________________________________________________________________________________\n",
      "dropout_136 (Dropout)           (None, 4, 4, 6)      0           conv2d_137[0][0]                 \n",
      "__________________________________________________________________________________________________\n",
      "concatenate_133 (Concatenate)   (None, 4, 4, 90)     0           concatenate_132[0][0]            \n",
      "                                                                 dropout_136[0][0]                \n",
      "__________________________________________________________________________________________________\n",
      "batch_normalization_137 (BatchN (None, 4, 4, 90)     360         concatenate_133[0][0]            \n",
      "__________________________________________________________________________________________________\n",
      "activation_137 (Activation)     (None, 4, 4, 90)     0           batch_normalization_137[0][0]    \n",
      "__________________________________________________________________________________________________\n",
      "conv2d_138 (Conv2D)             (None, 4, 4, 6)      4860        activation_137[0][0]             \n",
      "__________________________________________________________________________________________________\n",
      "dropout_137 (Dropout)           (None, 4, 4, 6)      0           conv2d_138[0][0]                 \n",
      "__________________________________________________________________________________________________\n",
      "concatenate_134 (Concatenate)   (None, 4, 4, 96)     0           concatenate_133[0][0]            \n",
      "                                                                 dropout_137[0][0]                \n",
      "__________________________________________________________________________________________________\n",
      "batch_normalization_138 (BatchN (None, 4, 4, 96)     384         concatenate_134[0][0]            \n",
      "__________________________________________________________________________________________________\n",
      "activation_138 (Activation)     (None, 4, 4, 96)     0           batch_normalization_138[0][0]    \n",
      "__________________________________________________________________________________________________\n",
      "conv2d_139 (Conv2D)             (None, 4, 4, 6)      5184        activation_138[0][0]             \n",
      "__________________________________________________________________________________________________\n",
      "dropout_138 (Dropout)           (None, 4, 4, 6)      0           conv2d_139[0][0]                 \n",
      "__________________________________________________________________________________________________\n",
      "concatenate_135 (Concatenate)   (None, 4, 4, 102)    0           concatenate_134[0][0]            \n",
      "                                                                 dropout_138[0][0]                \n",
      "__________________________________________________________________________________________________\n",
      "batch_normalization_139 (BatchN (None, 4, 4, 102)    408         concatenate_135[0][0]            \n",
      "__________________________________________________________________________________________________\n",
      "activation_139 (Activation)     (None, 4, 4, 102)    0           batch_normalization_139[0][0]    \n",
      "__________________________________________________________________________________________________\n",
      "conv2d_140 (Conv2D)             (None, 4, 4, 6)      5508        activation_139[0][0]             \n",
      "__________________________________________________________________________________________________\n",
      "dropout_139 (Dropout)           (None, 4, 4, 6)      0           conv2d_140[0][0]                 \n",
      "__________________________________________________________________________________________________\n",
      "concatenate_136 (Concatenate)   (None, 4, 4, 108)    0           concatenate_135[0][0]            \n",
      "                                                                 dropout_139[0][0]                \n",
      "__________________________________________________________________________________________________\n",
      "batch_normalization_140 (BatchN (None, 4, 4, 108)    432         concatenate_136[0][0]            \n",
      "__________________________________________________________________________________________________\n",
      "activation_140 (Activation)     (None, 4, 4, 108)    0           batch_normalization_140[0][0]    \n",
      "__________________________________________________________________________________________________\n",
      "conv2d_141 (Conv2D)             (None, 4, 4, 6)      5832        activation_140[0][0]             \n",
      "__________________________________________________________________________________________________\n",
      "dropout_140 (Dropout)           (None, 4, 4, 6)      0           conv2d_141[0][0]                 \n",
      "__________________________________________________________________________________________________\n",
      "concatenate_137 (Concatenate)   (None, 4, 4, 114)    0           concatenate_136[0][0]            \n",
      "                                                                 dropout_140[0][0]                \n",
      "__________________________________________________________________________________________________\n",
      "batch_normalization_141 (BatchN (None, 4, 4, 114)    456         concatenate_137[0][0]            \n",
      "__________________________________________________________________________________________________\n",
      "activation_141 (Activation)     (None, 4, 4, 114)    0           batch_normalization_141[0][0]    \n",
      "__________________________________________________________________________________________________\n",
      "conv2d_142 (Conv2D)             (None, 4, 4, 6)      6156        activation_141[0][0]             \n",
      "__________________________________________________________________________________________________\n",
      "dropout_141 (Dropout)           (None, 4, 4, 6)      0           conv2d_142[0][0]                 \n",
      "__________________________________________________________________________________________________\n",
      "concatenate_138 (Concatenate)   (None, 4, 4, 120)    0           concatenate_137[0][0]            \n",
      "                                                                 dropout_141[0][0]                \n",
      "__________________________________________________________________________________________________\n",
      "batch_normalization_142 (BatchN (None, 4, 4, 120)    480         concatenate_138[0][0]            \n",
      "__________________________________________________________________________________________________\n",
      "activation_142 (Activation)     (None, 4, 4, 120)    0           batch_normalization_142[0][0]    \n",
      "__________________________________________________________________________________________________\n",
      "conv2d_143 (Conv2D)             (None, 4, 4, 6)      6480        activation_142[0][0]             \n",
      "__________________________________________________________________________________________________\n",
      "dropout_142 (Dropout)           (None, 4, 4, 6)      0           conv2d_143[0][0]                 \n",
      "__________________________________________________________________________________________________\n",
      "concatenate_139 (Concatenate)   (None, 4, 4, 126)    0           concatenate_138[0][0]            \n",
      "                                                                 dropout_142[0][0]                \n",
      "__________________________________________________________________________________________________\n",
      "batch_normalization_143 (BatchN (None, 4, 4, 126)    504         concatenate_139[0][0]            \n",
      "__________________________________________________________________________________________________\n",
      "activation_143 (Activation)     (None, 4, 4, 126)    0           batch_normalization_143[0][0]    \n",
      "__________________________________________________________________________________________________\n",
      "conv2d_144 (Conv2D)             (None, 4, 4, 6)      6804        activation_143[0][0]             \n",
      "__________________________________________________________________________________________________\n",
      "dropout_143 (Dropout)           (None, 4, 4, 6)      0           conv2d_144[0][0]                 \n",
      "__________________________________________________________________________________________________\n",
      "concatenate_140 (Concatenate)   (None, 4, 4, 132)    0           concatenate_139[0][0]            \n",
      "                                                                 dropout_143[0][0]                \n",
      "__________________________________________________________________________________________________\n",
      "batch_normalization_144 (BatchN (None, 4, 4, 132)    528         concatenate_140[0][0]            \n",
      "__________________________________________________________________________________________________\n",
      "activation_144 (Activation)     (None, 4, 4, 132)    0           batch_normalization_144[0][0]    \n",
      "__________________________________________________________________________________________________\n",
      "conv2d_145 (Conv2D)             (None, 4, 4, 6)      7128        activation_144[0][0]             \n",
      "__________________________________________________________________________________________________\n",
      "dropout_144 (Dropout)           (None, 4, 4, 6)      0           conv2d_145[0][0]                 \n",
      "__________________________________________________________________________________________________\n",
      "concatenate_141 (Concatenate)   (None, 4, 4, 138)    0           concatenate_140[0][0]            \n",
      "                                                                 dropout_144[0][0]                \n",
      "__________________________________________________________________________________________________\n",
      "batch_normalization_145 (BatchN (None, 4, 4, 138)    552         concatenate_141[0][0]            \n",
      "__________________________________________________________________________________________________\n",
      "activation_145 (Activation)     (None, 4, 4, 138)    0           batch_normalization_145[0][0]    \n",
      "__________________________________________________________________________________________________\n",
      "conv2d_146 (Conv2D)             (None, 4, 4, 6)      7452        activation_145[0][0]             \n",
      "__________________________________________________________________________________________________\n",
      "dropout_145 (Dropout)           (None, 4, 4, 6)      0           conv2d_146[0][0]                 \n",
      "__________________________________________________________________________________________________\n",
      "concatenate_142 (Concatenate)   (None, 4, 4, 144)    0           concatenate_141[0][0]            \n",
      "                                                                 dropout_145[0][0]                \n",
      "__________________________________________________________________________________________________\n",
      "batch_normalization_146 (BatchN (None, 4, 4, 144)    576         concatenate_142[0][0]            \n",
      "__________________________________________________________________________________________________\n",
      "activation_146 (Activation)     (None, 4, 4, 144)    0           batch_normalization_146[0][0]    \n",
      "__________________________________________________________________________________________________\n",
      "conv2d_147 (Conv2D)             (None, 4, 4, 6)      7776        activation_146[0][0]             \n",
      "__________________________________________________________________________________________________\n",
      "dropout_146 (Dropout)           (None, 4, 4, 6)      0           conv2d_147[0][0]                 \n",
      "__________________________________________________________________________________________________\n",
      "concatenate_143 (Concatenate)   (None, 4, 4, 150)    0           concatenate_142[0][0]            \n",
      "                                                                 dropout_146[0][0]                \n",
      "__________________________________________________________________________________________________\n",
      "batch_normalization_147 (BatchN (None, 4, 4, 150)    600         concatenate_143[0][0]            \n",
      "__________________________________________________________________________________________________\n",
      "activation_147 (Activation)     (None, 4, 4, 150)    0           batch_normalization_147[0][0]    \n",
      "__________________________________________________________________________________________________\n",
      "conv2d_148 (Conv2D)             (None, 4, 4, 6)      8100        activation_147[0][0]             \n",
      "__________________________________________________________________________________________________\n",
      "dropout_147 (Dropout)           (None, 4, 4, 6)      0           conv2d_148[0][0]                 \n",
      "__________________________________________________________________________________________________\n",
      "concatenate_144 (Concatenate)   (None, 4, 4, 156)    0           concatenate_143[0][0]            \n",
      "                                                                 dropout_147[0][0]                \n",
      "__________________________________________________________________________________________________\n",
      "batch_normalization_148 (BatchN (None, 4, 4, 156)    624         concatenate_144[0][0]            \n",
      "__________________________________________________________________________________________________\n",
      "activation_148 (Activation)     (None, 4, 4, 156)    0           batch_normalization_148[0][0]    \n",
      "__________________________________________________________________________________________________\n",
      "conv2d_149 (Conv2D)             (None, 4, 4, 6)      8424        activation_148[0][0]             \n",
      "__________________________________________________________________________________________________\n",
      "dropout_148 (Dropout)           (None, 4, 4, 6)      0           conv2d_149[0][0]                 \n",
      "__________________________________________________________________________________________________\n",
      "concatenate_145 (Concatenate)   (None, 4, 4, 162)    0           concatenate_144[0][0]            \n",
      "                                                                 dropout_148[0][0]                \n",
      "__________________________________________________________________________________________________\n",
      "batch_normalization_149 (BatchN (None, 4, 4, 162)    648         concatenate_145[0][0]            \n",
      "__________________________________________________________________________________________________\n",
      "activation_149 (Activation)     (None, 4, 4, 162)    0           batch_normalization_149[0][0]    \n",
      "__________________________________________________________________________________________________\n",
      "conv2d_150 (Conv2D)             (None, 4, 4, 6)      8748        activation_149[0][0]             \n",
      "__________________________________________________________________________________________________\n",
      "dropout_149 (Dropout)           (None, 4, 4, 6)      0           conv2d_150[0][0]                 \n",
      "__________________________________________________________________________________________________\n",
      "concatenate_146 (Concatenate)   (None, 4, 4, 168)    0           concatenate_145[0][0]            \n",
      "                                                                 dropout_149[0][0]                \n",
      "__________________________________________________________________________________________________\n",
      "batch_normalization_150 (BatchN (None, 4, 4, 168)    672         concatenate_146[0][0]            \n",
      "__________________________________________________________________________________________________\n",
      "activation_150 (Activation)     (None, 4, 4, 168)    0           batch_normalization_150[0][0]    \n",
      "__________________________________________________________________________________________________\n",
      "conv2d_151 (Conv2D)             (None, 4, 4, 6)      9072        activation_150[0][0]             \n",
      "__________________________________________________________________________________________________\n",
      "dropout_150 (Dropout)           (None, 4, 4, 6)      0           conv2d_151[0][0]                 \n",
      "__________________________________________________________________________________________________\n",
      "concatenate_147 (Concatenate)   (None, 4, 4, 174)    0           concatenate_146[0][0]            \n",
      "                                                                 dropout_150[0][0]                \n",
      "__________________________________________________________________________________________________\n",
      "batch_normalization_151 (BatchN (None, 4, 4, 174)    696         concatenate_147[0][0]            \n",
      "__________________________________________________________________________________________________\n",
      "activation_151 (Activation)     (None, 4, 4, 174)    0           batch_normalization_151[0][0]    \n",
      "__________________________________________________________________________________________________\n",
      "conv2d_152 (Conv2D)             (None, 4, 4, 6)      9396        activation_151[0][0]             \n",
      "__________________________________________________________________________________________________\n",
      "dropout_151 (Dropout)           (None, 4, 4, 6)      0           conv2d_152[0][0]                 \n",
      "__________________________________________________________________________________________________\n",
      "concatenate_148 (Concatenate)   (None, 4, 4, 180)    0           concatenate_147[0][0]            \n",
      "                                                                 dropout_151[0][0]                \n",
      "__________________________________________________________________________________________________\n",
      "batch_normalization_152 (BatchN (None, 4, 4, 180)    720         concatenate_148[0][0]            \n",
      "__________________________________________________________________________________________________\n",
      "activation_152 (Activation)     (None, 4, 4, 180)    0           batch_normalization_152[0][0]    \n",
      "__________________________________________________________________________________________________\n",
      "conv2d_153 (Conv2D)             (None, 4, 4, 6)      9720        activation_152[0][0]             \n",
      "__________________________________________________________________________________________________\n",
      "dropout_152 (Dropout)           (None, 4, 4, 6)      0           conv2d_153[0][0]                 \n",
      "__________________________________________________________________________________________________\n",
      "concatenate_149 (Concatenate)   (None, 4, 4, 186)    0           concatenate_148[0][0]            \n",
      "                                                                 dropout_152[0][0]                \n",
      "__________________________________________________________________________________________________\n",
      "batch_normalization_153 (BatchN (None, 4, 4, 186)    744         concatenate_149[0][0]            \n",
      "__________________________________________________________________________________________________\n",
      "activation_153 (Activation)     (None, 4, 4, 186)    0           batch_normalization_153[0][0]    \n",
      "__________________________________________________________________________________________________\n",
      "conv2d_154 (Conv2D)             (None, 4, 4, 6)      10044       activation_153[0][0]             \n",
      "__________________________________________________________________________________________________\n",
      "dropout_153 (Dropout)           (None, 4, 4, 6)      0           conv2d_154[0][0]                 \n",
      "__________________________________________________________________________________________________\n",
      "concatenate_150 (Concatenate)   (None, 4, 4, 192)    0           concatenate_149[0][0]            \n",
      "                                                                 dropout_153[0][0]                \n",
      "__________________________________________________________________________________________________\n",
      "batch_normalization_154 (BatchN (None, 4, 4, 192)    768         concatenate_150[0][0]            \n",
      "__________________________________________________________________________________________________\n",
      "activation_154 (Activation)     (None, 4, 4, 192)    0           batch_normalization_154[0][0]    \n",
      "__________________________________________________________________________________________________\n",
      "conv2d_155 (Conv2D)             (None, 4, 4, 6)      10368       activation_154[0][0]             \n",
      "__________________________________________________________________________________________________\n",
      "dropout_154 (Dropout)           (None, 4, 4, 6)      0           conv2d_155[0][0]                 \n",
      "__________________________________________________________________________________________________\n",
      "concatenate_151 (Concatenate)   (None, 4, 4, 198)    0           concatenate_150[0][0]            \n",
      "                                                                 dropout_154[0][0]                \n",
      "__________________________________________________________________________________________________\n",
      "batch_normalization_155 (BatchN (None, 4, 4, 198)    792         concatenate_151[0][0]            \n",
      "__________________________________________________________________________________________________\n",
      "activation_155 (Activation)     (None, 4, 4, 198)    0           batch_normalization_155[0][0]    \n",
      "__________________________________________________________________________________________________\n",
      "conv2d_156 (Conv2D)             (None, 4, 4, 6)      10692       activation_155[0][0]             \n",
      "__________________________________________________________________________________________________\n",
      "dropout_155 (Dropout)           (None, 4, 4, 6)      0           conv2d_156[0][0]                 \n",
      "__________________________________________________________________________________________________\n",
      "concatenate_152 (Concatenate)   (None, 4, 4, 204)    0           concatenate_151[0][0]            \n",
      "                                                                 dropout_155[0][0]                \n",
      "__________________________________________________________________________________________________\n",
      "batch_normalization_156 (BatchN (None, 4, 4, 204)    816         concatenate_152[0][0]            \n",
      "__________________________________________________________________________________________________\n",
      "activation_156 (Activation)     (None, 4, 4, 204)    0           batch_normalization_156[0][0]    \n",
      "__________________________________________________________________________________________________\n",
      "conv2d_157 (Conv2D)             (None, 4, 4, 6)      11016       activation_156[0][0]             \n",
      "__________________________________________________________________________________________________\n",
      "dropout_156 (Dropout)           (None, 4, 4, 6)      0           conv2d_157[0][0]                 \n",
      "__________________________________________________________________________________________________\n",
      "concatenate_153 (Concatenate)   (None, 4, 4, 210)    0           concatenate_152[0][0]            \n",
      "                                                                 dropout_156[0][0]                \n",
      "__________________________________________________________________________________________________\n",
      "batch_normalization_157 (BatchN (None, 4, 4, 210)    840         concatenate_153[0][0]            \n",
      "__________________________________________________________________________________________________\n",
      "activation_157 (Activation)     (None, 4, 4, 210)    0           batch_normalization_157[0][0]    \n",
      "__________________________________________________________________________________________________\n",
      "conv2d_158 (Conv2D)             (None, 4, 4, 6)      11340       activation_157[0][0]             \n",
      "__________________________________________________________________________________________________\n",
      "dropout_157 (Dropout)           (None, 4, 4, 6)      0           conv2d_158[0][0]                 \n",
      "__________________________________________________________________________________________________\n",
      "concatenate_154 (Concatenate)   (None, 4, 4, 216)    0           concatenate_153[0][0]            \n",
      "                                                                 dropout_157[0][0]                \n",
      "__________________________________________________________________________________________________\n",
      "batch_normalization_158 (BatchN (None, 4, 4, 216)    864         concatenate_154[0][0]            \n",
      "__________________________________________________________________________________________________\n",
      "activation_158 (Activation)     (None, 4, 4, 216)    0           batch_normalization_158[0][0]    \n",
      "__________________________________________________________________________________________________\n",
      "conv2d_159 (Conv2D)             (None, 4, 4, 6)      11664       activation_158[0][0]             \n",
      "__________________________________________________________________________________________________\n",
      "dropout_158 (Dropout)           (None, 4, 4, 6)      0           conv2d_159[0][0]                 \n",
      "__________________________________________________________________________________________________\n",
      "concatenate_155 (Concatenate)   (None, 4, 4, 222)    0           concatenate_154[0][0]            \n",
      "                                                                 dropout_158[0][0]                \n",
      "__________________________________________________________________________________________________\n",
      "batch_normalization_159 (BatchN (None, 4, 4, 222)    888         concatenate_155[0][0]            \n",
      "__________________________________________________________________________________________________\n",
      "activation_159 (Activation)     (None, 4, 4, 222)    0           batch_normalization_159[0][0]    \n",
      "__________________________________________________________________________________________________\n",
      "conv2d_160 (Conv2D)             (None, 4, 4, 6)      11988       activation_159[0][0]             \n",
      "__________________________________________________________________________________________________\n",
      "dropout_159 (Dropout)           (None, 4, 4, 6)      0           conv2d_160[0][0]                 \n",
      "__________________________________________________________________________________________________\n",
      "concatenate_156 (Concatenate)   (None, 4, 4, 228)    0           concatenate_155[0][0]            \n",
      "                                                                 dropout_159[0][0]                \n",
      "__________________________________________________________________________________________________\n",
      "batch_normalization_160 (BatchN (None, 4, 4, 228)    912         concatenate_156[0][0]            \n",
      "__________________________________________________________________________________________________\n",
      "activation_160 (Activation)     (None, 4, 4, 228)    0           batch_normalization_160[0][0]    \n",
      "__________________________________________________________________________________________________\n",
      "conv2d_161 (Conv2D)             (None, 4, 4, 6)      12312       activation_160[0][0]             \n",
      "__________________________________________________________________________________________________\n",
      "dropout_160 (Dropout)           (None, 4, 4, 6)      0           conv2d_161[0][0]                 \n",
      "__________________________________________________________________________________________________\n",
      "concatenate_157 (Concatenate)   (None, 4, 4, 234)    0           concatenate_156[0][0]            \n",
      "                                                                 dropout_160[0][0]                \n",
      "__________________________________________________________________________________________________\n",
      "batch_normalization_161 (BatchN (None, 4, 4, 234)    936         concatenate_157[0][0]            \n",
      "__________________________________________________________________________________________________\n",
      "activation_161 (Activation)     (None, 4, 4, 234)    0           batch_normalization_161[0][0]    \n",
      "__________________________________________________________________________________________________\n",
      "conv2d_162 (Conv2D)             (None, 4, 4, 6)      12636       activation_161[0][0]             \n",
      "__________________________________________________________________________________________________\n",
      "dropout_161 (Dropout)           (None, 4, 4, 6)      0           conv2d_162[0][0]                 \n",
      "__________________________________________________________________________________________________\n",
      "concatenate_158 (Concatenate)   (None, 4, 4, 240)    0           concatenate_157[0][0]            \n",
      "                                                                 dropout_161[0][0]                \n",
      "__________________________________________________________________________________________________\n",
      "batch_normalization_162 (BatchN (None, 4, 4, 240)    960         concatenate_158[0][0]            \n",
      "__________________________________________________________________________________________________\n",
      "activation_162 (Activation)     (None, 4, 4, 240)    0           batch_normalization_162[0][0]    \n",
      "__________________________________________________________________________________________________\n",
      "conv2d_163 (Conv2D)             (None, 4, 4, 6)      12960       activation_162[0][0]             \n",
      "__________________________________________________________________________________________________\n",
      "dropout_162 (Dropout)           (None, 4, 4, 6)      0           conv2d_163[0][0]                 \n",
      "__________________________________________________________________________________________________\n",
      "concatenate_159 (Concatenate)   (None, 4, 4, 246)    0           concatenate_158[0][0]            \n",
      "                                                                 dropout_162[0][0]                \n",
      "__________________________________________________________________________________________________\n",
      "batch_normalization_163 (BatchN (None, 4, 4, 246)    984         concatenate_159[0][0]            \n",
      "__________________________________________________________________________________________________\n",
      "activation_163 (Activation)     (None, 4, 4, 246)    0           batch_normalization_163[0][0]    \n",
      "__________________________________________________________________________________________________\n",
      "average_pooling2d_3 (AveragePoo (None, 2, 2, 246)    0           activation_163[0][0]             \n",
      "__________________________________________________________________________________________________\n",
      "flatten (Flatten)               (None, 984)          0           average_pooling2d_3[0][0]        \n",
      "__________________________________________________________________________________________________\n",
      "dense (Dense)                   (None, 10)           9850        flatten[0][0]                    \n",
      "==================================================================================================\n",
      "Total params: 1,173,958\n",
      "Trainable params: 1,132,138\n",
      "Non-trainable params: 41,820\n",
      "__________________________________________________________________________________________________\n"
     ]
    }
   ],
   "source": [
    "model = Model(inputs=[input], outputs=[output])\n",
    "model.summary()"
   ]
  },
  {
   "cell_type": "code",
   "execution_count": null,
   "metadata": {
    "colab": {},
    "colab_type": "code",
    "id": "b4XOsW3ahSkL"
   },
   "outputs": [],
   "source": [
    "# determine Loss function and Optimizer\n",
    "model.compile(loss='categorical_crossentropy', optimizer=Adam(), metrics=['accuracy'])"
   ]
  },
  {
   "cell_type": "code",
   "execution_count": null,
   "metadata": {
    "colab": {
     "base_uri": "https://localhost:8080/",
     "height": 374
    },
    "colab_type": "code",
    "id": "crhGk7kEhXAz",
    "outputId": "96ad6b55-22f9-4223-9781-4cc8ccd7f882",
    "scrolled": true
   },
   "outputs": [
    {
     "name": "stdout",
     "output_type": "stream",
     "text": [
      "Epoch 1/10\n",
      "391/391 [==============================] - 151s 386ms/step - loss: 1.7031 - accuracy: 0.3642 - val_loss: 1.7175 - val_accuracy: 0.4189\n",
      "Epoch 2/10\n",
      "391/391 [==============================] - 145s 371ms/step - loss: 1.2998 - accuracy: 0.5248 - val_loss: 1.5065 - val_accuracy: 0.5108\n",
      "Epoch 3/10\n",
      "391/391 [==============================] - 145s 371ms/step - loss: 1.1091 - accuracy: 0.6009 - val_loss: 1.1369 - val_accuracy: 0.6170\n",
      "Epoch 4/10\n",
      "391/391 [==============================] - 145s 371ms/step - loss: 1.0027 - accuracy: 0.6400 - val_loss: 1.9992 - val_accuracy: 0.4668\n",
      "Epoch 5/10\n",
      "391/391 [==============================] - 145s 371ms/step - loss: 0.9252 - accuracy: 0.6669 - val_loss: 1.0257 - val_accuracy: 0.6490\n",
      "Epoch 6/10\n",
      "391/391 [==============================] - 145s 371ms/step - loss: 0.8614 - accuracy: 0.6930 - val_loss: 1.1142 - val_accuracy: 0.6566\n",
      "Epoch 7/10\n",
      "391/391 [==============================] - 145s 371ms/step - loss: 0.8123 - accuracy: 0.7094 - val_loss: 1.3960 - val_accuracy: 0.6055\n",
      "Epoch 8/10\n",
      "391/391 [==============================] - 145s 371ms/step - loss: 0.7638 - accuracy: 0.7283 - val_loss: 1.2602 - val_accuracy: 0.6306\n",
      "Epoch 9/10\n",
      "391/391 [==============================] - 145s 371ms/step - loss: 0.7281 - accuracy: 0.7438 - val_loss: 1.0428 - val_accuracy: 0.6834\n",
      "Epoch 10/10\n",
      "391/391 [==============================] - 145s 371ms/step - loss: 0.6876 - accuracy: 0.7585 - val_loss: 0.8644 - val_accuracy: 0.7231\n"
     ]
    },
    {
     "data": {
      "text/plain": [
       "<tensorflow.python.keras.callbacks.History at 0x7f07a690e828>"
      ]
     },
     "execution_count": 10,
     "metadata": {
      "tags": []
     },
     "output_type": "execute_result"
    }
   ],
   "source": [
    "model.fit(X_train, y_train, batch_size=batch_size, epochs=epochs, verbose=1,  validation_data=(X_test, y_test))"
   ]
  },
  {
   "cell_type": "code",
   "execution_count": null,
   "metadata": {
    "colab": {
     "base_uri": "https://localhost:8080/",
     "height": 68
    },
    "colab_type": "code",
    "id": "ZcWydmIVhZGr",
    "outputId": "6bfac34f-e921-4920-f3ef-a2def07119ba"
   },
   "outputs": [
    {
     "name": "stdout",
     "output_type": "stream",
     "text": [
      "313/313 [==============================] - 10s 32ms/step - loss: 0.8644 - accuracy: 0.7231\n",
      "Test loss: 0.8644242882728577\n",
      "Test accuracy: 0.7231000065803528\n"
     ]
    }
   ],
   "source": [
    "# Test the model\n",
    "score = model.evaluate(X_test, y_test, verbose=1)\n",
    "print('Test loss:', score[0])\n",
    "print('Test accuracy:', score[1])"
   ]
  },
  {
   "cell_type": "code",
   "execution_count": null,
   "metadata": {
    "colab": {},
    "colab_type": "code",
    "id": "UE3lF6EH1r_L"
   },
   "outputs": [],
   "source": [
    "# Save the trained weights in to .h5 format\n",
    "model.save_weights(\"DNST_model.h5\")\n",
    "print(\"Saved model to disk\")"
   ]
  },
  {
   "cell_type": "code",
   "execution_count": null,
   "metadata": {
    "colab": {},
    "colab_type": "code",
    "id": "Ugy7L3YLDT1d"
   },
   "outputs": [],
   "source": [
    "final_tab = PrettyTable(['Augmentation','nb_layers','num_filters','compression','Optimizer','Test Accuracy'])\n",
    "final_tab.add_row([None, nb_layers, num_filter, compression,'Adam',0.72])"
   ]
  },
  {
   "cell_type": "code",
   "execution_count": null,
   "metadata": {
    "colab": {
     "base_uri": "https://localhost:8080/",
     "height": 102
    },
    "colab_type": "code",
    "id": "g5_CXIreDTkH",
    "outputId": "674dc7b5-acbb-4fde-fa1a-78dc3628bc18"
   },
   "outputs": [
    {
     "name": "stdout",
     "output_type": "stream",
     "text": [
      "+--------------+-----------+-------------+-------------+-----------+---------------+\n",
      "| Augmentation | nb_layers | num_filters | compression | Optimizer | Test Accuracy |\n",
      "+--------------+-----------+-------------+-------------+-----------+---------------+\n",
      "|     None     |     40    |      12     |     0.5     |    Adam   |      0.72     |\n",
      "+--------------+-----------+-------------+-------------+-----------+---------------+\n"
     ]
    }
   ],
   "source": [
    "print(final_tab)"
   ]
  },
  {
   "cell_type": "markdown",
   "metadata": {
    "colab": {},
    "colab_type": "code",
    "id": "N66lrXIVDYLs"
   },
   "source": [
    "## Image Data Augmentation Techniques"
   ]
  },
  {
   "cell_type": "code",
   "execution_count": null,
   "metadata": {
    "colab": {},
    "colab_type": "code",
    "id": "xtbhyEAVTYOg"
   },
   "outputs": [],
   "source": [
    "def dense_net(X_train, X_test, opt = 'adam', kernel = (3,3), batch_size = 128, lr=0.01, epochs = 15, nb_layers = 20, num_filter=12, dropout_rate=0.2):\n",
    "  \n",
    "  #def decay_fn(epoch, lr):\n",
    "  #  if epoch < 50:\n",
    "  #    return 0.001\n",
    "  #  elif epoch >= 50 and epoch < 75:\n",
    "  #    return 0.0001\n",
    "  #  else:\n",
    "  #    return 0.00001\n",
    "\n",
    "  #lr_scheduler = LearningRateScheduler(decay_fn)\n",
    "\n",
    "  #csv_logger = CSVLogger('training.log')\n",
    "\n",
    "  #checkpoint = ModelCheckpoint('gdrive/My Drive/cnnoncifar/models/model-{epoch:03d}-{acc:03f}-{val_acc:03f}.h5',\n",
    "  #                                     verbose=1, monitor='val_acc',save_best_only=True, mode='auto')  \n",
    "  def select_optim():\n",
    "    if opt=='adam':\n",
    "      return Adam(learning_rate=lr)\n",
    "    elif opt=='sgd':\n",
    "      return SGD(learning_rate=lr)\n",
    "    elif opt=='adabound':\n",
    "      return AdaBound(lr=lr)\n",
    "\n",
    "  input = layers.Input(shape=(img_height, img_width, channel,))\n",
    "  First_Conv2D = layers.Conv2D(num_filter, kernel, use_bias=False ,padding='same')(input)\n",
    "\n",
    "  First_Block = denseblock(First_Conv2D, num_filter, dropout_rate, nb_layers)\n",
    "  First_Transition = transition(First_Block, num_filter, dropout_rate)\n",
    "\n",
    "  Second_Block = denseblock(First_Transition, num_filter, dropout_rate, nb_layers)\n",
    "  Second_Transition = transition(Second_Block, num_filter, dropout_rate)\n",
    "\n",
    "  Third_Block = denseblock(Second_Transition, num_filter, dropout_rate, nb_layers)\n",
    "  Third_Transition = transition(Third_Block, num_filter, dropout_rate)\n",
    "\n",
    "  Last_Block = denseblock(Third_Transition,  num_filter, dropout_rate, nb_layers)\n",
    "  output = output_layer(Last_Block)\n",
    "\n",
    "  #early_stop = EarlyStopping(monitor='val_loss', mode='min', verbose=True, patience=5)\n",
    "\n",
    "  model = Model(inputs=[input], outputs=[output])\n",
    "         \n",
    "  model.compile(optimizer=select_optim(), loss='categorical_crossentropy', metrics=['accuracy'])\n",
    "\n",
    "  model.fit(X_train, y_train, batch_size = batch_size, epochs=epochs,verbose=True,validation_data=(X_test, y_test))\n",
    "\n",
    "  #model.fit_generator(datagen.flow(x_train, y_train, batch_size=b_size),steps_per_epoch=(len(xtrain)//batch_size)*5,epochs=epoch,\n",
    "  #         verbose = 1,validation_data=(x_test, y_test),callbacks=[checkpoint])\n",
    "\n",
    "  score = model.evaluate(X_test, y_test, verbose=1)\n",
    "  print('Test loss:', score[0])\n",
    "  print('Test accuracy:', score[1])\n",
    "\n",
    "  return model"
   ]
  },
  {
   "cell_type": "markdown",
   "metadata": {
    "colab": {},
    "colab_type": "code",
    "id": "sLe4y59CCqqU"
   },
   "source": [
    "### Vertical and Horizontal Shift Augmentation:\n",
    "A shift to an image means moving all pixels of the image in one direction, vertically,horizontally while keeping the image dimensions the same."
   ]
  },
  {
   "cell_type": "code",
   "execution_count": null,
   "metadata": {
    "colab": {},
    "colab_type": "code",
    "id": "8tQQI8D3Cqnd"
   },
   "outputs": [],
   "source": [
    "#https://machinelearningmastery.com/how-to-configure-image-data-augmentation-when-training-deep-learning-neural-networks/\n",
    "def vertical_horizontal_shift(arr_imgs):\n",
    "      # convert to numpy array\n",
    "      d = arr_imgs.copy()\n",
    "      for i in tqdm(range(d.shape[0])):\n",
    "          data = d[i]\n",
    "          # expand dimension to one sample\n",
    "          samples = expand_dims(data, 0)\n",
    "          # create image data augmentation generator\n",
    "          datagen = ImageDataGenerator(width_shift_range=[-10,10], height_shift_range=[-10,10])\n",
    "          # prepare iterator\n",
    "          it = datagen.flow(samples, batch_size=1)\n",
    "          # generate batch of images\n",
    "          batch = it.next()\n",
    "          # convert to unsigned integers for viewing\n",
    "          image = batch[0].astype('uint8')\n",
    "          d[i] = image\n",
    "      return d"
   ]
  },
  {
   "cell_type": "code",
   "execution_count": null,
   "metadata": {
    "colab": {
     "base_uri": "https://localhost:8080/",
     "height": 225
    },
    "colab_type": "code",
    "id": "WY5YieGUCqj-",
    "outputId": "f32cafce-f182-4e30-968c-b399b04c30e2"
   },
   "outputs": [
    {
     "name": "stderr",
     "output_type": "stream",
     "text": [
      "100%|██████████| 10000/10000 [00:04<00:00, 2204.14it/s]\n"
     ]
    },
    {
     "data": {
      "image/png": "[encoded data removed]",
      "text/plain": [
       "<Figure size 432x288 with 2 Axes>"
      ]
     },
     "metadata": {
      "needs_background": "light",
      "tags": []
     },
     "output_type": "display_data"
    }
   ],
   "source": [
    "plt.subplot(1,2,1)\n",
    "plt.title('Original image')\n",
    "plt.imshow(X_test[0])\n",
    "plt.subplot(1,2,2)\n",
    "plt.title('Vertically and horizontally shifted image')\n",
    "plt.imshow(vertical_horizontal_shift(X_test)[0])\n",
    "plt.tight_layout()"
   ]
  },
  {
   "cell_type": "code",
   "execution_count": null,
   "metadata": {
    "colab": {
     "base_uri": "https://localhost:8080/",
     "height": 51
    },
    "colab_type": "code",
    "id": "eNtDeBh4NH9X",
    "outputId": "4ac4f740-070c-47ef-f8c2-b5f57927f5d3"
   },
   "outputs": [
    {
     "name": "stderr",
     "output_type": "stream",
     "text": [
      "100%|██████████| 50000/50000 [00:22<00:00, 2178.36it/s]\n",
      "100%|██████████| 10000/10000 [00:04<00:00, 2146.42it/s]\n"
     ]
    }
   ],
   "source": [
    "vh_shift_train = vertical_horizontal_shift(X_train)\n",
    "vh_shift_test  = vertical_horizontal_shift(X_test)"
   ]
  },
  {
   "cell_type": "code",
   "execution_count": null,
   "metadata": {
    "colab": {
     "base_uri": "https://localhost:8080/",
     "height": 34
    },
    "colab_type": "code",
    "id": "kh1oiQC5fBeu",
    "outputId": "c4c1e730-1c1c-4637-eee2-11815194bc0b"
   },
   "outputs": [
    {
     "data": {
      "text/plain": [
       "(10000, 32, 32, 3)"
      ]
     },
     "execution_count": 28,
     "metadata": {
      "tags": []
     },
     "output_type": "execute_result"
    }
   ],
   "source": [
    "vh_flip_test.shape"
   ]
  },
  {
   "cell_type": "code",
   "execution_count": null,
   "metadata": {
    "colab": {
     "base_uri": "https://localhost:8080/",
     "height": 208
    },
    "colab_type": "code",
    "id": "e1zXSG5QNOTq",
    "outputId": "5bfa9d20-e0d7-4c06-bb97-9d908e195d87"
   },
   "outputs": [
    {
     "data": {
      "image/png": "[encoded data removed]",
      "text/plain": [
       "<Figure size 432x288 with 2 Axes>"
      ]
     },
     "metadata": {
      "needs_background": "light",
      "tags": []
     },
     "output_type": "display_data"
    }
   ],
   "source": [
    "plt.subplot(1,2,1)\n",
    "plt.title('Original image')\n",
    "plt.imshow(X_test[10])\n",
    "plt.subplot(1,2,2)\n",
    "plt.title('Vertically and horizontally shifted image')\n",
    "plt.imshow(vh_shift_test[10])\n",
    "plt.tight_layout()"
   ]
  },
  {
   "cell_type": "markdown",
   "metadata": {},
   "source": [
    "### Densenet with Adam optimizer on vertically and horizontally shifted images"
   ]
  },
  {
   "cell_type": "code",
   "execution_count": null,
   "metadata": {
    "colab": {
     "base_uri": "https://localhost:8080/",
     "height": 493
    },
    "colab_type": "code",
    "id": "kYxG6JkaCqbM",
    "outputId": "6d9589df-265c-42ab-b8e9-4b71c5b13987"
   },
   "outputs": [
    {
     "name": "stdout",
     "output_type": "stream",
     "text": [
      "Epoch 1/12\n",
      "391/391 [==============================] - 275s 703ms/step - loss: 2.3337 - accuracy: 0.1580 - val_loss: 2.0938 - val_accuracy: 0.1994\n",
      "Epoch 2/12\n",
      "391/391 [==============================] - 275s 704ms/step - loss: 1.9093 - accuracy: 0.2679 - val_loss: 2.0456 - val_accuracy: 0.2449\n",
      "Epoch 3/12\n",
      "391/391 [==============================] - 275s 703ms/step - loss: 1.6932 - accuracy: 0.3609 - val_loss: 1.8814 - val_accuracy: 0.3221\n",
      "Epoch 4/12\n",
      "391/391 [==============================] - 275s 703ms/step - loss: 1.4990 - accuracy: 0.4478 - val_loss: 3.4493 - val_accuracy: 0.2721\n",
      "Epoch 5/12\n",
      "391/391 [==============================] - 275s 703ms/step - loss: 1.3550 - accuracy: 0.5085 - val_loss: 2.0791 - val_accuracy: 0.4158\n",
      "Epoch 6/12\n",
      "391/391 [==============================] - 275s 703ms/step - loss: 1.2387 - accuracy: 0.5544 - val_loss: 1.6379 - val_accuracy: 0.4843\n",
      "Epoch 7/12\n",
      "391/391 [==============================] - 275s 702ms/step - loss: 1.1382 - accuracy: 0.5911 - val_loss: 2.0168 - val_accuracy: 0.4191\n",
      "Epoch 8/12\n",
      "391/391 [==============================] - 275s 702ms/step - loss: 1.0640 - accuracy: 0.6195 - val_loss: 2.9857 - val_accuracy: 0.3715\n",
      "Epoch 9/12\n",
      "391/391 [==============================] - 275s 702ms/step - loss: 1.0123 - accuracy: 0.6383 - val_loss: 1.8750 - val_accuracy: 0.4672\n",
      "Epoch 10/12\n",
      "391/391 [==============================] - 274s 702ms/step - loss: 0.9529 - accuracy: 0.6605 - val_loss: 1.9058 - val_accuracy: 0.5052\n",
      "Epoch 11/12\n",
      "391/391 [==============================] - 274s 702ms/step - loss: 0.9118 - accuracy: 0.6746 - val_loss: 1.6337 - val_accuracy: 0.5500\n",
      "Epoch 12/12\n",
      "391/391 [==============================] - 274s 702ms/step - loss: 0.8764 - accuracy: 0.6876 - val_loss: 1.6827 - val_accuracy: 0.5442\n",
      "313/313 [==============================] - 12s 39ms/step - loss: 1.6827 - accuracy: 0.5442\n",
      "Test loss: 1.6826951503753662\n",
      "Test accuracy: 0.5442000031471252\n"
     ]
    },
    {
     "data": {
      "text/plain": [
       "<tensorflow.python.keras.engine.training.Model at 0x7f0afe183b38>"
      ]
     },
     "execution_count": 91,
     "metadata": {
      "tags": []
     },
     "output_type": "execute_result"
    }
   ],
   "source": [
    "dense_net(vh_shift_train, vh_shift_test, opt = 'adam', kernel = (3,3), batch_size = 128, lr=0.01, epochs = 12, nb_layers = 14, num_filter=32, dropout_rate=0.2)"
   ]
  },
  {
   "cell_type": "markdown",
   "metadata": {},
   "source": [
    "### Densenet with Adabound optimizer on vertically and horizontally shifted images"
   ]
  },
  {
   "cell_type": "code",
   "execution_count": null,
   "metadata": {
    "colab": {
     "base_uri": "https://localhost:8080/",
     "height": 493
    },
    "colab_type": "code",
    "id": "3fzKnW_1cTK-",
    "outputId": "69dc043f-ea7e-403a-f40a-401b80516d86"
   },
   "outputs": [
    {
     "name": "stdout",
     "output_type": "stream",
     "text": [
      "Epoch 1/12\n",
      "391/391 [==============================] - 289s 738ms/step - loss: 1.8660 - accuracy: 0.3074 - val_loss: 3.1546 - val_accuracy: 0.2322\n",
      "Epoch 2/12\n",
      "391/391 [==============================] - 288s 736ms/step - loss: 1.5167 - accuracy: 0.4402 - val_loss: 8.8488 - val_accuracy: 0.1349\n",
      "Epoch 3/12\n",
      "391/391 [==============================] - 288s 736ms/step - loss: 1.3179 - accuracy: 0.5214 - val_loss: 1.9477 - val_accuracy: 0.4313\n",
      "Epoch 4/12\n",
      "391/391 [==============================] - 288s 737ms/step - loss: 1.1897 - accuracy: 0.5726 - val_loss: 1.5785 - val_accuracy: 0.4830\n",
      "Epoch 5/12\n",
      "391/391 [==============================] - 288s 737ms/step - loss: 1.1000 - accuracy: 0.6071 - val_loss: 1.7649 - val_accuracy: 0.4934\n",
      "Epoch 6/12\n",
      "391/391 [==============================] - 288s 737ms/step - loss: 1.0354 - accuracy: 0.6297 - val_loss: 2.6802 - val_accuracy: 0.3621\n",
      "Epoch 7/12\n",
      "391/391 [==============================] - 288s 736ms/step - loss: 0.9885 - accuracy: 0.6483 - val_loss: 1.6025 - val_accuracy: 0.5388\n",
      "Epoch 8/12\n",
      "391/391 [==============================] - 288s 737ms/step - loss: 0.9334 - accuracy: 0.6658 - val_loss: 1.1295 - val_accuracy: 0.6228\n",
      "Epoch 9/12\n",
      "391/391 [==============================] - 288s 736ms/step - loss: 0.8951 - accuracy: 0.6791 - val_loss: 3.4765 - val_accuracy: 0.3558\n",
      "Epoch 10/12\n",
      "391/391 [==============================] - 288s 737ms/step - loss: 0.8615 - accuracy: 0.6937 - val_loss: 2.4352 - val_accuracy: 0.4727\n",
      "Epoch 11/12\n",
      "391/391 [==============================] - 288s 736ms/step - loss: 0.8280 - accuracy: 0.7042 - val_loss: 1.1686 - val_accuracy: 0.6331\n",
      "Epoch 12/12\n",
      "391/391 [==============================] - 288s 736ms/step - loss: 0.8003 - accuracy: 0.7143 - val_loss: 1.2404 - val_accuracy: 0.6344\n",
      "313/313 [==============================] - 12s 39ms/step - loss: 1.2404 - accuracy: 0.6344\n",
      "Test loss: 1.2404286861419678\n",
      "Test accuracy: 0.6344000101089478\n"
     ]
    },
    {
     "data": {
      "text/plain": [
       "<tensorflow.python.keras.engine.training.Model at 0x7f0afa14beb8>"
      ]
     },
     "execution_count": 92,
     "metadata": {
      "tags": []
     },
     "output_type": "execute_result"
    }
   ],
   "source": [
    "dense_net(vh_shift_train, vh_shift_test, opt = 'adabound', kernel = (3,3), batch_size = 128, lr=0.001, epochs = 12, nb_layers = 14, num_filter=32, dropout_rate=0.2)"
   ]
  },
  {
   "cell_type": "markdown",
   "metadata": {},
   "source": [
    "### Horizontal and Vertical Flip Augmentation\n",
    "An image flip means reversing the rows or columns of pixels in the case of a vertical or horizontal flip respectively."
   ]
  },
  {
   "cell_type": "code",
   "execution_count": null,
   "metadata": {
    "colab": {},
    "colab_type": "code",
    "id": "ha3Wd2TJcTEr"
   },
   "outputs": [],
   "source": [
    "def vertical_horizontal_flip(arr_imgs):\n",
    "      # convert to numpy array\n",
    "      d = arr_imgs.copy()\n",
    "      for i in tqdm(range(d.shape[0])):\n",
    "          data = d[i]\n",
    "          # expand dimension to one sample\n",
    "          samples = expand_dims(data, 0)\n",
    "          # create image data augmentation generator\n",
    "          datagen = ImageDataGenerator(vertical_flip=True, horizontal_flip=True)\n",
    "          # prepare iterator\n",
    "          it = datagen.flow(samples, batch_size=1)\n",
    "          # generate batch of images\n",
    "          batch = it.next()\n",
    "          # convert to unsigned integers for viewing\n",
    "          image = batch[0].astype('uint8')\n",
    "          d[i] = image\n",
    "      return d"
   ]
  },
  {
   "cell_type": "code",
   "execution_count": null,
   "metadata": {
    "colab": {
     "base_uri": "https://localhost:8080/",
     "height": 224
    },
    "colab_type": "code",
    "id": "Ul6XS8dhdYi5",
    "outputId": "4b53b88f-5093-4f32-a1a5-949232a27d3e"
   },
   "outputs": [
    {
     "name": "stderr",
     "output_type": "stream",
     "text": [
      "100%|██████████| 10000/10000 [00:01<00:00, 9313.15it/s]\n"
     ]
    },
    {
     "data": {
      "image/png": "[encoded data removed]",
      "text/plain": [
       "<Figure size 432x288 with 2 Axes>"
      ]
     },
     "metadata": {
      "needs_background": "light",
      "tags": []
     },
     "output_type": "display_data"
    }
   ],
   "source": [
    "plt.subplot(1,2,1)\n",
    "plt.title('Original image')\n",
    "plt.imshow(X_test[5])\n",
    "plt.subplot(1,2,2)\n",
    "plt.title('Vertically and horizontally Flipped image')\n",
    "plt.imshow(vertical_horizontal_flip(X_test)[5])\n",
    "plt.tight_layout()"
   ]
  },
  {
   "cell_type": "code",
   "execution_count": null,
   "metadata": {
    "colab": {
     "base_uri": "https://localhost:8080/",
     "height": 51
    },
    "colab_type": "code",
    "id": "PcwI2TWcdsPu",
    "outputId": "4444eca0-c672-4788-fccd-9e4f408f9fd2"
   },
   "outputs": [
    {
     "name": "stderr",
     "output_type": "stream",
     "text": [
      "100%|██████████| 50000/50000 [00:04<00:00, 10179.82it/s]\n",
      "100%|██████████| 10000/10000 [00:00<00:00, 10641.68it/s]\n"
     ]
    }
   ],
   "source": [
    "vh_flip_train = vertical_horizontal_flip(X_train)\n",
    "vh_flip_test  = vertical_horizontal_flip(X_test)"
   ]
  },
  {
   "cell_type": "code",
   "execution_count": null,
   "metadata": {
    "colab": {
     "base_uri": "https://localhost:8080/",
     "height": 207
    },
    "colab_type": "code",
    "id": "80mOIxKl_q5y",
    "outputId": "2f4d96b0-8bde-4b62-d080-116970f0a0d0"
   },
   "outputs": [
    {
     "data": {
      "image/png": "[encoded data removed]",
      "text/plain": [
       "<Figure size 432x288 with 2 Axes>"
      ]
     },
     "metadata": {
      "needs_background": "light",
      "tags": []
     },
     "output_type": "display_data"
    }
   ],
   "source": [
    "plt.subplot(1,2,1)\n",
    "plt.title('Original image')\n",
    "plt.imshow(X_test[15])\n",
    "plt.subplot(1,2,2)\n",
    "plt.title('Vertically and horizontally Flipped image')\n",
    "plt.imshow(vh_flip_test[15])\n",
    "plt.tight_layout()"
   ]
  },
  {
   "cell_type": "markdown",
   "metadata": {},
   "source": [
    "### Densenet with Adam optimizer on vertically and horizontally Flipped images"
   ]
  },
  {
   "cell_type": "code",
   "execution_count": null,
   "metadata": {
    "colab": {
     "base_uri": "https://localhost:8080/",
     "height": 493
    },
    "colab_type": "code",
    "id": "1LA7TWHw_14M",
    "outputId": "c2a9b07a-a20c-4e5f-df73-821083287d74"
   },
   "outputs": [
    {
     "name": "stdout",
     "output_type": "stream",
     "text": [
      "Epoch 1/12\n",
      "391/391 [==============================] - 217s 556ms/step - loss: 1.9346 - accuracy: 0.2908 - val_loss: 4.4718 - val_accuracy: 0.1934\n",
      "Epoch 2/12\n",
      "391/391 [==============================] - 216s 554ms/step - loss: 1.4729 - accuracy: 0.4486 - val_loss: 3.0216 - val_accuracy: 0.2564\n",
      "Epoch 3/12\n",
      "391/391 [==============================] - 216s 553ms/step - loss: 1.2334 - accuracy: 0.5483 - val_loss: 1.8416 - val_accuracy: 0.4841\n",
      "Epoch 4/12\n",
      "391/391 [==============================] - 216s 553ms/step - loss: 1.0731 - accuracy: 0.6085 - val_loss: 1.2015 - val_accuracy: 0.6090\n",
      "Epoch 5/12\n",
      "391/391 [==============================] - 216s 553ms/step - loss: 0.9708 - accuracy: 0.6477 - val_loss: 1.9949 - val_accuracy: 0.4786\n",
      "Epoch 6/12\n",
      "391/391 [==============================] - 216s 553ms/step - loss: 0.9033 - accuracy: 0.6729 - val_loss: 1.7528 - val_accuracy: 0.4929\n",
      "Epoch 7/12\n",
      "391/391 [==============================] - 216s 553ms/step - loss: 0.8422 - accuracy: 0.6953 - val_loss: 1.4749 - val_accuracy: 0.5545\n",
      "Epoch 8/12\n",
      "391/391 [==============================] - 216s 552ms/step - loss: 0.8003 - accuracy: 0.7116 - val_loss: 1.0934 - val_accuracy: 0.6506\n",
      "Epoch 9/12\n",
      "391/391 [==============================] - 216s 552ms/step - loss: 0.7590 - accuracy: 0.7259 - val_loss: 1.1786 - val_accuracy: 0.6077\n",
      "Epoch 10/12\n",
      "391/391 [==============================] - 216s 552ms/step - loss: 0.7234 - accuracy: 0.7382 - val_loss: 1.2948 - val_accuracy: 0.6219\n",
      "Epoch 11/12\n",
      "391/391 [==============================] - 216s 552ms/step - loss: 0.6941 - accuracy: 0.7504 - val_loss: 1.4421 - val_accuracy: 0.5712\n",
      "Epoch 12/12\n",
      "391/391 [==============================] - 216s 552ms/step - loss: 0.6658 - accuracy: 0.7622 - val_loss: 1.2443 - val_accuracy: 0.6168\n",
      "313/313 [==============================] - 14s 44ms/step - loss: 1.2443 - accuracy: 0.6168\n",
      "Test loss: 1.2443242073059082\n",
      "Test accuracy: 0.6168000102043152\n"
     ]
    },
    {
     "data": {
      "text/plain": [
       "<tensorflow.python.keras.engine.training.Model at 0x7f83d5c63d30>"
      ]
     },
     "execution_count": 13,
     "metadata": {
      "tags": []
     },
     "output_type": "execute_result"
    }
   ],
   "source": [
    "dense_net(vh_flip_train, vh_flip_test, opt = 'adam', kernel = (3,3), batch_size = 128, lr=0.01, epochs = 12, nb_layers = 14, num_filter=32, dropout_rate=0.2)"
   ]
  },
  {
   "cell_type": "markdown",
   "metadata": {},
   "source": [
    "### Densenet with Adabound optimizer on vertically and horizontally Flipped images"
   ]
  },
  {
   "cell_type": "code",
   "execution_count": null,
   "metadata": {
    "colab": {
     "base_uri": "https://localhost:8080/",
     "height": 493
    },
    "colab_type": "code",
    "id": "5ibvMQx1_1u0",
    "outputId": "4d63d089-66a3-4b7a-b9ff-614a495ac033"
   },
   "outputs": [
    {
     "name": "stdout",
     "output_type": "stream",
     "text": [
      "Epoch 1/12\n",
      "391/391 [==============================] - 258s 661ms/step - loss: 1.6296 - accuracy: 0.3878 - val_loss: 1.7738 - val_accuracy: 0.4110\n",
      "Epoch 2/12\n",
      "391/391 [==============================] - 253s 647ms/step - loss: 1.2670 - accuracy: 0.5372 - val_loss: 1.4856 - val_accuracy: 0.5099\n",
      "Epoch 3/12\n",
      "391/391 [==============================] - 253s 648ms/step - loss: 1.1068 - accuracy: 0.5994 - val_loss: 1.2882 - val_accuracy: 0.5616\n",
      "Epoch 4/12\n",
      "391/391 [==============================] - 253s 647ms/step - loss: 1.0114 - accuracy: 0.6341 - val_loss: 2.2347 - val_accuracy: 0.4634\n",
      "Epoch 5/12\n",
      "391/391 [==============================] - 253s 646ms/step - loss: 0.9431 - accuracy: 0.6601 - val_loss: 1.3578 - val_accuracy: 0.5498\n",
      "Epoch 6/12\n",
      "391/391 [==============================] - 253s 647ms/step - loss: 0.8916 - accuracy: 0.6783 - val_loss: 1.5357 - val_accuracy: 0.5527\n",
      "Epoch 7/12\n",
      "391/391 [==============================] - 253s 647ms/step - loss: 0.8517 - accuracy: 0.6907 - val_loss: 1.1109 - val_accuracy: 0.6270\n",
      "Epoch 8/12\n",
      "391/391 [==============================] - 253s 648ms/step - loss: 0.8077 - accuracy: 0.7059 - val_loss: 1.3292 - val_accuracy: 0.5801\n",
      "Epoch 9/12\n",
      "391/391 [==============================] - 253s 648ms/step - loss: 0.7811 - accuracy: 0.7193 - val_loss: 1.3139 - val_accuracy: 0.6049\n",
      "Epoch 10/12\n",
      "391/391 [==============================] - 253s 648ms/step - loss: 0.7544 - accuracy: 0.7278 - val_loss: 1.2717 - val_accuracy: 0.6222\n",
      "Epoch 11/12\n",
      "391/391 [==============================] - 254s 649ms/step - loss: 0.7202 - accuracy: 0.7403 - val_loss: 1.8416 - val_accuracy: 0.5332\n",
      "Epoch 12/12\n",
      "391/391 [==============================] - 254s 649ms/step - loss: 0.7042 - accuracy: 0.7481 - val_loss: 1.1112 - val_accuracy: 0.6778\n",
      "313/313 [==============================] - 14s 43ms/step - loss: 1.1112 - accuracy: 0.6778\n",
      "Test loss: 1.1112020015716553\n",
      "Test accuracy: 0.6777999997138977\n"
     ]
    },
    {
     "data": {
      "text/plain": [
       "<tensorflow.python.keras.engine.training.Model at 0x7f83e4354d30>"
      ]
     },
     "execution_count": 11,
     "metadata": {
      "tags": []
     },
     "output_type": "execute_result"
    }
   ],
   "source": [
    "dense_net(vh_flip_train, vh_flip_test, opt = 'adabound', kernel = (3,3), batch_size = 128, lr=0.001, epochs = 12, nb_layers = 14, num_filter=32, dropout_rate=0.2)"
   ]
  },
  {
   "cell_type": "markdown",
   "metadata": {},
   "source": [
    "\n",
    "### Random Rotation Augmentation\n",
    "A rotation augmentation randomly rotates the image clockwise by a given number of degrees from 0 to 360.\n"
   ]
  },
  {
   "cell_type": "code",
   "execution_count": null,
   "metadata": {
    "colab": {},
    "colab_type": "code",
    "id": "J1eiHGLydr6Q"
   },
   "outputs": [],
   "source": [
    "def rotated_image(arr_imgs):\n",
    "      # convert to numpy array\n",
    "      d = arr_imgs.copy()\n",
    "      for i in tqdm(range(d.shape[0])):\n",
    "          data = d[i]\n",
    "          # expand dimension to one sample\n",
    "          samples = expand_dims(data, 0)\n",
    "          # create image data augmentation generator\n",
    "          datagen = ImageDataGenerator(rotation_range=15)\n",
    "          # prepare iterator\n",
    "          it = datagen.flow(samples, batch_size=1)\n",
    "          # generate batch of images\n",
    "          batch = it.next()\n",
    "          # convert to unsigned integers for viewing\n",
    "          image = batch[0].astype('uint8')\n",
    "          d[i] = image\n",
    "      return d"
   ]
  },
  {
   "cell_type": "code",
   "execution_count": null,
   "metadata": {
    "colab": {
     "base_uri": "https://localhost:8080/",
     "height": 261
    },
    "colab_type": "code",
    "id": "n2qPdA2Cd0Kk",
    "outputId": "79cf44f3-efe6-4f01-b3ed-f0238c8c477c"
   },
   "outputs": [
    {
     "name": "stderr",
     "output_type": "stream",
     "text": [
      "100%|██████████| 10000/10000 [00:04<00:00, 2369.03it/s]\n"
     ]
    },
    {
     "data": {
      "image/png": "[encoded data removed]",
      "text/plain": [
       "<Figure size 432x288 with 2 Axes>"
      ]
     },
     "metadata": {
      "needs_background": "light",
      "tags": []
     },
     "output_type": "display_data"
    }
   ],
   "source": [
    "plt.subplot(1,2,1)\n",
    "plt.title('Original image')\n",
    "plt.imshow(X_test[0])\n",
    "plt.subplot(1,2,2)\n",
    "plt.title('15 degree Rotated image')\n",
    "plt.imshow(rotated_image(X_test)[0])\n",
    "plt.tight_layout()"
   ]
  },
  {
   "cell_type": "code",
   "execution_count": null,
   "metadata": {
    "colab": {
     "base_uri": "https://localhost:8080/",
     "height": 51
    },
    "colab_type": "code",
    "id": "VGmklO7sd0Gz",
    "outputId": "77bc8156-8a74-4883-bfb8-48c024c21594"
   },
   "outputs": [
    {
     "name": "stderr",
     "output_type": "stream",
     "text": [
      "100%|██████████| 50000/50000 [00:20<00:00, 2385.34it/s]\n",
      "100%|██████████| 10000/10000 [00:04<00:00, 2326.53it/s]\n"
     ]
    }
   ],
   "source": [
    "rotate_train = rotated_image(X_train)\n",
    "rotate_test  = rotated_image(X_test)"
   ]
  },
  {
   "cell_type": "code",
   "execution_count": null,
   "metadata": {
    "colab": {
     "base_uri": "https://localhost:8080/",
     "height": 244
    },
    "colab_type": "code",
    "id": "fxfzm2SxA4W8",
    "outputId": "9e7d85da-ea6c-4627-8792-b1e59d3e9dd9"
   },
   "outputs": [
    {
     "data": {
      "image/png": "[encoded data removed]",
      "text/plain": [
       "<Figure size 432x288 with 2 Axes>"
      ]
     },
     "metadata": {
      "needs_background": "light",
      "tags": []
     },
     "output_type": "display_data"
    }
   ],
   "source": [
    "plt.subplot(1,2,1)\n",
    "plt.title('Original image')\n",
    "plt.imshow(X_test[30])\n",
    "plt.subplot(1,2,2)\n",
    "plt.title('15 degree Rotated image')\n",
    "plt.imshow(rotate_test[30])\n",
    "plt.tight_layout()"
   ]
  },
  {
   "cell_type": "markdown",
   "metadata": {},
   "source": [
    "### Densenet with Adam optimizer on Randomly rotated images"
   ]
  },
  {
   "cell_type": "code",
   "execution_count": null,
   "metadata": {
    "colab": {
     "base_uri": "https://localhost:8080/",
     "height": 493
    },
    "colab_type": "code",
    "id": "BMPARJl7A4Ta",
    "outputId": "a480a968-8f02-41ed-d096-d205dedbfebd"
   },
   "outputs": [
    {
     "name": "stdout",
     "output_type": "stream",
     "text": [
      "Epoch 1/12\n",
      "391/391 [==============================] - 63s 161ms/step - loss: 1.8779 - accuracy: 0.3236 - val_loss: 4.0309 - val_accuracy: 0.1552\n",
      "Epoch 2/12\n",
      "391/391 [==============================] - 61s 155ms/step - loss: 1.4151 - accuracy: 0.4840 - val_loss: 2.5786 - val_accuracy: 0.3451\n",
      "Epoch 3/12\n",
      "391/391 [==============================] - 61s 155ms/step - loss: 1.1946 - accuracy: 0.5683 - val_loss: 1.2218 - val_accuracy: 0.5737\n",
      "Epoch 4/12\n",
      "391/391 [==============================] - 61s 155ms/step - loss: 1.0302 - accuracy: 0.6337 - val_loss: 1.3006 - val_accuracy: 0.5735\n",
      "Epoch 5/12\n",
      "391/391 [==============================] - 61s 155ms/step - loss: 0.9116 - accuracy: 0.6772 - val_loss: 1.0195 - val_accuracy: 0.6549\n",
      "Epoch 6/12\n",
      "391/391 [==============================] - 61s 155ms/step - loss: 0.8301 - accuracy: 0.7059 - val_loss: 0.9213 - val_accuracy: 0.6939\n",
      "Epoch 7/12\n",
      "391/391 [==============================] - 60s 155ms/step - loss: 0.7648 - accuracy: 0.7314 - val_loss: 0.9917 - val_accuracy: 0.6703\n",
      "Epoch 8/12\n",
      "391/391 [==============================] - 61s 155ms/step - loss: 0.7050 - accuracy: 0.7524 - val_loss: 0.9272 - val_accuracy: 0.7060\n",
      "Epoch 9/12\n",
      "391/391 [==============================] - 60s 155ms/step - loss: 0.6579 - accuracy: 0.7692 - val_loss: 1.8674 - val_accuracy: 0.5475\n",
      "Epoch 10/12\n",
      "391/391 [==============================] - 61s 155ms/step - loss: 0.6207 - accuracy: 0.7817 - val_loss: 0.7790 - val_accuracy: 0.7425\n",
      "Epoch 11/12\n",
      "391/391 [==============================] - 61s 155ms/step - loss: 0.5808 - accuracy: 0.7976 - val_loss: 0.7282 - val_accuracy: 0.7605\n",
      "Epoch 12/12\n",
      "391/391 [==============================] - 60s 155ms/step - loss: 0.5498 - accuracy: 0.8081 - val_loss: 0.7765 - val_accuracy: 0.7467\n",
      "313/313 [==============================] - 4s 14ms/step - loss: 0.7765 - accuracy: 0.7467\n",
      "Test loss: 0.776469886302948\n",
      "Test accuracy: 0.7466999888420105\n"
     ]
    },
    {
     "data": {
      "text/plain": [
       "<tensorflow.python.keras.engine.training.Model at 0x7f9fee3d4fd0>"
      ]
     },
     "execution_count": 13,
     "metadata": {
      "tags": []
     },
     "output_type": "execute_result"
    }
   ],
   "source": [
    "dense_net(rotate_train, rotate_test, opt = 'adam', kernel = (3,3), batch_size = 128, lr=0.01, epochs = 12, nb_layers = 14, num_filter=32, dropout_rate=0.2)"
   ]
  },
  {
   "cell_type": "markdown",
   "metadata": {},
   "source": [
    "### Densenet with Adabound optimizer on Randomly rotated images"
   ]
  },
  {
   "cell_type": "code",
   "execution_count": null,
   "metadata": {
    "colab": {
     "base_uri": "https://localhost:8080/",
     "height": 493
    },
    "colab_type": "code",
    "id": "5jx0nQ6lA4Pw",
    "outputId": "924cee03-9add-4875-cf50-0c40c3d156fe"
   },
   "outputs": [
    {
     "name": "stdout",
     "output_type": "stream",
     "text": [
      "Epoch 1/12\n",
      "391/391 [==============================] - 74s 190ms/step - loss: 1.5189 - accuracy: 0.4405 - val_loss: 1.4979 - val_accuracy: 0.4760\n",
      "Epoch 2/12\n",
      "391/391 [==============================] - 73s 188ms/step - loss: 1.1511 - accuracy: 0.5836 - val_loss: 1.3897 - val_accuracy: 0.5422\n",
      "Epoch 3/12\n",
      "391/391 [==============================] - 73s 188ms/step - loss: 1.0109 - accuracy: 0.6360 - val_loss: 1.4037 - val_accuracy: 0.5598\n",
      "Epoch 4/12\n",
      "391/391 [==============================] - 73s 187ms/step - loss: 0.9240 - accuracy: 0.6696 - val_loss: 1.1181 - val_accuracy: 0.6306\n",
      "Epoch 5/12\n",
      "391/391 [==============================] - 73s 188ms/step - loss: 0.8578 - accuracy: 0.6945 - val_loss: 0.9066 - val_accuracy: 0.6979\n",
      "Epoch 6/12\n",
      "391/391 [==============================] - 73s 188ms/step - loss: 0.7968 - accuracy: 0.7195 - val_loss: 1.0753 - val_accuracy: 0.6585\n",
      "Epoch 7/12\n",
      "391/391 [==============================] - 74s 189ms/step - loss: 0.7456 - accuracy: 0.7366 - val_loss: 1.2120 - val_accuracy: 0.6587\n",
      "Epoch 8/12\n",
      "391/391 [==============================] - 74s 189ms/step - loss: 0.7067 - accuracy: 0.7524 - val_loss: 1.3909 - val_accuracy: 0.6449\n",
      "Epoch 9/12\n",
      "391/391 [==============================] - 74s 189ms/step - loss: 0.6722 - accuracy: 0.7626 - val_loss: 1.0683 - val_accuracy: 0.6935\n",
      "Epoch 10/12\n",
      "391/391 [==============================] - 74s 189ms/step - loss: 0.6464 - accuracy: 0.7718 - val_loss: 0.9077 - val_accuracy: 0.7224\n",
      "Epoch 11/12\n",
      "391/391 [==============================] - 74s 190ms/step - loss: 0.6217 - accuracy: 0.7825 - val_loss: 0.7738 - val_accuracy: 0.7523\n",
      "Epoch 12/12\n",
      "391/391 [==============================] - 74s 189ms/step - loss: 0.5981 - accuracy: 0.7894 - val_loss: 0.7366 - val_accuracy: 0.7694\n",
      "313/313 [==============================] - 4s 14ms/step - loss: 0.7366 - accuracy: 0.7694\n",
      "Test loss: 0.7365602254867554\n",
      "Test accuracy: 0.7694000005722046\n"
     ]
    },
    {
     "data": {
      "text/plain": [
       "<tensorflow.python.keras.engine.training.Model at 0x7f9ed90d6f60>"
      ]
     },
     "execution_count": 14,
     "metadata": {
      "tags": []
     },
     "output_type": "execute_result"
    }
   ],
   "source": [
    "dense_net(rotate_train, rotate_test, opt = 'adabound', kernel = (3,3), batch_size = 128, lr=0.001, epochs = 12, nb_layers = 14, num_filter=32, dropout_rate=0.2)"
   ]
  },
  {
   "cell_type": "markdown",
   "metadata": {
    "colab": {},
    "colab_type": "code",
    "id": "ij_u0XC9A4Lc"
   },
   "source": [
    "### Random Brightness Augmentation\n",
    "The brightness of the image can be augmented by either randomly darkening images, brightening images, or both."
   ]
  },
  {
   "cell_type": "code",
   "execution_count": null,
   "metadata": {
    "colab": {},
    "colab_type": "code",
    "id": "UBYjoKD1dz_Q"
   },
   "outputs": [],
   "source": [
    "def brightness_aug(arr_imgs):\n",
    "      # convert to numpy array\n",
    "      d = arr_imgs.copy()\n",
    "      for i in tqdm(range(d.shape[0])):\n",
    "          data = d[i]\n",
    "          # expand dimension to one sample\n",
    "          samples = expand_dims(data, 0)\n",
    "          # create image data augmentation generator\n",
    "          datagen = ImageDataGenerator(brightness_range=[0.4,0.6])\n",
    "          # prepare iterator\n",
    "          it = datagen.flow(samples, batch_size=1)\n",
    "          # generate batch of images\n",
    "          batch = it.next()\n",
    "          # convert to unsigned integers for viewing\n",
    "          image = batch[0].astype('uint8')\n",
    "          d[i] = image\n",
    "      return d"
   ]
  },
  {
   "cell_type": "code",
   "execution_count": null,
   "metadata": {
    "colab": {
     "base_uri": "https://localhost:8080/",
     "height": 254
    },
    "colab_type": "code",
    "id": "F4sWoPyyB9Ct",
    "outputId": "62be35a0-d38d-4e04-cfab-ca0558b734b0"
   },
   "outputs": [
    {
     "name": "stderr",
     "output_type": "stream",
     "text": [
      "100%|██████████| 10000/10000 [00:03<00:00, 3192.19it/s]\n"
     ]
    },
    {
     "data": {
      "image/png": "[encoded data removed]",
      "text/plain": [
       "<Figure size 432x288 with 2 Axes>"
      ]
     },
     "metadata": {
      "needs_background": "light",
      "tags": []
     },
     "output_type": "display_data"
    }
   ],
   "source": [
    "plt.subplot(1,2,1)\n",
    "plt.title('Original image')\n",
    "plt.imshow(X_test[0])\n",
    "plt.subplot(1,2,2)\n",
    "plt.title('Brightness Augmented image')\n",
    "plt.imshow(brightness_aug(X_test)[0])\n",
    "plt.tight_layout()"
   ]
  },
  {
   "cell_type": "code",
   "execution_count": null,
   "metadata": {
    "colab": {
     "base_uri": "https://localhost:8080/",
     "height": 51
    },
    "colab_type": "code",
    "id": "NGSOfA6oB8-L",
    "outputId": "41151860-26ef-4c08-8f00-acfcefdf85ea"
   },
   "outputs": [
    {
     "name": "stderr",
     "output_type": "stream",
     "text": [
      "100%|██████████| 50000/50000 [00:15<00:00, 3160.41it/s]\n",
      "100%|██████████| 10000/10000 [00:03<00:00, 3172.45it/s]\n"
     ]
    }
   ],
   "source": [
    "brightness_train = brightness_aug(X_train)\n",
    "brightness_test  = brightness_aug(X_test)"
   ]
  },
  {
   "cell_type": "code",
   "execution_count": null,
   "metadata": {
    "colab": {
     "base_uri": "https://localhost:8080/",
     "height": 237
    },
    "colab_type": "code",
    "id": "Pm2DBuBpB84R",
    "outputId": "42f22aca-57c6-40bc-e7da-d4a7cbdcc984"
   },
   "outputs": [
    {
     "data": {
      "image/png": "[encoded data removed]",
      "text/plain": [
       "<Figure size 432x288 with 2 Axes>"
      ]
     },
     "metadata": {
      "needs_background": "light",
      "tags": []
     },
     "output_type": "display_data"
    }
   ],
   "source": [
    "plt.subplot(1,2,1)\n",
    "plt.title('Original image')\n",
    "plt.imshow(X_test[10])\n",
    "plt.subplot(1,2,2)\n",
    "plt.title('Brightness Augmented image')\n",
    "plt.imshow(brightness_test[10])\n",
    "plt.tight_layout()"
   ]
  },
  {
   "cell_type": "markdown",
   "metadata": {},
   "source": [
    "### Densenet with Adam optimizer on brightness augmented images"
   ]
  },
  {
   "cell_type": "code",
   "execution_count": null,
   "metadata": {
    "colab": {
     "base_uri": "https://localhost:8080/",
     "height": 493
    },
    "colab_type": "code",
    "id": "3uZYz7aeDxBx",
    "outputId": "8568af22-2ba0-49f4-89e9-0a21c577f9f3"
   },
   "outputs": [
    {
     "name": "stdout",
     "output_type": "stream",
     "text": [
      "Epoch 1/12\n",
      "391/391 [==============================] - 217s 556ms/step - loss: 1.9291 - accuracy: 0.3013 - val_loss: 3.3891 - val_accuracy: 0.1982\n",
      "Epoch 2/12\n",
      "391/391 [==============================] - 216s 553ms/step - loss: 1.4464 - accuracy: 0.4679 - val_loss: 2.2578 - val_accuracy: 0.3819\n",
      "Epoch 3/12\n",
      "391/391 [==============================] - 216s 552ms/step - loss: 1.1569 - accuracy: 0.5807 - val_loss: 1.4491 - val_accuracy: 0.5449\n",
      "Epoch 4/12\n",
      "391/391 [==============================] - 216s 553ms/step - loss: 0.9697 - accuracy: 0.6517 - val_loss: 1.1990 - val_accuracy: 0.6183\n",
      "Epoch 5/12\n",
      "391/391 [==============================] - 216s 553ms/step - loss: 0.8517 - accuracy: 0.6961 - val_loss: 1.5730 - val_accuracy: 0.5499\n",
      "Epoch 6/12\n",
      "391/391 [==============================] - 216s 553ms/step - loss: 0.7829 - accuracy: 0.7220 - val_loss: 1.0720 - val_accuracy: 0.6393\n",
      "Epoch 7/12\n",
      "391/391 [==============================] - 216s 553ms/step - loss: 0.7178 - accuracy: 0.7456 - val_loss: 0.9923 - val_accuracy: 0.6899\n",
      "Epoch 8/12\n",
      "391/391 [==============================] - 216s 553ms/step - loss: 0.6681 - accuracy: 0.7633 - val_loss: 1.2446 - val_accuracy: 0.6452\n",
      "Epoch 9/12\n",
      "391/391 [==============================] - 216s 552ms/step - loss: 0.6235 - accuracy: 0.7829 - val_loss: 1.1510 - val_accuracy: 0.6597\n",
      "Epoch 10/12\n",
      "391/391 [==============================] - 216s 552ms/step - loss: 0.5856 - accuracy: 0.7928 - val_loss: 1.0720 - val_accuracy: 0.6698\n",
      "Epoch 11/12\n",
      "391/391 [==============================] - 216s 552ms/step - loss: 0.5531 - accuracy: 0.8048 - val_loss: 0.6220 - val_accuracy: 0.7869\n",
      "Epoch 12/12\n",
      "391/391 [==============================] - 216s 552ms/step - loss: 0.5189 - accuracy: 0.8176 - val_loss: 0.7033 - val_accuracy: 0.7657\n",
      "313/313 [==============================] - 14s 43ms/step - loss: 0.7033 - accuracy: 0.7657\n",
      "Test loss: 0.7032578587532043\n",
      "Test accuracy: 0.7656999826431274\n"
     ]
    },
    {
     "data": {
      "text/plain": [
       "<tensorflow.python.keras.engine.training.Model at 0x7f83c720f9b0>"
      ]
     },
     "execution_count": 31,
     "metadata": {
      "tags": []
     },
     "output_type": "execute_result"
    }
   ],
   "source": [
    "dense_net(brightness_train, brightness_test, opt = 'adam', kernel = (3,3), batch_size = 128, lr=0.01, epochs = 12, nb_layers = 14, num_filter=32, dropout_rate=0.2)"
   ]
  },
  {
   "cell_type": "markdown",
   "metadata": {},
   "source": [
    "### Densenet with Adabound optimizer on brightness augmented images"
   ]
  },
  {
   "cell_type": "code",
   "execution_count": null,
   "metadata": {
    "colab": {
     "base_uri": "https://localhost:8080/",
     "height": 493
    },
    "colab_type": "code",
    "id": "aXqgtjAODwtP",
    "outputId": "36289899-cc71-4191-a069-a51ea17d257c"
   },
   "outputs": [
    {
     "name": "stdout",
     "output_type": "stream",
     "text": [
      "Epoch 1/12\n",
      "391/391 [==============================] - 254s 651ms/step - loss: 1.5354 - accuracy: 0.4341 - val_loss: 1.8016 - val_accuracy: 0.4218\n",
      "Epoch 2/12\n",
      "391/391 [==============================] - 254s 649ms/step - loss: 1.1352 - accuracy: 0.5904 - val_loss: 1.5769 - val_accuracy: 0.4941\n",
      "Epoch 3/12\n",
      "391/391 [==============================] - 254s 649ms/step - loss: 0.9739 - accuracy: 0.6515 - val_loss: 1.8927 - val_accuracy: 0.5198\n",
      "Epoch 4/12\n",
      "391/391 [==============================] - 254s 650ms/step - loss: 0.8691 - accuracy: 0.6878 - val_loss: 1.1923 - val_accuracy: 0.6290\n",
      "Epoch 5/12\n",
      "391/391 [==============================] - 254s 650ms/step - loss: 0.8054 - accuracy: 0.7118 - val_loss: 0.8941 - val_accuracy: 0.6966\n",
      "Epoch 6/12\n",
      "391/391 [==============================] - 254s 649ms/step - loss: 0.7486 - accuracy: 0.7351 - val_loss: 0.9974 - val_accuracy: 0.6899\n",
      "Epoch 7/12\n",
      "391/391 [==============================] - 253s 647ms/step - loss: 0.7057 - accuracy: 0.7496 - val_loss: 0.8454 - val_accuracy: 0.7243\n",
      "Epoch 8/12\n",
      "391/391 [==============================] - 254s 649ms/step - loss: 0.6528 - accuracy: 0.7676 - val_loss: 0.8242 - val_accuracy: 0.7329\n",
      "Epoch 9/12\n",
      "391/391 [==============================] - 254s 649ms/step - loss: 0.6202 - accuracy: 0.7806 - val_loss: 0.7359 - val_accuracy: 0.7583\n",
      "Epoch 10/12\n",
      "391/391 [==============================] - 254s 649ms/step - loss: 0.5942 - accuracy: 0.7896 - val_loss: 0.7184 - val_accuracy: 0.7748\n",
      "Epoch 11/12\n",
      "391/391 [==============================] - 253s 648ms/step - loss: 0.5655 - accuracy: 0.8020 - val_loss: 0.6973 - val_accuracy: 0.7820\n",
      "Epoch 12/12\n",
      "391/391 [==============================] - 253s 647ms/step - loss: 0.5427 - accuracy: 0.8086 - val_loss: 0.7224 - val_accuracy: 0.7705\n",
      "313/313 [==============================] - 14s 43ms/step - loss: 0.7224 - accuracy: 0.7705\n",
      "Test loss: 0.7224476337432861\n",
      "Test accuracy: 0.7705000042915344\n"
     ]
    },
    {
     "data": {
      "text/plain": [
       "<tensorflow.python.keras.engine.training.Model at 0x7f83d1974ef0>"
      ]
     },
     "execution_count": 32,
     "metadata": {
      "tags": []
     },
     "output_type": "execute_result"
    }
   ],
   "source": [
    "dense_net(brightness_train, brightness_test, opt = 'adabound', kernel = (3,3), batch_size = 128, lr=0.001, epochs = 12, nb_layers = 14, num_filter=32, dropout_rate=0.2)"
   ]
  },
  {
   "cell_type": "markdown",
   "metadata": {
    "colab": {},
    "colab_type": "code",
    "id": "Zl-sqULeoMdN"
   },
   "source": [
    "### Random Zoom Augmentation\n",
    "A zoom augmentation randomly zooms the image in and either adds new pixel values around the image or interpolates pixel values respectively."
   ]
  },
  {
   "cell_type": "code",
   "execution_count": null,
   "metadata": {
    "colab": {},
    "colab_type": "code",
    "id": "oAO1AQ7H9G7B"
   },
   "outputs": [],
   "source": [
    "def zoom_img(arr_imgs):\n",
    "      # convert to numpy array\n",
    "      d = arr_imgs.copy()\n",
    "      for i in tqdm(range(d.shape[0])):\n",
    "          data = d[i]\n",
    "          # expand dimension to one sample\n",
    "          samples = expand_dims(data, 0)\n",
    "          # create image data augmentation generator\n",
    "          datagen = ImageDataGenerator(zoom_range = 0.3)\n",
    "          # prepare iterator\n",
    "          it = datagen.flow(samples, batch_size=1)\n",
    "          # generate batch of images\n",
    "          batch = it.next()\n",
    "          # convert to unsigned integers for viewing\n",
    "          image = batch[0].astype('uint8')\n",
    "          d[i] = image\n",
    "      return d"
   ]
  },
  {
   "cell_type": "code",
   "execution_count": null,
   "metadata": {
    "colab": {
     "base_uri": "https://localhost:8080/",
     "height": 261
    },
    "colab_type": "code",
    "id": "dqXTKpG59GyJ",
    "outputId": "a2320634-b497-4dda-d72a-08227451dc20"
   },
   "outputs": [
    {
     "name": "stderr",
     "output_type": "stream",
     "text": [
      "100%|██████████| 10000/10000 [00:05<00:00, 1752.91it/s]\n"
     ]
    },
    {
     "data": {
      "image/png": "[encoded data removed]",
      "text/plain": [
       "<Figure size 432x288 with 2 Axes>"
      ]
     },
     "metadata": {
      "needs_background": "light",
      "tags": []
     },
     "output_type": "display_data"
    }
   ],
   "source": [
    "plt.subplot(1,2,1)\n",
    "plt.title('Original image')\n",
    "plt.imshow(X_test[0])\n",
    "plt.subplot(1,2,2)\n",
    "plt.title('zoom image')\n",
    "plt.imshow(zoom_img(X_test)[0])\n",
    "plt.tight_layout()"
   ]
  },
  {
   "cell_type": "code",
   "execution_count": null,
   "metadata": {
    "colab": {
     "base_uri": "https://localhost:8080/",
     "height": 51
    },
    "colab_type": "code",
    "id": "86Jb9ge49WsG",
    "outputId": "a466ee69-b9fc-4ccb-c5d6-2727231886e1"
   },
   "outputs": [
    {
     "name": "stderr",
     "output_type": "stream",
     "text": [
      "100%|██████████| 50000/50000 [00:28<00:00, 1741.30it/s]\n",
      "100%|██████████| 10000/10000 [00:05<00:00, 1748.68it/s]\n"
     ]
    }
   ],
   "source": [
    "zoom_train = zoom_img(X_train)\n",
    "zoom_test  = zoom_img(X_test)"
   ]
  },
  {
   "cell_type": "code",
   "execution_count": null,
   "metadata": {
    "colab": {
     "base_uri": "https://localhost:8080/",
     "height": 244
    },
    "colab_type": "code",
    "id": "WiW8ilxu9Wlg",
    "outputId": "0e00559d-1964-42cf-aae1-1c61e3c5cdf4"
   },
   "outputs": [
    {
     "data": {
      "image/png": "[encoded data removed]",
      "text/plain": [
       "<Figure size 432x288 with 2 Axes>"
      ]
     },
     "metadata": {
      "needs_background": "light",
      "tags": []
     },
     "output_type": "display_data"
    }
   ],
   "source": [
    "plt.subplot(1,2,1)\n",
    "plt.title('Original image')\n",
    "plt.imshow(X_test[20])\n",
    "plt.subplot(1,2,2)\n",
    "plt.title('zoom image')\n",
    "plt.imshow(zoom_test[20])\n",
    "plt.tight_layout()"
   ]
  },
  {
   "cell_type": "markdown",
   "metadata": {},
   "source": [
    "### Densenet with Adam optimizer on zoom augmented images"
   ]
  },
  {
   "cell_type": "code",
   "execution_count": null,
   "metadata": {
    "colab": {
     "base_uri": "https://localhost:8080/",
     "height": 493
    },
    "colab_type": "code",
    "id": "pg23fWJ59WXv",
    "outputId": "64db6a45-6791-41be-f49a-a771e36fcd53"
   },
   "outputs": [
    {
     "name": "stdout",
     "output_type": "stream",
     "text": [
      "Epoch 1/12\n",
      "391/391 [==============================] - 217s 555ms/step - loss: 1.9448 - accuracy: 0.3022 - val_loss: 2.9470 - val_accuracy: 0.2425\n",
      "Epoch 2/12\n",
      "391/391 [==============================] - 216s 553ms/step - loss: 1.5024 - accuracy: 0.4537 - val_loss: 1.7987 - val_accuracy: 0.4300\n",
      "Epoch 3/12\n",
      "391/391 [==============================] - 216s 553ms/step - loss: 1.2941 - accuracy: 0.5345 - val_loss: 1.4026 - val_accuracy: 0.5100\n",
      "Epoch 4/12\n",
      "391/391 [==============================] - 216s 553ms/step - loss: 1.1311 - accuracy: 0.5976 - val_loss: 1.6361 - val_accuracy: 0.4574\n",
      "Epoch 5/12\n",
      "391/391 [==============================] - 216s 553ms/step - loss: 1.0149 - accuracy: 0.6384 - val_loss: 2.1997 - val_accuracy: 0.4788\n",
      "Epoch 6/12\n",
      "391/391 [==============================] - 216s 553ms/step - loss: 0.9173 - accuracy: 0.6736 - val_loss: 1.6966 - val_accuracy: 0.5446\n",
      "Epoch 7/12\n",
      "391/391 [==============================] - 216s 553ms/step - loss: 0.8392 - accuracy: 0.7046 - val_loss: 1.4952 - val_accuracy: 0.5563\n",
      "Epoch 8/12\n",
      "391/391 [==============================] - 216s 552ms/step - loss: 0.7754 - accuracy: 0.7277 - val_loss: 2.0199 - val_accuracy: 0.4748\n",
      "Epoch 9/12\n",
      "391/391 [==============================] - 216s 552ms/step - loss: 0.7149 - accuracy: 0.7494 - val_loss: 1.3659 - val_accuracy: 0.6238\n",
      "Epoch 10/12\n",
      "391/391 [==============================] - 216s 552ms/step - loss: 0.6728 - accuracy: 0.7630 - val_loss: 0.9993 - val_accuracy: 0.6758\n",
      "Epoch 11/12\n",
      "391/391 [==============================] - 216s 552ms/step - loss: 0.6366 - accuracy: 0.7780 - val_loss: 1.2968 - val_accuracy: 0.6501\n",
      "Epoch 12/12\n",
      "391/391 [==============================] - 216s 551ms/step - loss: 0.6024 - accuracy: 0.7896 - val_loss: 0.8213 - val_accuracy: 0.7384\n",
      "313/313 [==============================] - 14s 43ms/step - loss: 0.8213 - accuracy: 0.7384\n",
      "Test loss: 0.8213046789169312\n",
      "Test accuracy: 0.7383999824523926\n"
     ]
    },
    {
     "data": {
      "text/plain": [
       "<tensorflow.python.keras.engine.training.Model at 0x7f83c62da5f8>"
      ]
     },
     "execution_count": 50,
     "metadata": {
      "tags": []
     },
     "output_type": "execute_result"
    }
   ],
   "source": [
    "dense_net(zoom_train, zoom_test, opt = 'adam', kernel = (3,3), batch_size = 128, lr=0.01, epochs = 12, nb_layers = 14, num_filter=32, dropout_rate=0.2)"
   ]
  },
  {
   "cell_type": "markdown",
   "metadata": {},
   "source": [
    "### Densenet with Adabound optimizer on zoom augmented images"
   ]
  },
  {
   "cell_type": "code",
   "execution_count": null,
   "metadata": {
    "colab": {
     "base_uri": "https://localhost:8080/",
     "height": 493
    },
    "colab_type": "code",
    "id": "4GuMfExh92x0",
    "outputId": "ae071ca5-412a-4513-807f-cd80a3a406d1"
   },
   "outputs": [
    {
     "name": "stdout",
     "output_type": "stream",
     "text": [
      "Epoch 1/12\n",
      "391/391 [==============================] - 254s 651ms/step - loss: 1.6096 - accuracy: 0.4108 - val_loss: 1.5132 - val_accuracy: 0.4600\n",
      "Epoch 2/12\n",
      "391/391 [==============================] - 253s 646ms/step - loss: 1.2751 - accuracy: 0.5391 - val_loss: 2.1127 - val_accuracy: 0.3542\n",
      "Epoch 3/12\n",
      "391/391 [==============================] - 253s 648ms/step - loss: 1.1112 - accuracy: 0.6007 - val_loss: 1.2096 - val_accuracy: 0.5697\n",
      "Epoch 4/12\n",
      "391/391 [==============================] - 253s 647ms/step - loss: 1.0037 - accuracy: 0.6421 - val_loss: 1.2303 - val_accuracy: 0.6034\n",
      "Epoch 5/12\n",
      "391/391 [==============================] - 254s 650ms/step - loss: 0.9192 - accuracy: 0.6719 - val_loss: 1.3056 - val_accuracy: 0.6033\n",
      "Epoch 6/12\n",
      "391/391 [==============================] - 253s 648ms/step - loss: 0.8565 - accuracy: 0.6940 - val_loss: 1.2001 - val_accuracy: 0.6219\n",
      "Epoch 7/12\n",
      "391/391 [==============================] - 253s 648ms/step - loss: 0.8086 - accuracy: 0.7137 - val_loss: 0.9756 - val_accuracy: 0.6814\n",
      "Epoch 8/12\n",
      "391/391 [==============================] - 252s 644ms/step - loss: 0.7638 - accuracy: 0.7289 - val_loss: 1.2130 - val_accuracy: 0.6442\n",
      "Epoch 9/12\n",
      "391/391 [==============================] - 253s 647ms/step - loss: 0.7270 - accuracy: 0.7426 - val_loss: 0.9410 - val_accuracy: 0.7023\n",
      "Epoch 10/12\n",
      "391/391 [==============================] - 253s 647ms/step - loss: 0.6910 - accuracy: 0.7583 - val_loss: 0.8241 - val_accuracy: 0.7291\n",
      "Epoch 11/12\n",
      "391/391 [==============================] - 253s 646ms/step - loss: 0.6649 - accuracy: 0.7634 - val_loss: 0.9765 - val_accuracy: 0.7046\n",
      "Epoch 12/12\n",
      "391/391 [==============================] - 254s 648ms/step - loss: 0.6372 - accuracy: 0.7727 - val_loss: 0.7615 - val_accuracy: 0.7560\n",
      "313/313 [==============================] - 14s 44ms/step - loss: 0.7615 - accuracy: 0.7560\n",
      "Test loss: 0.7614750266075134\n",
      "Test accuracy: 0.7559999823570251\n"
     ]
    },
    {
     "data": {
      "text/plain": [
       "<tensorflow.python.keras.engine.training.Model at 0x7f83b1d709b0>"
      ]
     },
     "execution_count": 51,
     "metadata": {
      "tags": []
     },
     "output_type": "execute_result"
    }
   ],
   "source": [
    "dense_net(zoom_train, zoom_test, opt = 'adabound', kernel = (3,3), batch_size = 128, lr=0.001, epochs = 12, nb_layers = 14, num_filter=32, dropout_rate=0.2)"
   ]
  },
  {
   "cell_type": "markdown",
   "metadata": {
    "colab": {},
    "colab_type": "code",
    "id": "LMnwpX1V92sB"
   },
   "source": [
    "### Feature Standardization"
   ]
  },
  {
   "cell_type": "code",
   "execution_count": null,
   "metadata": {
    "colab": {},
    "colab_type": "code",
    "id": "HdZ5T57PoL8x"
   },
   "outputs": [],
   "source": [
    "def features_standardized(arr_imgs):\n",
    "      # convert to numpy array\n",
    "      d = arr_imgs.copy()\n",
    "      for i in tqdm(range(d.shape[0])):\n",
    "          data = d[i]\n",
    "          # expand dimension to one sample\n",
    "          samples = expand_dims(data, 0)\n",
    "          # create image data augmentation generator\n",
    "          datagen = ImageDataGenerator(featurewise_center=True, featurewise_std_normalization=True)\n",
    "          # prepare iterator\n",
    "          it = datagen.flow(samples, batch_size=1)\n",
    "          # generate batch of images\n",
    "          batch = it.next()\n",
    "          # convert to unsigned integers for viewing\n",
    "          image = batch[0].astype('uint8')\n",
    "          d[i] = image\n",
    "      return d"
   ]
  },
  {
   "cell_type": "code",
   "execution_count": null,
   "metadata": {
    "colab": {
     "base_uri": "https://localhost:8080/",
     "height": 345
    },
    "colab_type": "code",
    "id": "OuUWpYpXCjDd",
    "outputId": "ab7c91e2-dbd9-4878-b52a-7468c96013c5"
   },
   "outputs": [
    {
     "name": "stderr",
     "output_type": "stream",
     "text": [
      "  0%|          | 0/10000 [00:00<?, ?it/s]/usr/local/lib/python3.6/dist-packages/keras_preprocessing/image/image_data_generator.py:720: UserWarning: This ImageDataGenerator specifies `featurewise_center`, but it hasn't been fit on any training data. Fit it first by calling `.fit(numpy_data)`.\n",
      "  warnings.warn('This ImageDataGenerator specifies '\n",
      "/usr/local/lib/python3.6/dist-packages/keras_preprocessing/image/image_data_generator.py:728: UserWarning: This ImageDataGenerator specifies `featurewise_std_normalization`, but it hasn't been fit on any training data. Fit it first by calling `.fit(numpy_data)`.\n",
      "  warnings.warn('This ImageDataGenerator specifies '\n",
      "100%|██████████| 10000/10000 [00:00<00:00, 10156.94it/s]\n"
     ]
    },
    {
     "data": {
      "image/png": "[encoded data removed]",
      "text/plain": [
       "<Figure size 432x288 with 2 Axes>"
      ]
     },
     "metadata": {
      "needs_background": "light",
      "tags": []
     },
     "output_type": "display_data"
    }
   ],
   "source": [
    "plt.subplot(1,2,1)\n",
    "plt.title('Original image')\n",
    "plt.imshow(X_test[0])\n",
    "plt.subplot(1,2,2)\n",
    "plt.title('feature standardized image')\n",
    "plt.imshow(features_standardized(X_test)[0])\n",
    "plt.tight_layout()"
   ]
  },
  {
   "cell_type": "code",
   "execution_count": null,
   "metadata": {
    "colab": {
     "base_uri": "https://localhost:8080/",
     "height": 139
    },
    "colab_type": "code",
    "id": "T9GRCeGCCjAB",
    "outputId": "57eb3de0-a2eb-450f-84c5-c0147851912c"
   },
   "outputs": [
    {
     "name": "stderr",
     "output_type": "stream",
     "text": [
      "  0%|          | 0/50000 [00:00<?, ?it/s]/usr/local/lib/python3.6/dist-packages/keras_preprocessing/image/image_data_generator.py:720: UserWarning: This ImageDataGenerator specifies `featurewise_center`, but it hasn't been fit on any training data. Fit it first by calling `.fit(numpy_data)`.\n",
      "  warnings.warn('This ImageDataGenerator specifies '\n",
      "/usr/local/lib/python3.6/dist-packages/keras_preprocessing/image/image_data_generator.py:728: UserWarning: This ImageDataGenerator specifies `featurewise_std_normalization`, but it hasn't been fit on any training data. Fit it first by calling `.fit(numpy_data)`.\n",
      "  warnings.warn('This ImageDataGenerator specifies '\n",
      "100%|██████████| 50000/50000 [00:04<00:00, 10218.31it/s]\n",
      "100%|██████████| 10000/10000 [00:00<00:00, 10184.20it/s]\n"
     ]
    }
   ],
   "source": [
    "features_std_train = features_standardized(X_train)\n",
    "features_std_test  = features_standardized(X_test)"
   ]
  },
  {
   "cell_type": "code",
   "execution_count": null,
   "metadata": {
    "colab": {
     "base_uri": "https://localhost:8080/",
     "height": 240
    },
    "colab_type": "code",
    "id": "AIeYYUnyCi7e",
    "outputId": "07aa10ad-f5e8-4629-e2fd-792be4d45d05"
   },
   "outputs": [
    {
     "data": {
      "image/png": "[encoded data removed]",
      "text/plain": [
       "<Figure size 432x288 with 2 Axes>"
      ]
     },
     "metadata": {
      "needs_background": "light",
      "tags": []
     },
     "output_type": "display_data"
    }
   ],
   "source": [
    "plt.subplot(1,2,1)\n",
    "plt.title('Original image')\n",
    "plt.imshow(X_test[10])\n",
    "plt.subplot(1,2,2)\n",
    "plt.title('feature standardized image')\n",
    "plt.imshow(features_std_test[10])\n",
    "plt.tight_layout()"
   ]
  },
  {
   "cell_type": "code",
   "execution_count": null,
   "metadata": {
    "colab": {
     "base_uri": "https://localhost:8080/",
     "height": 493
    },
    "colab_type": "code",
    "id": "4muvd8rUCi2R",
    "outputId": "798b366b-b9f6-4f93-d481-cbe1bbe1a64c"
   },
   "outputs": [
    {
     "name": "stdout",
     "output_type": "stream",
     "text": [
      "Epoch 1/12\n",
      "391/391 [==============================] - 217s 555ms/step - loss: 1.9040 - accuracy: 0.3162 - val_loss: 3.9638 - val_accuracy: 0.1742\n",
      "Epoch 2/12\n",
      "391/391 [==============================] - 216s 553ms/step - loss: 1.3566 - accuracy: 0.5072 - val_loss: 1.7760 - val_accuracy: 0.4383\n",
      "Epoch 3/12\n",
      "391/391 [==============================] - 216s 553ms/step - loss: 1.0746 - accuracy: 0.6158 - val_loss: 1.2777 - val_accuracy: 0.5916\n",
      "Epoch 4/12\n",
      "391/391 [==============================] - 216s 553ms/step - loss: 0.9234 - accuracy: 0.6698 - val_loss: 1.1222 - val_accuracy: 0.6154\n",
      "Epoch 5/12\n",
      "391/391 [==============================] - 216s 553ms/step - loss: 0.8229 - accuracy: 0.7068 - val_loss: 1.2144 - val_accuracy: 0.6238\n",
      "Epoch 6/12\n",
      "391/391 [==============================] - 216s 553ms/step - loss: 0.7431 - accuracy: 0.7361 - val_loss: 0.9702 - val_accuracy: 0.6788\n",
      "Epoch 7/12\n",
      "391/391 [==============================] - 216s 553ms/step - loss: 0.6750 - accuracy: 0.7632 - val_loss: 0.8837 - val_accuracy: 0.7025\n",
      "Epoch 8/12\n",
      "391/391 [==============================] - 216s 553ms/step - loss: 0.6221 - accuracy: 0.7815 - val_loss: 0.7705 - val_accuracy: 0.7407\n",
      "Epoch 9/12\n",
      "391/391 [==============================] - 216s 553ms/step - loss: 0.5735 - accuracy: 0.7997 - val_loss: 0.9569 - val_accuracy: 0.6876\n",
      "Epoch 10/12\n",
      "391/391 [==============================] - 216s 552ms/step - loss: 0.5360 - accuracy: 0.8120 - val_loss: 0.7737 - val_accuracy: 0.7401\n",
      "Epoch 11/12\n",
      "391/391 [==============================] - 216s 552ms/step - loss: 0.4969 - accuracy: 0.8267 - val_loss: 0.9138 - val_accuracy: 0.7093\n",
      "Epoch 12/12\n",
      "391/391 [==============================] - 216s 552ms/step - loss: 0.4742 - accuracy: 0.8345 - val_loss: 0.6608 - val_accuracy: 0.7845\n",
      "313/313 [==============================] - 14s 43ms/step - loss: 0.6608 - accuracy: 0.7845\n",
      "Test loss: 0.6607704162597656\n",
      "Test accuracy: 0.784500002861023\n"
     ]
    },
    {
     "data": {
      "text/plain": [
       "<tensorflow.python.keras.engine.training.Model at 0x7f83bbb10cc0>"
      ]
     },
     "execution_count": 37,
     "metadata": {
      "tags": []
     },
     "output_type": "execute_result"
    }
   ],
   "source": [
    "dense_net(features_std_train, features_std_test, opt = 'adam', kernel = (3,3), batch_size = 128, lr=0.01, epochs = 12, nb_layers = 14, num_filter=32, dropout_rate=0.2)"
   ]
  },
  {
   "cell_type": "code",
   "execution_count": null,
   "metadata": {
    "colab": {
     "base_uri": "https://localhost:8080/",
     "height": 493
    },
    "colab_type": "code",
    "id": "kBCiUIwGCiwh",
    "outputId": "d1be9a22-c15c-4a23-c8c3-be47b204e260"
   },
   "outputs": [
    {
     "name": "stdout",
     "output_type": "stream",
     "text": [
      "Epoch 1/12\n",
      "391/391 [==============================] - 254s 648ms/step - loss: 1.4655 - accuracy: 0.4617 - val_loss: 1.8882 - val_accuracy: 0.4257\n",
      "Epoch 2/12\n",
      "391/391 [==============================] - 252s 646ms/step - loss: 1.0697 - accuracy: 0.6142 - val_loss: 1.3740 - val_accuracy: 0.5629\n",
      "Epoch 3/12\n",
      "391/391 [==============================] - 253s 646ms/step - loss: 0.9261 - accuracy: 0.6671 - val_loss: 1.1422 - val_accuracy: 0.6133\n",
      "Epoch 4/12\n",
      "391/391 [==============================] - 252s 645ms/step - loss: 0.8359 - accuracy: 0.7018 - val_loss: 0.9278 - val_accuracy: 0.6826\n",
      "Epoch 5/12\n",
      "391/391 [==============================] - 252s 646ms/step - loss: 0.7657 - accuracy: 0.7264 - val_loss: 1.4296 - val_accuracy: 0.5995\n",
      "Epoch 6/12\n",
      "391/391 [==============================] - 253s 647ms/step - loss: 0.7134 - accuracy: 0.7461 - val_loss: 1.2363 - val_accuracy: 0.6361\n",
      "Epoch 7/12\n",
      "391/391 [==============================] - 253s 646ms/step - loss: 0.6650 - accuracy: 0.7660 - val_loss: 1.0672 - val_accuracy: 0.6619\n",
      "Epoch 8/12\n",
      "391/391 [==============================] - 252s 645ms/step - loss: 0.6361 - accuracy: 0.7743 - val_loss: 0.9204 - val_accuracy: 0.7051\n",
      "Epoch 9/12\n",
      "391/391 [==============================] - 253s 646ms/step - loss: 0.6037 - accuracy: 0.7865 - val_loss: 1.0058 - val_accuracy: 0.7118\n",
      "Epoch 10/12\n",
      "391/391 [==============================] - 253s 646ms/step - loss: 0.5719 - accuracy: 0.7999 - val_loss: 0.7423 - val_accuracy: 0.7667\n",
      "Epoch 11/12\n",
      "391/391 [==============================] - 253s 646ms/step - loss: 0.5501 - accuracy: 0.8065 - val_loss: 0.7140 - val_accuracy: 0.7806\n",
      "Epoch 12/12\n",
      "391/391 [==============================] - 253s 646ms/step - loss: 0.5226 - accuracy: 0.8167 - val_loss: 0.7244 - val_accuracy: 0.7719\n",
      "313/313 [==============================] - 14s 43ms/step - loss: 0.7244 - accuracy: 0.7719\n",
      "Test loss: 0.7243761420249939\n",
      "Test accuracy: 0.7718999981880188\n"
     ]
    },
    {
     "data": {
      "text/plain": [
       "<tensorflow.python.keras.engine.training.Model at 0x7f83b88bb668>"
      ]
     },
     "execution_count": 38,
     "metadata": {
      "tags": []
     },
     "output_type": "execute_result"
    }
   ],
   "source": [
    "dense_net(features_std_train, features_std_test, opt = 'adabound', kernel = (3,3), batch_size = 128, lr=0.001, epochs = 12, nb_layers = 14, num_filter=32, dropout_rate=0.2)"
   ]
  },
  {
   "cell_type": "code",
   "execution_count": null,
   "metadata": {
    "colab": {},
    "colab_type": "code",
    "id": "7pMlL_yYCil5"
   },
   "outputs": [],
   "source": []
  },
  {
   "cell_type": "code",
   "execution_count": 19,
   "metadata": {
    "colab": {},
    "colab_type": "code",
    "id": "CKzuA17Oeoqy"
   },
   "outputs": [
    {
     "name": "stdout",
     "output_type": "stream",
     "text": [
      "+--------------------------------------------------------------------------------------+\n",
      "|                       Image Augmentation Techniques Comparison                       |\n",
      "+-------------------------------------+-----------+-------------+-----------+----------+\n",
      "|             Augmentation            | nb_layers | num_filters | Optimizer | Accuracy |\n",
      "+-------------------------------------+-----------+-------------+-----------+----------+\n",
      "| Vertically and Horizontally shifted |     14    |      32     |    Adam   |  54.42   |\n",
      "| Vertically and Horizontally shifted |     14    |      32     |  Adabound |  63.44   |\n",
      "|                                     |           |             |           |          |\n",
      "| Vertically and Horizontally flipped |     14    |      32     |    Adam   |  61.68   |\n",
      "| Vertically and Horizontally flipped |     14    |      32     |  Adabound |  67.77   |\n",
      "|                                     |           |             |           |          |\n",
      "|     Random Rotation Augmentation    |     14    |      32     |    Adam   |  74.66   |\n",
      "|     Random Rotaion Augmentation     |     14    |      32     |  Adabound |  76.94   |\n",
      "|                                     |           |             |           |          |\n",
      "|    Random Brightness Augmentation   |     14    |      32     |    Adam   |  76.56   |\n",
      "|    Random Brightness Augmentation   |     14    |      32     |  Adabound |  77.05   |\n",
      "|                                     |           |             |           |          |\n",
      "|       Random Zoom Augmentation      |     14    |      32     |    Adam   |  73.83   |\n",
      "|       Random Zoom Augmentation      |     14    |      32     |  Adabound |  75.59   |\n",
      "|                                     |           |             |           |          |\n",
      "|       Feature Standardization       |     14    |      32     |    Adam   |  78.42   |\n",
      "|       Feature Standardization       |     14    |      32     |  Adabound |  77.18   |\n",
      "+-------------------------------------+-----------+-------------+-----------+----------+\n"
     ]
    }
   ],
   "source": [
    "# Please compare all your models using Prettytable library\n",
    "# Please compare all your models using Prettytable library\n",
    "#http://zetcode.com/python/prettytable/\n",
    "from prettytable import PrettyTable\n",
    "Adam = 'Adam'\n",
    "Adabound = 'Adabound'\n",
    "\n",
    "x = PrettyTable()\n",
    "x.title = \"Image Augmentation Techniques Comparison\"\n",
    "x.field_names = [\"Augmentation\", \"nb_layers\",'num_filters',\"Optimizer\",\"Accuracy\"]\n",
    "x.add_row([\"Vertically and Horizontally shifted\",14,32,Adam, 54.42])\n",
    "x.add_row([\"Vertically and Horizontally shifted\",14,32,Adabound, 63.44])\n",
    "x.add_row(['','','','',''])\n",
    "x.add_row([\"Vertically and Horizontally flipped\",14,32,Adam, 61.68])\n",
    "x.add_row([\"Vertically and Horizontally flipped\",14,32,Adabound, 67.77])\n",
    "x.add_row(['','','','',''])\n",
    "x.add_row([\"Random Rotation Augmentation\",14,32,Adam, 74.66])\n",
    "x.add_row([\"Random Rotaion Augmentation\",14,32,Adabound, 76.94])\n",
    "x.add_row(['','','','',''])\n",
    "x.add_row([\"Random Brightness Augmentation\",14,32,Adam, 76.56])\n",
    "x.add_row([\"Random Brightness Augmentation\",14,32,Adabound, 77.05])\n",
    "x.add_row(['','','','',''])\n",
    "x.add_row([\"Random Zoom Augmentation\",14,32,Adam, 73.83])\n",
    "x.add_row([\"Random Zoom Augmentation\",14,32,Adabound, 75.59])\n",
    "x.add_row(['','','','',''])\n",
    "x.add_row([\"Feature Standardization\",14,32,Adam, 78.42])\n",
    "x.add_row([\"Feature Standardization\",14,32,Adabound, 77.18])\n",
    "\n",
    "print(x)"
   ]
  },
  {
   "cell_type": "markdown",
   "metadata": {},
   "source": [
    "__We will select the image data augmentation techniques which influence the test accuracy highly__ \n",
    "\n",
    "__Techniques with high test accuracy such as feature standardization, zoom augmentation, Rotation Augmentation, etc. will be used to build the final Densenet model__ "
   ]
  },
  {
   "cell_type": "code",
   "execution_count": null,
   "metadata": {},
   "outputs": [],
   "source": []
  }
 ],
 "metadata": {
  "accelerator": "GPU",
  "colab": {
   "collapsed_sections": [],
   "name": "DenseNet_cifar10 (1).ipynb",
   "provenance": []
  },
  "kernelspec": {
   "display_name": "Python 3",
   "language": "python",
   "name": "python3"
  },
  "language_info": {
   "codemirror_mode": {
    "name": "ipython",
    "version": 3
   },
   "file_extension": ".py",
   "mimetype": "text/x-python",
   "name": "python",
   "nbconvert_exporter": "python",
   "pygments_lexer": "ipython3",
   "version": "3.6.7"
  }
 },
 "nbformat": 4,
 "nbformat_minor": 1
}
